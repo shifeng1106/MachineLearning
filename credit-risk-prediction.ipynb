{
 "cells": [
  {
   "cell_type": "markdown",
   "id": "cf298fb4",
   "metadata": {
    "papermill": {
     "duration": 0.012113,
     "end_time": "2022-07-29T00:58:29.899227",
     "exception": false,
     "start_time": "2022-07-29T00:58:29.887114",
     "status": "completed"
    },
    "tags": []
   },
   "source": [
    "\n",
    "# Feature Selection\n",
    "\n",
    "<font size=4>**Feature selection** can be an important part of model selection. In supervised learning, including features in a model which do not provide information on the label is useless at best and may prevent generalization at worst.\n",
    "\n",
    "Feature selection can involve application of several methods. Two important methods include:\n",
    "1. Eliminating features with **low variance** and **zero variance**. Zero variance features are comprised of the same values. Low variance features arise from features with most values the same and with few unique values. **<font color=blue>One way low variance features can arise, is from dummy variables for categories with very few members. The dummy variable will be mostly 0s with very few 1s.<br><br></font>** \n",
    "2. Training ML models with features that are **uninformative** can create problems. An uninformative feature does not significantly improve model performance. In many cases, the noise in the uninformative features will increase the variance of the model predictions. <br>**<font color=blue>In other words, uninformative models are likely to reduce the ability of the machine learning model to generalize.**  <br> \n",
    "    </font>\n",
    "****\n",
    "\n",
    "\n",
    "<font size=4>**Note:** the second case of feature selection involves applying a selection statistic or hypothesis test multiple times. For large number of features, this process is very likely to lead to false positive and false negative results. This likely outcome is known as the **multiple comparisons problem** in statistics.<br><br>\n",
    "\n",
    "To understand this problem, consider the decision to keep a feature in a model as a hypothesis test. Any hypothesis test has some probability of both a false positive result and a false negative result. Consider a case where there are 40 uninformative features which are excluded from the model with 95% confidence. There will be an approximately 5% chance of accepting a feature which should be rejected. In this case we would expect about 2 uninformative features to be accepted because of these errors. \n",
    "\n",
    "You may well ask, if testing features for importance can fail with large numbers of features, what is the alternative? The most general and scalable alternative is to use regularization methods. Consider applying regularization methods to a linear model. In this case, machine learning algorithm learns which features should be weighted highly and which should not. \n",
    "****"
   ]
  },
  {
   "cell_type": "markdown",
   "id": "a86cd087",
   "metadata": {
    "papermill": {
     "duration": 0.010614,
     "end_time": "2022-07-29T00:58:29.920826",
     "exception": false,
     "start_time": "2022-07-29T00:58:29.910212",
     "status": "completed"
    },
    "tags": []
   },
   "source": [
    "## Load the dataset\n",
    "\n",
    "You will now apply the aforementioned principles to the bank credit data set. \n",
    "\n",
    "As a first step, run the code in the cell below to load the required packages. "
   ]
  },
  {
   "cell_type": "code",
   "execution_count": 1,
   "id": "cfb9bd50",
   "metadata": {
    "execution": {
     "iopub.execute_input": "2022-07-29T00:58:29.944302Z",
     "iopub.status.busy": "2022-07-29T00:58:29.943822Z",
     "iopub.status.idle": "2022-07-29T00:58:31.433069Z",
     "shell.execute_reply": "2022-07-29T00:58:31.431913Z"
    },
    "papermill": {
     "duration": 1.504454,
     "end_time": "2022-07-29T00:58:31.435919",
     "exception": false,
     "start_time": "2022-07-29T00:58:29.931465",
     "status": "completed"
    },
    "tags": []
   },
   "outputs": [],
   "source": [
    "import pandas as pd\n",
    "from sklearn import preprocessing\n",
    "import sklearn.model_selection as ms\n",
    "from sklearn import linear_model\n",
    "import sklearn.metrics as sklm\n",
    "from sklearn import feature_selection as fs\n",
    "from sklearn import metrics\n",
    "import numpy as np\n",
    "import numpy.random as nr\n",
    "import matplotlib.pyplot as plt\n",
    "import seaborn as sns\n",
    "import scipy.stats as ss\n",
    "import math\n",
    "\n",
    "%matplotlib inline\n",
    "\n",
    "%matplotlib inline\n",
    "import warnings\n",
    "warnings.filterwarnings(\"ignore\")\n",
    "warnings.simplefilter(action='ignore', category=FutureWarning)"
   ]
  },
  {
   "cell_type": "markdown",
   "id": "855b2711",
   "metadata": {
    "papermill": {
     "duration": 0.012347,
     "end_time": "2022-07-29T00:58:31.458939",
     "exception": false,
     "start_time": "2022-07-29T00:58:31.446592",
     "status": "completed"
    },
    "tags": []
   },
   "source": [
    "<font size=4>Next, load the preprocessed files containing the features and the labels. The preprocessing includes the following:\n",
    "1. Clean missing values.\n",
    "2. Aggregate categories of certain categorical variables. \n",
    "3. Encode categorical variables as binary dummy variables.\n",
    "4. Standardize numeric variables. \n",
    "\n",
    "Execute the code in the cell below to load the features and labels as numpy arrays for the example. "
   ]
  },
  {
   "cell_type": "code",
   "execution_count": 2,
   "id": "666a6429",
   "metadata": {
    "execution": {
     "iopub.execute_input": "2022-07-29T00:58:31.483400Z",
     "iopub.status.busy": "2022-07-29T00:58:31.482411Z",
     "iopub.status.idle": "2022-07-29T00:58:31.514315Z",
     "shell.execute_reply": "2022-07-29T00:58:31.513454Z"
    },
    "papermill": {
     "duration": 0.047046,
     "end_time": "2022-07-29T00:58:31.516624",
     "exception": false,
     "start_time": "2022-07-29T00:58:31.469578",
     "status": "completed"
    },
    "tags": []
   },
   "outputs": [
    {
     "name": "stdout",
     "output_type": "stream",
     "text": [
      "(1000, 35)\n",
      "(1000, 1)\n"
     ]
    }
   ],
   "source": [
    "Features = np.array(pd.read_csv('../input/credit-risk/Credit_Features.csv'))\n",
    "Labels = np.array(pd.read_csv('../input/credit-risk/Credit_Labels.csv'))\n",
    "print(Features.shape)\n",
    "print(Labels.shape)"
   ]
  },
  {
   "cell_type": "code",
   "execution_count": 3,
   "id": "57b0caab",
   "metadata": {
    "execution": {
     "iopub.execute_input": "2022-07-29T00:58:31.540472Z",
     "iopub.status.busy": "2022-07-29T00:58:31.540075Z",
     "iopub.status.idle": "2022-07-29T00:58:31.554277Z",
     "shell.execute_reply": "2022-07-29T00:58:31.553223Z"
    },
    "papermill": {
     "duration": 0.028746,
     "end_time": "2022-07-29T00:58:31.556491",
     "exception": false,
     "start_time": "2022-07-29T00:58:31.527745",
     "status": "completed"
    },
    "tags": []
   },
   "outputs": [],
   "source": [
    "df_features = pd.read_csv('../input/credit-risk/Credit_Features.csv')\n",
    "df_labels = pd.read_csv('../input/credit-risk/Credit_Labels.csv')\n",
    "\n"
   ]
  },
  {
   "cell_type": "code",
   "execution_count": 4,
   "id": "1b4ded08",
   "metadata": {
    "execution": {
     "iopub.execute_input": "2022-07-29T00:58:31.580518Z",
     "iopub.status.busy": "2022-07-29T00:58:31.580117Z",
     "iopub.status.idle": "2022-07-29T00:58:31.617253Z",
     "shell.execute_reply": "2022-07-29T00:58:31.616137Z"
    },
    "papermill": {
     "duration": 0.051656,
     "end_time": "2022-07-29T00:58:31.619362",
     "exception": false,
     "start_time": "2022-07-29T00:58:31.567706",
     "status": "completed"
    },
    "tags": []
   },
   "outputs": [
    {
     "data": {
      "text/html": [
       "<div>\n",
       "<style scoped>\n",
       "    .dataframe tbody tr th:only-of-type {\n",
       "        vertical-align: middle;\n",
       "    }\n",
       "\n",
       "    .dataframe tbody tr th {\n",
       "        vertical-align: top;\n",
       "    }\n",
       "\n",
       "    .dataframe thead th {\n",
       "        text-align: right;\n",
       "    }\n",
       "</style>\n",
       "<table border=\"1\" class=\"dataframe\">\n",
       "  <thead>\n",
       "    <tr style=\"text-align: right;\">\n",
       "      <th></th>\n",
       "      <th>0</th>\n",
       "      <th>1</th>\n",
       "      <th>2</th>\n",
       "      <th>3</th>\n",
       "      <th>4</th>\n",
       "      <th>5</th>\n",
       "      <th>6</th>\n",
       "      <th>7</th>\n",
       "      <th>8</th>\n",
       "      <th>9</th>\n",
       "      <th>...</th>\n",
       "      <th>25</th>\n",
       "      <th>26</th>\n",
       "      <th>27</th>\n",
       "      <th>28</th>\n",
       "      <th>29</th>\n",
       "      <th>30</th>\n",
       "      <th>31</th>\n",
       "      <th>32</th>\n",
       "      <th>33</th>\n",
       "      <th>34</th>\n",
       "    </tr>\n",
       "  </thead>\n",
       "  <tbody>\n",
       "    <tr>\n",
       "      <th>0</th>\n",
       "      <td>-1.864869</td>\n",
       "      <td>-0.933901</td>\n",
       "      <td>0.918477</td>\n",
       "      <td>2.271006</td>\n",
       "      <td>0</td>\n",
       "      <td>1</td>\n",
       "      <td>0</td>\n",
       "      <td>0</td>\n",
       "      <td>0</td>\n",
       "      <td>1</td>\n",
       "      <td>...</td>\n",
       "      <td>0</td>\n",
       "      <td>1</td>\n",
       "      <td>0</td>\n",
       "      <td>0</td>\n",
       "      <td>0</td>\n",
       "      <td>1</td>\n",
       "      <td>0</td>\n",
       "      <td>0</td>\n",
       "      <td>1</td>\n",
       "      <td>0</td>\n",
       "    </tr>\n",
       "    <tr>\n",
       "      <th>1</th>\n",
       "      <td>1.708369</td>\n",
       "      <td>1.163046</td>\n",
       "      <td>-0.870183</td>\n",
       "      <td>-1.446152</td>\n",
       "      <td>1</td>\n",
       "      <td>0</td>\n",
       "      <td>0</td>\n",
       "      <td>0</td>\n",
       "      <td>0</td>\n",
       "      <td>0</td>\n",
       "      <td>...</td>\n",
       "      <td>0</td>\n",
       "      <td>0</td>\n",
       "      <td>0</td>\n",
       "      <td>1</td>\n",
       "      <td>0</td>\n",
       "      <td>0</td>\n",
       "      <td>0</td>\n",
       "      <td>0</td>\n",
       "      <td>1</td>\n",
       "      <td>0</td>\n",
       "    </tr>\n",
       "    <tr>\n",
       "      <th>2</th>\n",
       "      <td>-0.673790</td>\n",
       "      <td>-0.181559</td>\n",
       "      <td>-0.870183</td>\n",
       "      <td>1.226696</td>\n",
       "      <td>0</td>\n",
       "      <td>0</td>\n",
       "      <td>0</td>\n",
       "      <td>1</td>\n",
       "      <td>0</td>\n",
       "      <td>1</td>\n",
       "      <td>...</td>\n",
       "      <td>0</td>\n",
       "      <td>1</td>\n",
       "      <td>0</td>\n",
       "      <td>0</td>\n",
       "      <td>1</td>\n",
       "      <td>0</td>\n",
       "      <td>0</td>\n",
       "      <td>0</td>\n",
       "      <td>1</td>\n",
       "      <td>0</td>\n",
       "    </tr>\n",
       "    <tr>\n",
       "      <th>3</th>\n",
       "      <td>1.478913</td>\n",
       "      <td>1.525148</td>\n",
       "      <td>-0.870183</td>\n",
       "      <td>0.942455</td>\n",
       "      <td>0</td>\n",
       "      <td>1</td>\n",
       "      <td>0</td>\n",
       "      <td>0</td>\n",
       "      <td>0</td>\n",
       "      <td>0</td>\n",
       "      <td>...</td>\n",
       "      <td>0</td>\n",
       "      <td>1</td>\n",
       "      <td>0</td>\n",
       "      <td>0</td>\n",
       "      <td>0</td>\n",
       "      <td>1</td>\n",
       "      <td>1</td>\n",
       "      <td>0</td>\n",
       "      <td>0</td>\n",
       "      <td>0</td>\n",
       "    </tr>\n",
       "    <tr>\n",
       "      <th>4</th>\n",
       "      <td>0.517289</td>\n",
       "      <td>0.904743</td>\n",
       "      <td>0.024147</td>\n",
       "      <td>1.488620</td>\n",
       "      <td>0</td>\n",
       "      <td>1</td>\n",
       "      <td>0</td>\n",
       "      <td>0</td>\n",
       "      <td>0</td>\n",
       "      <td>0</td>\n",
       "      <td>...</td>\n",
       "      <td>0</td>\n",
       "      <td>1</td>\n",
       "      <td>0</td>\n",
       "      <td>0</td>\n",
       "      <td>0</td>\n",
       "      <td>1</td>\n",
       "      <td>0</td>\n",
       "      <td>0</td>\n",
       "      <td>0</td>\n",
       "      <td>1</td>\n",
       "    </tr>\n",
       "  </tbody>\n",
       "</table>\n",
       "<p>5 rows × 35 columns</p>\n",
       "</div>"
      ],
      "text/plain": [
       "          0         1         2         3  4  5  6  7  8  9  ...  25  26  27  \\\n",
       "0 -1.864869 -0.933901  0.918477  2.271006  0  1  0  0  0  1  ...   0   1   0   \n",
       "1  1.708369  1.163046 -0.870183 -1.446152  1  0  0  0  0  0  ...   0   0   0   \n",
       "2 -0.673790 -0.181559 -0.870183  1.226696  0  0  0  1  0  1  ...   0   1   0   \n",
       "3  1.478913  1.525148 -0.870183  0.942455  0  1  0  0  0  0  ...   0   1   0   \n",
       "4  0.517289  0.904743  0.024147  1.488620  0  1  0  0  0  0  ...   0   1   0   \n",
       "\n",
       "   28  29  30  31  32  33  34  \n",
       "0   0   0   1   0   0   1   0  \n",
       "1   1   0   0   0   0   1   0  \n",
       "2   0   1   0   0   0   1   0  \n",
       "3   0   0   1   1   0   0   0  \n",
       "4   0   0   1   0   0   0   1  \n",
       "\n",
       "[5 rows x 35 columns]"
      ]
     },
     "execution_count": 4,
     "metadata": {},
     "output_type": "execute_result"
    }
   ],
   "source": [
    "df_features.head()"
   ]
  },
  {
   "cell_type": "code",
   "execution_count": 5,
   "id": "16e01433",
   "metadata": {
    "execution": {
     "iopub.execute_input": "2022-07-29T00:58:31.644148Z",
     "iopub.status.busy": "2022-07-29T00:58:31.643646Z",
     "iopub.status.idle": "2022-07-29T00:58:31.654089Z",
     "shell.execute_reply": "2022-07-29T00:58:31.652953Z"
    },
    "papermill": {
     "duration": 0.025774,
     "end_time": "2022-07-29T00:58:31.656268",
     "exception": false,
     "start_time": "2022-07-29T00:58:31.630494",
     "status": "completed"
    },
    "tags": []
   },
   "outputs": [
    {
     "data": {
      "text/html": [
       "<div>\n",
       "<style scoped>\n",
       "    .dataframe tbody tr th:only-of-type {\n",
       "        vertical-align: middle;\n",
       "    }\n",
       "\n",
       "    .dataframe tbody tr th {\n",
       "        vertical-align: top;\n",
       "    }\n",
       "\n",
       "    .dataframe thead th {\n",
       "        text-align: right;\n",
       "    }\n",
       "</style>\n",
       "<table border=\"1\" class=\"dataframe\">\n",
       "  <thead>\n",
       "    <tr style=\"text-align: right;\">\n",
       "      <th></th>\n",
       "      <th>0</th>\n",
       "    </tr>\n",
       "  </thead>\n",
       "  <tbody>\n",
       "    <tr>\n",
       "      <th>0</th>\n",
       "      <td>0</td>\n",
       "    </tr>\n",
       "    <tr>\n",
       "      <th>1</th>\n",
       "      <td>1</td>\n",
       "    </tr>\n",
       "    <tr>\n",
       "      <th>2</th>\n",
       "      <td>0</td>\n",
       "    </tr>\n",
       "    <tr>\n",
       "      <th>3</th>\n",
       "      <td>0</td>\n",
       "    </tr>\n",
       "    <tr>\n",
       "      <th>4</th>\n",
       "      <td>1</td>\n",
       "    </tr>\n",
       "  </tbody>\n",
       "</table>\n",
       "</div>"
      ],
      "text/plain": [
       "   0\n",
       "0  0\n",
       "1  1\n",
       "2  0\n",
       "3  0\n",
       "4  1"
      ]
     },
     "execution_count": 5,
     "metadata": {},
     "output_type": "execute_result"
    }
   ],
   "source": [
    "df_labels.head()"
   ]
  },
  {
   "cell_type": "code",
   "execution_count": 6,
   "id": "27ec618f",
   "metadata": {
    "execution": {
     "iopub.execute_input": "2022-07-29T00:58:31.681057Z",
     "iopub.status.busy": "2022-07-29T00:58:31.680640Z",
     "iopub.status.idle": "2022-07-29T00:58:31.700876Z",
     "shell.execute_reply": "2022-07-29T00:58:31.699997Z"
    },
    "papermill": {
     "duration": 0.035103,
     "end_time": "2022-07-29T00:58:31.702975",
     "exception": false,
     "start_time": "2022-07-29T00:58:31.667872",
     "status": "completed"
    },
    "tags": []
   },
   "outputs": [],
   "source": [
    "result = pd.merge(df_features, df_labels)\n"
   ]
  },
  {
   "cell_type": "markdown",
   "id": "ba548160",
   "metadata": {
    "papermill": {
     "duration": 0.011457,
     "end_time": "2022-07-29T00:58:31.728285",
     "exception": false,
     "start_time": "2022-07-29T00:58:31.716828",
     "status": "completed"
    },
    "tags": []
   },
   "source": [
    "## Eliminate low variance features\n",
    "\n",
    "<font size=4>As a fist step in selecting features from this dataset you will remove features with low variance. The `VarianceThreshold` function from the scikit-learn `feature_selection` package identifies features with less than some threshold of unique values. For a probability that a feature is unique $p$ the threshold is specified as;\n",
    "\n",
    "$$Var(x) = p(1-p)$$\n",
    "\n",
    "In this case a 80%, or $p=0.8$, threshold is used. \n",
    "\n",
    "The `fit_transform` method applies the threshold to the variance of each feature and removes features with variance below the threshold. The `get_support_` attribute shows the `True` and `False` logical for inclusion of each feature. \n",
    "\n",
    "Execute the code, examine the result, and answer **Question 1** on the course page. "
   ]
  },
  {
   "cell_type": "markdown",
   "id": "74cf8dc7",
   "metadata": {
    "papermill": {
     "duration": 0.011081,
     "end_time": "2022-07-29T00:58:31.750905",
     "exception": false,
     "start_time": "2022-07-29T00:58:31.739824",
     "status": "completed"
    },
    "tags": []
   },
   "source": [
    "###  fs is feature selection. It contains the fit method where we pass the data\n",
    "### we have set the threshold and then we notice 17 low variance features.  Features is the name of the dataframe      "
   ]
  },
  {
   "cell_type": "code",
   "execution_count": 7,
   "id": "543e5404",
   "metadata": {
    "execution": {
     "iopub.execute_input": "2022-07-29T00:58:31.775930Z",
     "iopub.status.busy": "2022-07-29T00:58:31.775519Z",
     "iopub.status.idle": "2022-07-29T00:58:31.785004Z",
     "shell.execute_reply": "2022-07-29T00:58:31.782925Z"
    },
    "papermill": {
     "duration": 0.025059,
     "end_time": "2022-07-29T00:58:31.787451",
     "exception": false,
     "start_time": "2022-07-29T00:58:31.762392",
     "status": "completed"
    },
    "tags": []
   },
   "outputs": [
    {
     "name": "stdout",
     "output_type": "stream",
     "text": [
      "(1000, 35)\n",
      "[ True  True  True  True  True  True False  True False  True  True False\n",
      " False False  True False False False False False  True False False  True\n",
      " False False  True False  True False  True  True  True  True False]\n",
      "(1000, 18)\n"
     ]
    }
   ],
   "source": [
    "print(Features.shape)\n",
    "\n",
    "## Define the variance threhold and fit the threshold to the feature array. \n",
    "sel = fs.VarianceThreshold(threshold=(.8 * (1 - .8)))\n",
    "Features_reduced = sel.fit_transform(Features)\n",
    "\n",
    "## Print the support and shape for the transformed features\n",
    "print(sel.get_support())\n",
    "print(Features_reduced.shape)"
   ]
  },
  {
   "cell_type": "markdown",
   "id": "db706b91",
   "metadata": {
    "papermill": {
     "duration": 0.011569,
     "end_time": "2022-07-29T00:58:31.810764",
     "exception": false,
     "start_time": "2022-07-29T00:58:31.799195",
     "status": "completed"
    },
    "tags": []
   },
   "source": [
    "## <font color=green>How many low variance features are there? Count the number of False "
   ]
  },
  {
   "cell_type": "markdown",
   "id": "83c55267",
   "metadata": {
    "papermill": {
     "duration": 0.011205,
     "end_time": "2022-07-29T00:58:31.833495",
     "exception": false,
     "start_time": "2022-07-29T00:58:31.822290",
     "status": "completed"
    },
    "tags": []
   },
   "source": [
    "## Answer: Number of low variance features = 17"
   ]
  },
  {
   "cell_type": "markdown",
   "id": "f6462302",
   "metadata": {
    "papermill": {
     "duration": 0.011186,
     "end_time": "2022-07-29T00:58:31.856001",
     "exception": false,
     "start_time": "2022-07-29T00:58:31.844815",
     "status": "completed"
    },
    "tags": []
   },
   "source": [
    "<b><font size=4>The number of features has been reduced from 35 to 18 due to the threshold set. Apparently, there are 17 low variance features in the original array. Only 18 are true"
   ]
  },
  {
   "cell_type": "markdown",
   "id": "624f68ac",
   "metadata": {
    "papermill": {
     "duration": 0.011111,
     "end_time": "2022-07-29T00:58:31.878455",
     "exception": false,
     "start_time": "2022-07-29T00:58:31.867344",
     "status": "completed"
    },
    "tags": []
   },
   "source": [
    " # Select k best features -use of Cross Validation"
   ]
  },
  {
   "cell_type": "markdown",
   "id": "eeaa6d63",
   "metadata": {
    "papermill": {
     "duration": 0.011165,
     "end_time": "2022-07-29T00:58:31.900846",
     "exception": false,
     "start_time": "2022-07-29T00:58:31.889681",
     "status": "completed"
    },
    "tags": []
   },
   "source": [
    "##>Select k best features -use of Cross Validation\n",
    "\n",
    "The low variance features have been eliminated. But, the question remains, are all these features informative? There are a number of methods used to determine the importance of features. Many machine learning models have specialized methods to determine feature importance specifically intended for those methods. \n",
    "\n",
    "In this example, you will use a fairly general and robust method using cross validation. The algorithm is straight forward. Features are recursively removed.  Cross validation is used to find the change in model performance, if any, to determine if a feature should be deleted altogether.**</font><br><br>\n",
    "\n",
    "The code in the cell below performs the following processing:\n",
    "1. Create the folds for the cross validation for feature selection. These folds should be independent of any other cross validation performed. \n",
    "2. The logistic regression model is defined. \n",
    "3. **The `RFECV` function from the scikit-learn `feature_selection` package is used to determine which features to retain using a cross validation method. Notice that AUC is used as the model selection metric as the labels are imbalanced. In this case, the default, accuracy is a poor choice.** </font>\n",
    "4. The RFECV feature selector is fit to the data. \n",
    "\n",
    "For how class_weight works: It penalizes mistakes in samples of class[i] with class_weight[i] instead of 1. So higher class-weight means you want to put more emphasis on a class."
   ]
  },
  {
   "cell_type": "markdown",
   "id": "74c2c12f",
   "metadata": {
    "papermill": {
     "duration": 0.010998,
     "end_time": "2022-07-29T00:58:31.923342",
     "exception": false,
     "start_time": "2022-07-29T00:58:31.912344",
     "status": "completed"
    },
    "tags": []
   },
   "source": [
    "<b>from ms model selection, we pass the parameter n_splits=10 and shuffle=true for the 18 features selected to the Logistic Regressio model"
   ]
  },
  {
   "cell_type": "markdown",
   "id": "4d7ca38c",
   "metadata": {
    "papermill": {
     "duration": 0.010948,
     "end_time": "2022-07-29T00:58:31.945551",
     "exception": false,
     "start_time": "2022-07-29T00:58:31.934603",
     "status": "completed"
    },
    "tags": []
   },
   "source": [
    "<b>>we use the algorithm Logistic Regression"
   ]
  },
  {
   "cell_type": "code",
   "execution_count": 8,
   "id": "a77c5e4e",
   "metadata": {
    "execution": {
     "iopub.execute_input": "2022-07-29T00:58:31.969891Z",
     "iopub.status.busy": "2022-07-29T00:58:31.969490Z",
     "iopub.status.idle": "2022-07-29T00:58:34.814674Z",
     "shell.execute_reply": "2022-07-29T00:58:34.813406Z"
    },
    "papermill": {
     "duration": 2.861752,
     "end_time": "2022-07-29T00:58:34.818628",
     "exception": false,
     "start_time": "2022-07-29T00:58:31.956876",
     "status": "completed"
    },
    "tags": []
   },
   "outputs": [
    {
     "data": {
      "text/plain": [
       "array([ True, False,  True,  True,  True,  True,  True,  True,  True,\n",
       "        True,  True,  True,  True,  True, False,  True,  True,  True])"
      ]
     },
     "execution_count": 8,
     "metadata": {},
     "output_type": "execute_result"
    }
   ],
   "source": [
    "## Reshape the Label array\n",
    "Labels = Labels.reshape(Labels.shape[0],)\n",
    "\n",
    "## Set folds for nested cross validation\n",
    "nr.seed(988)\n",
    "feature_folds = ms.KFold(n_splits=10, shuffle = True)\n",
    "\n",
    "## Define the model\n",
    "logistic_mod = linear_model.LogisticRegression(C = 10, class_weight = {0:0.45, 1:0.55}) \n",
    "\n",
    "## Perform feature selection by CV with high variance features only\n",
    "nr.seed(6677)\n",
    "selector = fs.RFECV(estimator = logistic_mod, cv = feature_folds,\n",
    "                      scoring = 'roc_auc')\n",
    "selector = selector.fit(Features_reduced, Labels)\n",
    "selector.support_ "
   ]
  },
  {
   "cell_type": "markdown",
   "id": "b6fe3e02",
   "metadata": {
    "papermill": {
     "duration": 0.021194,
     "end_time": "2022-07-29T00:58:34.861850",
     "exception": false,
     "start_time": "2022-07-29T00:58:34.840656",
     "status": "completed"
    },
    "tags": []
   },
   "source": [
    "**From the support you can see that some features are selected (True) and eliminated (False). you want to rank the features that were selected**. \n",
    "\n",
    "**Execute the code below to see the relative ranking of the features.**"
   ]
  },
  {
   "cell_type": "code",
   "execution_count": 9,
   "id": "aae574fb",
   "metadata": {
    "execution": {
     "iopub.execute_input": "2022-07-29T00:58:34.908703Z",
     "iopub.status.busy": "2022-07-29T00:58:34.908092Z",
     "iopub.status.idle": "2022-07-29T00:58:34.917336Z",
     "shell.execute_reply": "2022-07-29T00:58:34.916141Z"
    },
    "papermill": {
     "duration": 0.037627,
     "end_time": "2022-07-29T00:58:34.921321",
     "exception": false,
     "start_time": "2022-07-29T00:58:34.883694",
     "status": "completed"
    },
    "tags": []
   },
   "outputs": [
    {
     "data": {
      "text/plain": [
       "array([1, 3, 1, 1, 1, 1, 1, 1, 1, 1, 1, 1, 1, 1, 2, 1, 1, 1])"
      ]
     },
     "execution_count": 9,
     "metadata": {},
     "output_type": "execute_result"
    }
   ],
   "source": [
    "selector.ranking_"
   ]
  },
  {
   "cell_type": "markdown",
   "id": "af681d34",
   "metadata": {
    "papermill": {
     "duration": 0.011418,
     "end_time": "2022-07-29T00:58:34.946575",
     "exception": false,
     "start_time": "2022-07-29T00:58:34.935157",
     "status": "completed"
    },
    "tags": []
   },
   "source": [
    "<b>Notice that the features which have been selected are shown with a rank of 1. The features eliminated are shown with higher numbers. the features with numbers 2 and 3 can be removed  \n",
    "\n",
    "The code in the cell below as uses the `transform` method applies the selector to the feature array. "
   ]
  },
  {
   "cell_type": "code",
   "execution_count": 10,
   "id": "9df2bac9",
   "metadata": {
    "execution": {
     "iopub.execute_input": "2022-07-29T00:58:34.971534Z",
     "iopub.status.busy": "2022-07-29T00:58:34.971141Z",
     "iopub.status.idle": "2022-07-29T00:58:34.978549Z",
     "shell.execute_reply": "2022-07-29T00:58:34.977512Z"
    },
    "papermill": {
     "duration": 0.02263,
     "end_time": "2022-07-29T00:58:34.980940",
     "exception": false,
     "start_time": "2022-07-29T00:58:34.958310",
     "status": "completed"
    },
    "tags": []
   },
   "outputs": [
    {
     "data": {
      "text/plain": [
       "(1000, 16)"
      ]
     },
     "execution_count": 10,
     "metadata": {},
     "output_type": "execute_result"
    }
   ],
   "source": [
    "Features_reduced = selector.transform(Features_reduced)\n",
    "Features_reduced.shape"
   ]
  },
  {
   "cell_type": "markdown",
   "id": "571201b2",
   "metadata": {
    "papermill": {
     "duration": 0.011647,
     "end_time": "2022-07-29T00:58:35.004459",
     "exception": false,
     "start_time": "2022-07-29T00:58:34.992812",
     "status": "completed"
    },
    "tags": []
   },
   "source": [
    "<b>The features have been reduced from the 18 high variance features to 16. Two features have been found to be unimportant. \n",
    "\n",
    "The code in the cell below creates a plot of AUC (the metric) vs. the number of features. Execute this code. \n",
    "    \n",
    "Logistic Regression is a Classification model. In this application we are checking if the loan is good or bad. we are using the classification matrix- that is the ROC curve    "
   ]
  },
  {
   "cell_type": "code",
   "execution_count": 11,
   "id": "e6b65d34",
   "metadata": {
    "execution": {
     "iopub.execute_input": "2022-07-29T00:58:35.030078Z",
     "iopub.status.busy": "2022-07-29T00:58:35.029436Z",
     "iopub.status.idle": "2022-07-29T00:58:35.259057Z",
     "shell.execute_reply": "2022-07-29T00:58:35.257985Z"
    },
    "papermill": {
     "duration": 0.24539,
     "end_time": "2022-07-29T00:58:35.261700",
     "exception": false,
     "start_time": "2022-07-29T00:58:35.016310",
     "status": "completed"
    },
    "tags": []
   },
   "outputs": [
    {
     "data": {
      "text/plain": [
       "Text(0.5, 0, 'Number of features')"
      ]
     },
     "execution_count": 11,
     "metadata": {},
     "output_type": "execute_result"
    },
    {
     "data": {
      "image/png": "[encoded data removed]",
      "text/plain": [
       "<Figure size 432x288 with 1 Axes>"
      ]
     },
     "metadata": {
      "needs_background": "light"
     },
     "output_type": "display_data"
    }
   ],
   "source": [
    "plt.plot(range(1, len(selector.grid_scores_) + 1), selector.grid_scores_)\n",
    "plt.title('Mean AUC by number of features')\n",
    "plt.ylabel('AUC')\n",
    "plt.xlabel('Number of features')"
   ]
  },
  {
   "cell_type": "markdown",
   "id": "470bc931",
   "metadata": {
    "papermill": {
     "duration": 0.01223,
     "end_time": "2022-07-29T00:58:35.286961",
     "exception": false,
     "start_time": "2022-07-29T00:58:35.274731",
     "status": "completed"
    },
    "tags": []
   },
   "source": [
    ">Notice that the change in AUC is not that great across a range of features around the 16 selected. "
   ]
  },
  {
   "cell_type": "markdown",
   "id": "9679d42d",
   "metadata": {
    "papermill": {
     "duration": 0.012501,
     "end_time": "2022-07-29T00:58:35.312064",
     "exception": false,
     "start_time": "2022-07-29T00:58:35.299563",
     "status": "completed"
    },
    "tags": []
   },
   "source": [
    "## Apply nested cross validation to create model\n",
    "\n",
    "<font size=4>The next step is to use nested cross validation to optimize the model hyperparameter and test the model performance. The model is constructed using the features selected. \n",
    "\n",
    "As a first step, construct the inside and outside folds for the nested cross validation by running the code in the cell below. "
   ]
  },
  {
   "cell_type": "code",
   "execution_count": 12,
   "id": "bb71ebf6",
   "metadata": {
    "execution": {
     "iopub.execute_input": "2022-07-29T00:58:35.340319Z",
     "iopub.status.busy": "2022-07-29T00:58:35.339332Z",
     "iopub.status.idle": "2022-07-29T00:58:35.345486Z",
     "shell.execute_reply": "2022-07-29T00:58:35.344604Z"
    },
    "papermill": {
     "duration": 0.022433,
     "end_time": "2022-07-29T00:58:35.347607",
     "exception": false,
     "start_time": "2022-07-29T00:58:35.325174",
     "status": "completed"
    },
    "tags": []
   },
   "outputs": [],
   "source": [
    "nr.seed(123)\n",
    "inside = ms.KFold(n_splits=10, shuffle = True)\n",
    "nr.seed(321)\n",
    "outside = ms.KFold(n_splits=10, shuffle = True)"
   ]
  },
  {
   "cell_type": "markdown",
   "id": "415fb341",
   "metadata": {
    "papermill": {
     "duration": 0.012123,
     "end_time": "2022-07-29T00:58:35.372530",
     "exception": false,
     "start_time": "2022-07-29T00:58:35.360407",
     "status": "completed"
    },
    "tags": []
   },
   "source": [
    "The code in the cell below performs the grid search for the optimal model hyperparameter. As before, the scoring metric is AUC.Earlier we ha used C=10(this is the sweeping parameter we saw in the ppt)..now we use a parameter grid and give different values for C. Since it was unbalanced, we need to give it a weight 0.45 and 0.55   "
   ]
  },
  {
   "cell_type": "markdown",
   "id": "e77d7a8f",
   "metadata": {
    "papermill": {
     "duration": 0.012157,
     "end_time": "2022-07-29T00:58:35.397120",
     "exception": false,
     "start_time": "2022-07-29T00:58:35.384963",
     "status": "completed"
    },
    "tags": []
   },
   "source": [
    "<font size=4><b><font color=green>Exercise: try changing the weight"
   ]
  },
  {
   "cell_type": "code",
   "execution_count": 13,
   "id": "ccb7baa6",
   "metadata": {
    "execution": {
     "iopub.execute_input": "2022-07-29T00:58:35.423408Z",
     "iopub.status.busy": "2022-07-29T00:58:35.423019Z",
     "iopub.status.idle": "2022-07-29T00:58:36.583568Z",
     "shell.execute_reply": "2022-07-29T00:58:36.582286Z"
    },
    "papermill": {
     "duration": 1.178064,
     "end_time": "2022-07-29T00:58:36.587408",
     "exception": false,
     "start_time": "2022-07-29T00:58:35.409344",
     "status": "completed"
    },
    "tags": []
   },
   "outputs": [
    {
     "data": {
      "text/plain": [
       "10"
      ]
     },
     "execution_count": 13,
     "metadata": {},
     "output_type": "execute_result"
    }
   ],
   "source": [
    "nr.seed(3456)\n",
    "## Define the dictionary for the grid search and the model object to search on\n",
    "param_grid = {\"C\": [0.1, 1, 10, 100, 1000]}\n",
    "## Define the logistic regression model\n",
    "logistic_mod = linear_model.LogisticRegression(class_weight = {0:0.45, 1:0.55}) \n",
    "\n",
    "## Perform the grid search over the parameters\n",
    "clf = ms.GridSearchCV(estimator = logistic_mod, param_grid = param_grid, \n",
    "                      cv = inside, # Use the inside folds\n",
    "                      scoring = 'roc_auc',\n",
    "                      return_train_score = True)\n",
    "\n",
    "## Fit the cross validated grid search over the data \n",
    "clf.fit(Features_reduced, Labels)\n",
    "\n",
    "## And print the best parameter value\n",
    "clf.best_estimator_.C"
   ]
  },
  {
   "cell_type": "markdown",
   "id": "9d1ed25f",
   "metadata": {
    "papermill": {
     "duration": 0.023084,
     "end_time": "2022-07-29T00:58:36.634812",
     "exception": false,
     "start_time": "2022-07-29T00:58:36.611728",
     "status": "completed"
    },
    "tags": []
   },
   "source": [
    "The optimal value of the hyperparameter is 10. This parameter is larger than for the same model with all the features. Recalling that the parameter is the inverse of regularization strength, the smaller parameter means the model with fewer features requires less regularization. \n",
    "\n",
    "To get a feel for the results of the cross validation execute the code in the cell below and observe the results. "
   ]
  },
  {
   "cell_type": "code",
   "execution_count": 14,
   "id": "f17ea964",
   "metadata": {
    "execution": {
     "iopub.execute_input": "2022-07-29T00:58:36.685299Z",
     "iopub.status.busy": "2022-07-29T00:58:36.683909Z",
     "iopub.status.idle": "2022-07-29T00:58:36.937964Z",
     "shell.execute_reply": "2022-07-29T00:58:36.936773Z"
    },
    "papermill": {
     "duration": 0.281933,
     "end_time": "2022-07-29T00:58:36.940367",
     "exception": false,
     "start_time": "2022-07-29T00:58:36.658434",
     "status": "completed"
    },
    "tags": []
   },
   "outputs": [
    {
     "name": "stdout",
     "output_type": "stream",
     "text": [
      "Performance metrics by parameter\n",
      "Parameter   Mean performance   STD performance\n",
      "    0.10        0.77984            0.05047\n",
      "    1.00        0.78412            0.04875\n",
      "   10.00        0.78431            0.04815\n",
      "  100.00        0.78411            0.04850\n",
      " 1000.00        0.78403            0.04864\n"
     ]
    },
    {
     "data": {
      "image/png": "[encoded data removed]",
      "text/plain": [
       "<Figure size 432x288 with 1 Axes>"
      ]
     },
     "metadata": {
      "needs_background": "light"
     },
     "output_type": "display_data"
    }
   ],
   "source": [
    "def plot_cv(clf, params_grid, param = 'C'):\n",
    "    params = [x for x in params_grid[param]]\n",
    "  \n",
    "    keys = list(clf.cv_results_.keys())              \n",
    "    grid = np.array([clf.cv_results_[key] for key in keys[6:16]])\n",
    "    means = np.mean(grid, axis = 0)\n",
    "    stds = np.std(grid, axis = 0)\n",
    "    print('Performance metrics by parameter')\n",
    "    print('Parameter   Mean performance   STD performance')\n",
    "    for x,y,z in zip(params, means, stds):\n",
    "        print('%8.2f        %6.5f            %6.5f' % (x,y,z))\n",
    "    \n",
    "    params = [math.log10(x) for x in params]\n",
    "    \n",
    "    plt.scatter(params * grid.shape[0], grid.flatten())\n",
    "    p = plt.scatter(params, means, color = 'red', marker = '+', s = 300)\n",
    "    plt.plot(params, np.transpose(grid))\n",
    "    plt.title('Performance metric vs. log parameter value\\n from cross validation')\n",
    "    plt.xlabel('Log hyperparameter value')\n",
    "    plt.ylabel('Performance metric')\n",
    "    \n",
    "plot_cv(clf, param_grid)    "
   ]
  },
  {
   "cell_type": "markdown",
   "id": "06e38c91",
   "metadata": {
    "papermill": {
     "duration": 0.012963,
     "end_time": "2022-07-29T00:58:36.967474",
     "exception": false,
     "start_time": "2022-07-29T00:58:36.954511",
     "status": "completed"
    },
    "tags": []
   },
   "source": [
    "Notice that the mean AUCs are within 1 standard deviation of each other. The AUC for the hyperparameter value of 10 is not significantly better than the other values tested. <b><font color=blue>note log scale is used to diplay the results\n",
    "\n",
    "Now you will perform the outer loop of the nested cross validation by executing the code in the cell below. "
   ]
  },
  {
   "cell_type": "code",
   "execution_count": 15,
   "id": "fb0d157a",
   "metadata": {
    "execution": {
     "iopub.execute_input": "2022-07-29T00:58:36.995851Z",
     "iopub.status.busy": "2022-07-29T00:58:36.995453Z",
     "iopub.status.idle": "2022-07-29T00:58:55.403226Z",
     "shell.execute_reply": "2022-07-29T00:58:55.401941Z"
    },
    "papermill": {
     "duration": 18.428496,
     "end_time": "2022-07-29T00:58:55.409236",
     "exception": false,
     "start_time": "2022-07-29T00:58:36.980740",
     "status": "completed"
    },
    "tags": []
   },
   "outputs": [
    {
     "name": "stdout",
     "output_type": "stream",
     "text": [
      "Mean performance metric = 0.780\n",
      "SDT of the metric       = 0.039\n",
      "Outcomes by cv fold\n",
      "Fold  1    0.770\n",
      "Fold  2    0.730\n",
      "Fold  3    0.754\n",
      "Fold  4    0.764\n",
      "Fold  5    0.790\n",
      "Fold  6    0.828\n",
      "Fold  7    0.733\n",
      "Fold  8    0.859\n",
      "Fold  9    0.806\n",
      "Fold 10    0.767\n"
     ]
    }
   ],
   "source": [
    "nr.seed(498)\n",
    "cv_estimate = ms.cross_val_score(clf, Features, Labels, \n",
    "                                 cv = outside) # Use the outside folds\n",
    "print('Mean performance metric = %4.3f' % np.mean(cv_estimate))\n",
    "\n",
    "print('SDT of the metric       = %4.3f' % np.std(cv_estimate))\n",
    "print('Outcomes by cv fold')\n",
    "for i, x in enumerate(cv_estimate):\n",
    "    print('Fold %2d    %4.3f' % (i+1, x))"
   ]
  },
  {
   "cell_type": "markdown",
   "id": "3c1e8d61",
   "metadata": {
    "papermill": {
     "duration": 0.024916,
     "end_time": "2022-07-29T00:58:55.459956",
     "exception": false,
     "start_time": "2022-07-29T00:58:55.435040",
     "status": "completed"
    },
    "tags": []
   },
   "source": [
    "<font size=4>The performance metric is not significantly different than for the inner loop of  the cross validation. "
   ]
  },
  {
   "cell_type": "markdown",
   "id": "6237d06b",
   "metadata": {
    "papermill": {
     "duration": 0.024763,
     "end_time": "2022-07-29T00:58:55.509937",
     "exception": false,
     "start_time": "2022-07-29T00:58:55.485174",
     "status": "completed"
    },
    "tags": []
   },
   "source": [
    "## Test the model\n",
    "\n",
    "<font size=4>With the features selected and the optimal hyperparameters estimated, it is time to test the model. the code in the cell below does the following processing;\n",
    "1. Split the reduced feature subset of the data into training and test subsets.\n",
    "2. Define and fit a model using the optimal hyperparameter. \n",
    "\n",
    "Execute this code."
   ]
  },
  {
   "cell_type": "code",
   "execution_count": 16,
   "id": "966cb79c",
   "metadata": {
    "execution": {
     "iopub.execute_input": "2022-07-29T00:58:55.542517Z",
     "iopub.status.busy": "2022-07-29T00:58:55.542105Z",
     "iopub.status.idle": "2022-07-29T00:58:55.580215Z",
     "shell.execute_reply": "2022-07-29T00:58:55.579024Z"
    },
    "papermill": {
     "duration": 0.056418,
     "end_time": "2022-07-29T00:58:55.583520",
     "exception": false,
     "start_time": "2022-07-29T00:58:55.527102",
     "status": "completed"
    },
    "tags": []
   },
   "outputs": [
    {
     "data": {
      "text/plain": [
       "LogisticRegression(C=10, class_weight={0: 0.45, 1: 0.55})"
      ]
     },
     "execution_count": 16,
     "metadata": {},
     "output_type": "execute_result"
    }
   ],
   "source": [
    "## Randomly sample cases to create independent training and test data\n",
    "nr.seed(1115)\n",
    "indx = range(Features_reduced.shape[0])\n",
    "indx = ms.train_test_split(indx, test_size = 300)\n",
    "X_train = Features_reduced[indx[0],:]\n",
    "y_train = np.ravel(Labels[indx[0]])\n",
    "X_test = Features_reduced[indx[1],:]\n",
    "y_test = np.ravel(Labels[indx[1]])\n",
    "\n",
    "## Define and fit the logistic regression model\n",
    "logistic_mod = linear_model.LogisticRegression(C = 10, class_weight = {0:0.45, 1:0.55}) \n",
    "logistic_mod.fit(X_train, y_train)"
   ]
  },
  {
   "cell_type": "markdown",
   "id": "c55092e3",
   "metadata": {
    "papermill": {
     "duration": 0.025274,
     "end_time": "2022-07-29T00:58:55.634045",
     "exception": false,
     "start_time": "2022-07-29T00:58:55.608771",
     "status": "completed"
    },
    "tags": []
   },
   "source": [
    "Next, execute the code in the cell below to score the model and display a sample of the resulting probabilities. "
   ]
  },
  {
   "cell_type": "code",
   "execution_count": 17,
   "id": "00dea702",
   "metadata": {
    "execution": {
     "iopub.execute_input": "2022-07-29T00:58:55.686738Z",
     "iopub.status.busy": "2022-07-29T00:58:55.686057Z",
     "iopub.status.idle": "2022-07-29T00:58:55.697448Z",
     "shell.execute_reply": "2022-07-29T00:58:55.696069Z"
    },
    "papermill": {
     "duration": 0.040657,
     "end_time": "2022-07-29T00:58:55.699933",
     "exception": false,
     "start_time": "2022-07-29T00:58:55.659276",
     "status": "completed"
    },
    "tags": []
   },
   "outputs": [
    {
     "name": "stdout",
     "output_type": "stream",
     "text": [
      "[[0.94167243 0.05832757]\n",
      " [0.86258794 0.13741206]\n",
      " [0.64932039 0.35067961]\n",
      " [0.44101686 0.55898314]\n",
      " [0.94707474 0.05292526]\n",
      " [0.92040225 0.07959775]\n",
      " [0.71131955 0.28868045]\n",
      " [0.27825905 0.72174095]\n",
      " [0.20612969 0.79387031]\n",
      " [0.95227899 0.04772101]\n",
      " [0.62221142 0.37778858]\n",
      " [0.91862781 0.08137219]\n",
      " [0.28045922 0.71954078]\n",
      " [0.93132439 0.06867561]\n",
      " [0.93009926 0.06990074]]\n"
     ]
    }
   ],
   "source": [
    "def score_model(probs, threshold):\n",
    "    return np.array([1 if x > threshold else 0 for x in probs[:,1]])\n",
    "\n",
    "probabilities = logistic_mod.predict_proba(X_test)\n",
    "print(probabilities[:15,:])\n",
    "scores = score_model(probabilities, 0.3)"
   ]
  },
  {
   "cell_type": "markdown",
   "id": "0b38a989",
   "metadata": {
    "papermill": {
     "duration": 0.013342,
     "end_time": "2022-07-29T00:58:55.727087",
     "exception": false,
     "start_time": "2022-07-29T00:58:55.713745",
     "status": "completed"
    },
    "tags": []
   },
   "source": [
    "<font size=4>With the model scored, execute the code in the cell below to display performance metrics for the model. "
   ]
  },
  {
   "cell_type": "code",
   "execution_count": 18,
   "id": "32158125",
   "metadata": {
    "execution": {
     "iopub.execute_input": "2022-07-29T00:58:55.756844Z",
     "iopub.status.busy": "2022-07-29T00:58:55.756017Z",
     "iopub.status.idle": "2022-07-29T00:58:55.961599Z",
     "shell.execute_reply": "2022-07-29T00:58:55.960800Z"
    },
    "papermill": {
     "duration": 0.223483,
     "end_time": "2022-07-29T00:58:55.964080",
     "exception": false,
     "start_time": "2022-07-29T00:58:55.740597",
     "status": "completed"
    },
    "tags": []
   },
   "outputs": [
    {
     "name": "stdout",
     "output_type": "stream",
     "text": [
      "                 Confusion matrix\n",
      "                 Score positive    Score negative\n",
      "Actual positive       128                84\n",
      "Actual negative        16                72\n",
      "\n",
      "Accuracy        0.67\n",
      "AUC             0.80\n",
      "Macro precision 0.68\n",
      "Macro recall    0.71\n",
      " \n",
      "           Positive      Negative\n",
      "Num case      212            88\n",
      "Precision    0.89          0.46\n",
      "Recall       0.60          0.82\n",
      "F1           0.72          0.59\n"
     ]
    },
    {
     "data": {
      "image/png": "[encoded data removed]",
      "text/plain": [
       "<Figure size 432x288 with 1 Axes>"
      ]
     },
     "metadata": {
      "needs_background": "light"
     },
     "output_type": "display_data"
    }
   ],
   "source": [
    "def print_metrics(labels, probs, threshold):\n",
    "    scores = score_model(probs, threshold)\n",
    "    metrics = sklm.precision_recall_fscore_support(labels, scores)\n",
    "    conf = sklm.confusion_matrix(labels, scores)\n",
    "    print('                 Confusion matrix')\n",
    "    print('                 Score positive    Score negative')\n",
    "    print('Actual positive    %6d' % conf[0,0] + '             %5d' % conf[0,1])\n",
    "    print('Actual negative    %6d' % conf[1,0] + '             %5d' % conf[1,1])\n",
    "    print('')\n",
    "    print('Accuracy        %0.2f' % sklm.accuracy_score(labels, scores))\n",
    "    print('AUC             %0.2f' % sklm.roc_auc_score(labels, probs[:,1]))\n",
    "    print('Macro precision %0.2f' % float((float(metrics[0][0]) + float(metrics[0][1]))/2.0))\n",
    "    print('Macro recall    %0.2f' % float((float(metrics[1][0]) + float(metrics[1][1]))/2.0))\n",
    "    print(' ')\n",
    "    print('           Positive      Negative')\n",
    "    print('Num case   %6d' % metrics[3][0] + '        %6d' % metrics[3][1])\n",
    "    print('Precision  %6.2f' % metrics[0][0] + '        %6.2f' % metrics[0][1])\n",
    "    print('Recall     %6.2f' % metrics[1][0] + '        %6.2f' % metrics[1][1])\n",
    "    print('F1         %6.2f' % metrics[2][0] + '        %6.2f' % metrics[2][1])\n",
    "\n",
    "def plot_auc(labels, probs):\n",
    "    ## Compute the false positive rate, true positive rate\n",
    "    ## and threshold along with the AUC\n",
    "    fpr, tpr, threshold = sklm.roc_curve(labels, probs[:,1])\n",
    "    auc = sklm.auc(fpr, tpr)\n",
    "    \n",
    "    ## Plot the result\n",
    "    plt.title('Receiver Operating Characteristic')\n",
    "    plt.plot(fpr, tpr, color = 'orange', label = 'AUC = %0.2f' % auc)\n",
    "    plt.legend(loc = 'lower right')\n",
    "    plt.plot([0, 1], [0, 1],'r--')\n",
    "    plt.xlim([0, 1])\n",
    "    plt.ylim([0, 1])\n",
    "    plt.ylabel('True Positive Rate')\n",
    "    plt.xlabel('False Positive Rate')\n",
    "    plt.show()    \n",
    "        \n",
    "print_metrics(y_test, probabilities, 0.3)    \n",
    "plot_auc(y_test, probabilities)   "
   ]
  },
  {
   "cell_type": "markdown",
   "id": "a6546537",
   "metadata": {
    "papermill": {
     "duration": 0.013566,
     "end_time": "2022-07-29T00:58:55.991945",
     "exception": false,
     "start_time": "2022-07-29T00:58:55.978379",
     "status": "completed"
    },
    "tags": []
   },
   "source": [
    "<font size=4>At first glance, these performance metrics look quite good. Notice however, that the AUC is much larger than achieved with cross validation. This indicates that these results are overly optimistic, a common situation when a single split is used to evaluate a model. "
   ]
  },
  {
   "cell_type": "markdown",
   "id": "bfd0d19d",
   "metadata": {
    "papermill": {
     "duration": 0.01363,
     "end_time": "2022-07-29T00:58:56.019600",
     "exception": false,
     "start_time": "2022-07-29T00:58:56.005970",
     "status": "completed"
    },
    "tags": []
   },
   "source": [
    "## <font color=green>TASK 2: What is the AUC of the model? "
   ]
  },
  {
   "cell_type": "markdown",
   "id": "e1aafe37",
   "metadata": {
    "papermill": {
     "duration": 0.013532,
     "end_time": "2022-07-29T00:58:56.047188",
     "exception": false,
     "start_time": "2022-07-29T00:58:56.033656",
     "status": "completed"
    },
    "tags": []
   },
   "source": [
    "## Answer: The AUC of the model is ....."
   ]
  },
  {
   "cell_type": "markdown",
   "id": "973705c4",
   "metadata": {
    "papermill": {
     "duration": 0.013404,
     "end_time": "2022-07-29T00:58:56.074491",
     "exception": false,
     "start_time": "2022-07-29T00:58:56.061087",
     "status": "completed"
    },
    "tags": []
   },
   "source": [
    "## Summary\n",
    "\n",
    "<font size=4>In this lab you have performed two types of feature selection:\n",
    "1. Eliminating low variance features, which by their nature cannot be highly informative since they contain a high fraction of the same value.\n",
    "2. Using recursive feature elimination, a cross validation technique for identifying uninformative features. \n",
    "\n",
    "With a reduced feature set less regularization was required for the model. This is expected since the most uninformative features have already been eliminated. It should be noted that for large numbers of features, these types of feature elimination algorithms should not be expected to give good generalization performance as a result of the multiple comparisons problem. In these cases, stronger regularization is a better approach. \n",
    "    \n",
    "wE USED FEATURE SELECTION AND CROSS VALIDATION TO REMOVE FEATURES THAT HAVE LOW INFO CONTENT\n",
    "    "
   ]
  },
  {
   "cell_type": "code",
   "execution_count": null,
   "id": "3521c384",
   "metadata": {
    "papermill": {
     "duration": 0.013662,
     "end_time": "2022-07-29T00:58:56.101986",
     "exception": false,
     "start_time": "2022-07-29T00:58:56.088324",
     "status": "completed"
    },
    "tags": []
   },
   "outputs": [],
   "source": []
  }
 ],
 "metadata": {
  "kernelspec": {
   "display_name": "Python 3",
   "language": "python",
   "name": "python3"
  },
  "language_info": {
   "codemirror_mode": {
    "name": "ipython",
    "version": 3
   },
   "file_extension": ".py",
   "mimetype": "text/x-python",
   "name": "python",
   "nbconvert_exporter": "python",
   "pygments_lexer": "ipython3",
   "version": "3.7.12"
  },
  "papermill": {
   "default_parameters": {},
   "duration": 36.865239,
   "end_time": "2022-07-29T00:58:56.838652",
   "environment_variables": {},
   "exception": null,
   "input_path": "__notebook__.ipynb",
   "output_path": "__notebook__.ipynb",
   "parameters": {},
   "start_time": "2022-07-29T00:58:19.973413",
   "version": "2.3.4"
  }
 },
 "nbformat": 4,
 "nbformat_minor": 5
}

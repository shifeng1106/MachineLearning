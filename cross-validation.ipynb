{
 "cells": [
  {
   "cell_type": "code",
   "execution_count": 1,
   "id": "42458672",
   "metadata": {
    "_cell_guid": "b1076dfc-b9ad-4769-8c92-a6c4dae69d19",
    "_uuid": "8f2839f25d086af736a60e9eeb907d3b93b6e0e5",
    "execution": {
     "iopub.execute_input": "2022-06-06T03:47:17.237328Z",
     "iopub.status.busy": "2022-06-06T03:47:17.236603Z",
     "iopub.status.idle": "2022-06-06T03:47:17.259859Z",
     "shell.execute_reply": "2022-06-06T03:47:17.258821Z"
    },
    "papermill": {
     "duration": 0.04006,
     "end_time": "2022-06-06T03:47:17.262267",
     "exception": false,
     "start_time": "2022-06-06T03:47:17.222207",
     "status": "completed"
    },
    "tags": []
   },
   "outputs": [
    {
     "name": "stdout",
     "output_type": "stream",
     "text": [
      "/kaggle/input/stroke-prediction-dataset/healthcare-dataset-stroke-data.csv\n"
     ]
    }
   ],
   "source": [
    "# This Python 3 environment comes with many helpful analytics libraries installed\n",
    "# It is defined by the kaggle/python Docker image: https://github.com/kaggle/docker-python\n",
    "# For example, here's several helpful packages to load\n",
    "\n",
    "import numpy as np # linear algebra\n",
    "import pandas as pd # data processing, CSV file I/O (e.g. pd.read_csv)\n",
    "\n",
    "# Input data files are available in the read-only \"../input/\" directory\n",
    "# For example, running this (by clicking run or pressing Shift+Enter) will list all files under the input directory\n",
    "\n",
    "import os\n",
    "for dirname, _, filenames in os.walk('/kaggle/input'):\n",
    "    for filename in filenames:\n",
    "        print(os.path.join(dirname, filename))\n",
    "\n",
    "# You can write up to 20GB to the current directory (/kaggle/working/) that gets preserved as output when you create a version using \"Save & Run All\" \n",
    "# You can also write temporary files to /kaggle/temp/, but they won't be saved outside of the current session"
   ]
  },
  {
   "cell_type": "markdown",
   "id": "971325f9",
   "metadata": {
    "papermill": {
     "duration": 0.009416,
     "end_time": "2022-06-06T03:47:17.282013",
     "exception": false,
     "start_time": "2022-06-06T03:47:17.272597",
     "status": "completed"
    },
    "tags": []
   },
   "source": [
    "## We will learn: \n",
    "\n",
    "1. Set up proper cross validation to examine the model we build. Do not over-trust the model. Do not think it performed better we thought. \n",
    "2. Compare different cross validation technique and when to apply them. \n",
    "3. Demonstrate correct cross validation technique does make a difference wth the example data in the notebook. "
   ]
  },
  {
   "cell_type": "code",
   "execution_count": 2,
   "id": "40ba7966",
   "metadata": {
    "execution": {
     "iopub.execute_input": "2022-06-06T03:47:17.303692Z",
     "iopub.status.busy": "2022-06-06T03:47:17.302924Z",
     "iopub.status.idle": "2022-06-06T03:47:19.339016Z",
     "shell.execute_reply": "2022-06-06T03:47:19.337822Z"
    },
    "papermill": {
     "duration": 2.049303,
     "end_time": "2022-06-06T03:47:19.341220",
     "exception": false,
     "start_time": "2022-06-06T03:47:17.291917",
     "status": "completed"
    },
    "tags": []
   },
   "outputs": [
    {
     "data": {
      "text/html": [
       "<style type='text/css'>\n",
       ".datatable table.frame { margin-bottom: 0; }\n",
       ".datatable table.frame thead { border-bottom: none; }\n",
       ".datatable table.frame tr.coltypes td {  color: #FFFFFF;  line-height: 6px;  padding: 0 0.5em;}\n",
       ".datatable .bool    { background: #DDDD99; }\n",
       ".datatable .object  { background: #565656; }\n",
       ".datatable .int     { background: #5D9E5D; }\n",
       ".datatable .float   { background: #4040CC; }\n",
       ".datatable .str     { background: #CC4040; }\n",
       ".datatable .time    { background: #40CC40; }\n",
       ".datatable .row_index {  background: var(--jp-border-color3);  border-right: 1px solid var(--jp-border-color0);  color: var(--jp-ui-font-color3);  font-size: 9px;}\n",
       ".datatable .frame tbody td { text-align: left; }\n",
       ".datatable .frame tr.coltypes .row_index {  background: var(--jp-border-color0);}\n",
       ".datatable th:nth-child(2) { padding-left: 12px; }\n",
       ".datatable .hellipsis {  color: var(--jp-cell-editor-border-color);}\n",
       ".datatable .vellipsis {  background: var(--jp-layout-color0);  color: var(--jp-cell-editor-border-color);}\n",
       ".datatable .na {  color: var(--jp-cell-editor-border-color);  font-size: 80%;}\n",
       ".datatable .sp {  opacity: 0.25;}\n",
       ".datatable .footer { font-size: 9px; }\n",
       ".datatable .frame_dimensions {  background: var(--jp-border-color3);  border-top: 1px solid var(--jp-border-color0);  color: var(--jp-ui-font-color3);  display: inline-block;  opacity: 0.6;  padding: 1px 10px 1px 5px;}\n",
       "</style>\n"
      ],
      "text/plain": [
       "<IPython.core.display.HTML object>"
      ]
     },
     "metadata": {},
     "output_type": "display_data"
    }
   ],
   "source": [
    "#Import libraries \n",
    "import matplotlib,pylab as plt\n",
    "import lightgbm as lgb \n",
    "\n",
    "from sklearn.metrics import accuracy_score, roc_auc_score\n",
    "\n",
    "from sklearn.model_selection import (\n",
    "train_test_split,\n",
    "    TimeSeriesSplit,\n",
    "    KFold,\n",
    "    StratifiedKFold,\n",
    "    GroupKFold,\n",
    "    StratifiedGroupKFold,\n",
    ")"
   ]
  },
  {
   "cell_type": "markdown",
   "id": "f7c5a5e4",
   "metadata": {
    "papermill": {
     "duration": 0.009824,
     "end_time": "2022-06-06T03:47:19.361577",
     "exception": false,
     "start_time": "2022-06-06T03:47:19.351753",
     "status": "completed"
    },
    "tags": []
   },
   "source": [
    "# Dataset\n",
    "\n",
    "Predict stroke via features listed on the list. "
   ]
  },
  {
   "cell_type": "code",
   "execution_count": 3,
   "id": "615797c4",
   "metadata": {
    "execution": {
     "iopub.execute_input": "2022-06-06T03:47:19.383761Z",
     "iopub.status.busy": "2022-06-06T03:47:19.383414Z",
     "iopub.status.idle": "2022-06-06T03:47:19.439825Z",
     "shell.execute_reply": "2022-06-06T03:47:19.439039Z"
    },
    "papermill": {
     "duration": 0.069996,
     "end_time": "2022-06-06T03:47:19.442289",
     "exception": false,
     "start_time": "2022-06-06T03:47:19.372293",
     "status": "completed"
    },
    "tags": []
   },
   "outputs": [],
   "source": [
    "def get_pred_data(): \n",
    "    data = pd.read_csv('/kaggle/input/stroke-prediction-dataset/healthcare-dataset-stroke-data.csv')\n",
    "    data['ever_married'] = (data['ever_married'].replace('Yes', True).replace('No', False))\n",
    "    data['gender'] = data['gender'].astype('category')\n",
    "    data['smoking_status'] = data['smoking_status'].astype('category')\n",
    "    data['Residence_type'] = data['Residence_type'].astype('category')\n",
    "    data['work_type'] = data['work_type'].astype('category')\n",
    "    data['doctor'] = np.random.randint(0,8,size=len(data))\n",
    "    holdout_ids = data.sample(n=500,random_state = 529).index\n",
    "    \n",
    "    train = (\n",
    "    data.loc[~data.index.isin(holdout_ids)]\n",
    "    .sample(frac = 1, random_state = 529)\n",
    "    .sort_values('doctor')\n",
    "    .reset_index(drop = True)\n",
    "    )\n",
    "    \n",
    "    holdout = (\n",
    "        data.loc[data.index.isin(holdout_ids)]\n",
    "    .sample(frac = 1, random_state = 529)\n",
    "    .sort_values('doctor')\n",
    "    .reset_index(drop = True)\n",
    "    )\n",
    "    \n",
    "    return train,holdout\n",
    "\n",
    "train,holdout = get_pred_data()"
   ]
  },
  {
   "cell_type": "code",
   "execution_count": 4,
   "id": "a26415d6",
   "metadata": {
    "execution": {
     "iopub.execute_input": "2022-06-06T03:47:19.463774Z",
     "iopub.status.busy": "2022-06-06T03:47:19.462618Z",
     "iopub.status.idle": "2022-06-06T03:47:19.484531Z",
     "shell.execute_reply": "2022-06-06T03:47:19.483854Z"
    },
    "papermill": {
     "duration": 0.03416,
     "end_time": "2022-06-06T03:47:19.486335",
     "exception": false,
     "start_time": "2022-06-06T03:47:19.452175",
     "status": "completed"
    },
    "tags": []
   },
   "outputs": [
    {
     "data": {
      "text/html": [
       "<div>\n",
       "<style scoped>\n",
       "    .dataframe tbody tr th:only-of-type {\n",
       "        vertical-align: middle;\n",
       "    }\n",
       "\n",
       "    .dataframe tbody tr th {\n",
       "        vertical-align: top;\n",
       "    }\n",
       "\n",
       "    .dataframe thead th {\n",
       "        text-align: right;\n",
       "    }\n",
       "</style>\n",
       "<table border=\"1\" class=\"dataframe\">\n",
       "  <thead>\n",
       "    <tr style=\"text-align: right;\">\n",
       "      <th></th>\n",
       "      <th>id</th>\n",
       "      <th>gender</th>\n",
       "      <th>age</th>\n",
       "      <th>hypertension</th>\n",
       "      <th>heart_disease</th>\n",
       "      <th>ever_married</th>\n",
       "      <th>work_type</th>\n",
       "      <th>Residence_type</th>\n",
       "      <th>avg_glucose_level</th>\n",
       "      <th>bmi</th>\n",
       "      <th>smoking_status</th>\n",
       "      <th>stroke</th>\n",
       "      <th>doctor</th>\n",
       "    </tr>\n",
       "  </thead>\n",
       "  <tbody>\n",
       "    <tr>\n",
       "      <th>0</th>\n",
       "      <td>66220</td>\n",
       "      <td>Male</td>\n",
       "      <td>53.0</td>\n",
       "      <td>0</td>\n",
       "      <td>0</td>\n",
       "      <td>True</td>\n",
       "      <td>Private</td>\n",
       "      <td>Urban</td>\n",
       "      <td>126.35</td>\n",
       "      <td>25.2</td>\n",
       "      <td>never smoked</td>\n",
       "      <td>0</td>\n",
       "      <td>0</td>\n",
       "    </tr>\n",
       "    <tr>\n",
       "      <th>1</th>\n",
       "      <td>43478</td>\n",
       "      <td>Male</td>\n",
       "      <td>34.0</td>\n",
       "      <td>0</td>\n",
       "      <td>0</td>\n",
       "      <td>True</td>\n",
       "      <td>Private</td>\n",
       "      <td>Urban</td>\n",
       "      <td>59.91</td>\n",
       "      <td>28.4</td>\n",
       "      <td>formerly smoked</td>\n",
       "      <td>0</td>\n",
       "      <td>0</td>\n",
       "    </tr>\n",
       "    <tr>\n",
       "      <th>2</th>\n",
       "      <td>6419</td>\n",
       "      <td>Female</td>\n",
       "      <td>79.0</td>\n",
       "      <td>0</td>\n",
       "      <td>0</td>\n",
       "      <td>False</td>\n",
       "      <td>Private</td>\n",
       "      <td>Rural</td>\n",
       "      <td>239.52</td>\n",
       "      <td>25.5</td>\n",
       "      <td>never smoked</td>\n",
       "      <td>0</td>\n",
       "      <td>0</td>\n",
       "    </tr>\n",
       "    <tr>\n",
       "      <th>3</th>\n",
       "      <td>43016</td>\n",
       "      <td>Male</td>\n",
       "      <td>10.0</td>\n",
       "      <td>0</td>\n",
       "      <td>0</td>\n",
       "      <td>False</td>\n",
       "      <td>children</td>\n",
       "      <td>Urban</td>\n",
       "      <td>70.70</td>\n",
       "      <td>25.4</td>\n",
       "      <td>Unknown</td>\n",
       "      <td>0</td>\n",
       "      <td>0</td>\n",
       "    </tr>\n",
       "    <tr>\n",
       "      <th>4</th>\n",
       "      <td>49480</td>\n",
       "      <td>Female</td>\n",
       "      <td>31.0</td>\n",
       "      <td>0</td>\n",
       "      <td>0</td>\n",
       "      <td>False</td>\n",
       "      <td>Private</td>\n",
       "      <td>Urban</td>\n",
       "      <td>106.13</td>\n",
       "      <td>22.4</td>\n",
       "      <td>never smoked</td>\n",
       "      <td>0</td>\n",
       "      <td>0</td>\n",
       "    </tr>\n",
       "  </tbody>\n",
       "</table>\n",
       "</div>"
      ],
      "text/plain": [
       "      id  gender   age  hypertension  heart_disease  ever_married work_type  \\\n",
       "0  66220    Male  53.0             0              0          True   Private   \n",
       "1  43478    Male  34.0             0              0          True   Private   \n",
       "2   6419  Female  79.0             0              0         False   Private   \n",
       "3  43016    Male  10.0             0              0         False  children   \n",
       "4  49480  Female  31.0             0              0         False   Private   \n",
       "\n",
       "  Residence_type  avg_glucose_level   bmi   smoking_status  stroke  doctor  \n",
       "0          Urban             126.35  25.2     never smoked       0       0  \n",
       "1          Urban              59.91  28.4  formerly smoked       0       0  \n",
       "2          Rural             239.52  25.5     never smoked       0       0  \n",
       "3          Urban              70.70  25.4          Unknown       0       0  \n",
       "4          Urban             106.13  22.4     never smoked       0       0  "
      ]
     },
     "execution_count": 4,
     "metadata": {},
     "output_type": "execute_result"
    }
   ],
   "source": [
    "train.head()"
   ]
  },
  {
   "cell_type": "code",
   "execution_count": 5,
   "id": "fb777469",
   "metadata": {
    "execution": {
     "iopub.execute_input": "2022-06-06T03:47:19.500514Z",
     "iopub.status.busy": "2022-06-06T03:47:19.499783Z",
     "iopub.status.idle": "2022-06-06T03:47:19.505008Z",
     "shell.execute_reply": "2022-06-06T03:47:19.504401Z"
    },
    "papermill": {
     "duration": 0.013794,
     "end_time": "2022-06-06T03:47:19.506506",
     "exception": false,
     "start_time": "2022-06-06T03:47:19.492712",
     "status": "completed"
    },
    "tags": []
   },
   "outputs": [
    {
     "data": {
      "text/plain": [
       "Index(['id', 'gender', 'age', 'hypertension', 'heart_disease', 'ever_married',\n",
       "       'work_type', 'Residence_type', 'avg_glucose_level', 'bmi',\n",
       "       'smoking_status', 'stroke', 'doctor'],\n",
       "      dtype='object')"
      ]
     },
     "execution_count": 5,
     "metadata": {},
     "output_type": "execute_result"
    }
   ],
   "source": [
    "train.columns"
   ]
  },
  {
   "cell_type": "code",
   "execution_count": 6,
   "id": "7f301fc6",
   "metadata": {
    "execution": {
     "iopub.execute_input": "2022-06-06T03:47:19.521189Z",
     "iopub.status.busy": "2022-06-06T03:47:19.520595Z",
     "iopub.status.idle": "2022-06-06T03:47:19.526263Z",
     "shell.execute_reply": "2022-06-06T03:47:19.525695Z"
    },
    "papermill": {
     "duration": 0.01472,
     "end_time": "2022-06-06T03:47:19.527896",
     "exception": false,
     "start_time": "2022-06-06T03:47:19.513176",
     "status": "completed"
    },
    "tags": []
   },
   "outputs": [],
   "source": [
    "def get_X_y(train):\n",
    "\n",
    "    FEATURES = [\n",
    "        'id', \n",
    "        'gender', \n",
    "        'age', \n",
    "        'hypertension', \n",
    "        'heart_disease', \n",
    "        'ever_married',\n",
    "        'work_type', \n",
    "        'Residence_type', \n",
    "        'avg_glucose_level', \n",
    "        'bmi',\n",
    "        'smoking_status'\n",
    "    ]\n",
    "\n",
    "    GROUPS =  'doctor'\n",
    "\n",
    "    TARGET =  'stroke'\n",
    "\n",
    "    X = train[FEATURES]\n",
    "    y= train[TARGET]\n",
    "    groups = train[GROUPS]\n",
    "    \n",
    "    return X,y,groups"
   ]
  },
  {
   "cell_type": "code",
   "execution_count": 7,
   "id": "a9a6c425",
   "metadata": {
    "execution": {
     "iopub.execute_input": "2022-06-06T03:47:19.542661Z",
     "iopub.status.busy": "2022-06-06T03:47:19.542145Z",
     "iopub.status.idle": "2022-06-06T03:47:19.796319Z",
     "shell.execute_reply": "2022-06-06T03:47:19.795668Z"
    },
    "papermill": {
     "duration": 0.263477,
     "end_time": "2022-06-06T03:47:19.798186",
     "exception": false,
     "start_time": "2022-06-06T03:47:19.534709",
     "status": "completed"
    },
    "tags": []
   },
   "outputs": [],
   "source": [
    "X,y,groups = get_X_y(train)\n",
    "clf = lgb.LGBMClassifier(n_estimators = 100)\n",
    "clf.fit(X,y)\n",
    "#predict on training set \n",
    "\n",
    "pred = clf.predict(X)\n",
    "pred_proba = clf.predict_proba(X)[:,1]"
   ]
  },
  {
   "cell_type": "code",
   "execution_count": 8,
   "id": "9a10938c",
   "metadata": {
    "execution": {
     "iopub.execute_input": "2022-06-06T03:47:19.813943Z",
     "iopub.status.busy": "2022-06-06T03:47:19.813577Z",
     "iopub.status.idle": "2022-06-06T03:47:19.819783Z",
     "shell.execute_reply": "2022-06-06T03:47:19.819182Z"
    },
    "papermill": {
     "duration": 0.016067,
     "end_time": "2022-06-06T03:47:19.821930",
     "exception": false,
     "start_time": "2022-06-06T03:47:19.805863",
     "status": "completed"
    },
    "tags": []
   },
   "outputs": [
    {
     "data": {
      "text/plain": [
       "array([0.00209633, 0.00010412, 0.04765486, ..., 0.00510025, 0.04259773,\n",
       "       0.00115935])"
      ]
     },
     "execution_count": 8,
     "metadata": {},
     "output_type": "execute_result"
    }
   ],
   "source": [
    "pred_proba"
   ]
  },
  {
   "cell_type": "code",
   "execution_count": 9,
   "id": "80693480",
   "metadata": {
    "execution": {
     "iopub.execute_input": "2022-06-06T03:47:19.844120Z",
     "iopub.status.busy": "2022-06-06T03:47:19.843677Z",
     "iopub.status.idle": "2022-06-06T03:47:19.853929Z",
     "shell.execute_reply": "2022-06-06T03:47:19.852290Z"
    },
    "papermill": {
     "duration": 0.023879,
     "end_time": "2022-06-06T03:47:19.856208",
     "exception": false,
     "start_time": "2022-06-06T03:47:19.832329",
     "status": "completed"
    },
    "tags": []
   },
   "outputs": [
    {
     "name": "stdout",
     "output_type": "stream",
     "text": [
      "The score on the training set accuracy is :0.9976 and AUC of 1.0000\n"
     ]
    }
   ],
   "source": [
    "acc_score = accuracy_score(y,pred)\n",
    "auc_score = roc_auc_score(y,pred_proba)\n",
    "\n",
    "print(f'The score on the training set accuracy is :{acc_score:0.4f} and AUC of {auc_score:0.4f}')"
   ]
  },
  {
   "cell_type": "markdown",
   "id": "d4a28c9f",
   "metadata": {
    "papermill": {
     "duration": 0.010109,
     "end_time": "2022-06-06T03:47:19.877038",
     "exception": false,
     "start_time": "2022-06-06T03:47:19.866929",
     "status": "completed"
    },
    "tags": []
   },
   "source": [
    "# Model can be 99% accurate !!! ??\n",
    "\n",
    "Nope!!!"
   ]
  },
  {
   "cell_type": "markdown",
   "id": "06c6e2b4",
   "metadata": {
    "papermill": {
     "duration": 0.010232,
     "end_time": "2022-06-06T03:47:19.897667",
     "exception": false,
     "start_time": "2022-06-06T03:47:19.887435",
     "status": "completed"
    },
    "tags": []
   },
   "source": [
    "#  Check on hold out set"
   ]
  },
  {
   "cell_type": "code",
   "execution_count": 10,
   "id": "b25ab1a9",
   "metadata": {
    "execution": {
     "iopub.execute_input": "2022-06-06T03:47:19.919809Z",
     "iopub.status.busy": "2022-06-06T03:47:19.919177Z",
     "iopub.status.idle": "2022-06-06T03:47:19.945658Z",
     "shell.execute_reply": "2022-06-06T03:47:19.944944Z"
    },
    "papermill": {
     "duration": 0.039621,
     "end_time": "2022-06-06T03:47:19.947385",
     "exception": false,
     "start_time": "2022-06-06T03:47:19.907764",
     "status": "completed"
    },
    "tags": []
   },
   "outputs": [
    {
     "name": "stdout",
     "output_type": "stream",
     "text": [
      "The score on the training set accuracy is :0.9460 and AUC of 0.7628\n"
     ]
    }
   ],
   "source": [
    "X_holdout, y_holdout, groups_holdout = get_X_y(holdout)\n",
    "\n",
    "pred_holdout = clf.predict(X_holdout)\n",
    "pred_holdout_proba = clf.predict_proba(X_holdout)[:,1]\n",
    "\n",
    "acc_score_holdout = accuracy_score(y_holdout,pred_holdout)\n",
    "auc_score_holdout = roc_auc_score(y_holdout,pred_holdout_proba)\n",
    "\n",
    "print(f'The score on the training set accuracy is :{acc_score_holdout:0.4f} and AUC of {auc_score_holdout:0.4f}')"
   ]
  },
  {
   "cell_type": "markdown",
   "id": "ed892deb",
   "metadata": {
    "papermill": {
     "duration": 0.010297,
     "end_time": "2022-06-06T03:47:19.969089",
     "exception": false,
     "start_time": "2022-06-06T03:47:19.958792",
     "status": "completed"
    },
    "tags": []
   },
   "source": [
    "# Baseline\n",
    "\n",
    "Predicting All zero. "
   ]
  },
  {
   "cell_type": "code",
   "execution_count": 11,
   "id": "39ffe7d6",
   "metadata": {
    "execution": {
     "iopub.execute_input": "2022-06-06T03:47:19.991415Z",
     "iopub.status.busy": "2022-06-06T03:47:19.991088Z",
     "iopub.status.idle": "2022-06-06T03:47:19.999555Z",
     "shell.execute_reply": "2022-06-06T03:47:19.998729Z"
    },
    "papermill": {
     "duration": 0.021925,
     "end_time": "2022-06-06T03:47:20.001486",
     "exception": false,
     "start_time": "2022-06-06T03:47:19.979561",
     "status": "completed"
    },
    "tags": []
   },
   "outputs": [
    {
     "data": {
      "text/plain": [
       "(0.9516268980477224, 0.5)"
      ]
     },
     "execution_count": 11,
     "metadata": {},
     "output_type": "execute_result"
    }
   ],
   "source": [
    "accuracy_score(y,np.zeros_like(y)),roc_auc_score(y,np.zeros_like(y))"
   ]
  },
  {
   "attachments": {
    "ca058716-bef8-4b5a-9415-03ea7b4b36bc.png": {
     "image/png": "[encoded data removed]"
    }
   },
   "cell_type": "markdown",
   "id": "75ef820f",
   "metadata": {
    "papermill": {
     "duration": 0.010286,
     "end_time": "2022-06-06T03:47:20.022565",
     "exception": false,
     "start_time": "2022-06-06T03:47:20.012279",
     "status": "completed"
    },
    "tags": []
   },
   "source": [
    "# Train/Test Split\n",
    "\n",
    "![image.png](attachment:ca058716-bef8-4b5a-9415-03ea7b4b36bc.png)!\n",
    "\n",
    "Split train into train and validation set. \n",
    "\n",
    "Shuffle is a good idea to make sure order do not have any impact on the split. \n",
    "\n",
    "Stratified is even distribution of positive samples in each set. Consider using when the dataset is small and unbalanced. "
   ]
  },
  {
   "cell_type": "code",
   "execution_count": 12,
   "id": "915b9af0",
   "metadata": {
    "execution": {
     "iopub.execute_input": "2022-06-06T03:47:20.045542Z",
     "iopub.status.busy": "2022-06-06T03:47:20.044955Z",
     "iopub.status.idle": "2022-06-06T03:47:20.125268Z",
     "shell.execute_reply": "2022-06-06T03:47:20.124413Z"
    },
    "papermill": {
     "duration": 0.094256,
     "end_time": "2022-06-06T03:47:20.127350",
     "exception": false,
     "start_time": "2022-06-06T03:47:20.033094",
     "status": "completed"
    },
    "tags": []
   },
   "outputs": [
    {
     "name": "stdout",
     "output_type": "stream",
     "text": [
      "The score on the training set accuracy is :0.9460 and AUC of 0.7628\n"
     ]
    }
   ],
   "source": [
    "X,y,groups = get_X_y(train)\n",
    "X_tr,X_val,y_tr,y_val = train_test_split(X,y,test_size = 0.2)\n",
    "clf = lgb.LGBMClassifier(n_estimators = 100, max_depth = 3)\n",
    "clf.fit(X_tr, y_tr)\n",
    "pred = clf.predict(X_val)\n",
    "pred_proba = clf.predict_proba(X_val)[:,1]\n",
    "\n",
    "\n",
    "acc_score = accuracy_score(y_val,pred)\n",
    "auc_score = roc_auc_score(y_val,pred_proba)\n",
    "\n",
    "print(f'The score on the training set accuracy is :{acc_score_holdout:0.4f} and AUC of {auc_score_holdout:0.4f}')"
   ]
  },
  {
   "cell_type": "code",
   "execution_count": 13,
   "id": "21193e58",
   "metadata": {
    "execution": {
     "iopub.execute_input": "2022-06-06T03:47:20.151940Z",
     "iopub.status.busy": "2022-06-06T03:47:20.150997Z",
     "iopub.status.idle": "2022-06-06T03:47:20.176955Z",
     "shell.execute_reply": "2022-06-06T03:47:20.175951Z"
    },
    "papermill": {
     "duration": 0.040326,
     "end_time": "2022-06-06T03:47:20.179137",
     "exception": false,
     "start_time": "2022-06-06T03:47:20.138811",
     "status": "completed"
    },
    "tags": []
   },
   "outputs": [],
   "source": [
    "## From sklearn documentations \n",
    "\n",
    "from matplotlib.patches import Patch\n",
    "cmap_data = plt.cm.Paired\n",
    "cmap_cv = plt.cm.coolwarm\n",
    "\n",
    "def visualize_groups(classes, groups, name):\n",
    "    # Visualize dataset groups\n",
    "    fig, ax = plt.subplots()\n",
    "    ax.scatter(\n",
    "        range(len(groups)),\n",
    "        [0.5] * len(groups),\n",
    "        c=groups,\n",
    "        marker=\"_\",\n",
    "        lw=50,\n",
    "        cmap=cmap_data,\n",
    "    )\n",
    "    ax.scatter(\n",
    "        range(len(groups)),\n",
    "        [3.5] * len(groups),\n",
    "        c=classes,\n",
    "        marker=\"_\",\n",
    "        lw=50,\n",
    "        cmap=cmap_data,\n",
    "    )\n",
    "    ax.set(\n",
    "        ylim=[-1, 5],\n",
    "        yticks=[0.5, 3.5],\n",
    "        yticklabels=[\"Data\\ngroup\", \"Data\\nclass\"],\n",
    "        xlabel=\"Sample index\",\n",
    "    )\n",
    "    \n",
    "def plot_cv_indices(cv, X, y, group, ax, n_splits, lw=25):\n",
    "    \"\"\"Create a sample plot for indices of a cross-validation object.\"\"\"\n",
    "\n",
    "    # Generate the training/testing visualizations for each CV split\n",
    "    for ii, (tr, tt) in enumerate(cv.split(X=X, y=y, groups=group)):\n",
    "        # Fill in indices with the training/test groups\n",
    "        indices = np.array([np.nan] * len(X))\n",
    "        indices[tt] = 1\n",
    "        indices[tr] = 0\n",
    "\n",
    "        # Visualize the results\n",
    "        ax.scatter(\n",
    "            range(len(indices)),\n",
    "            [ii + 0.5] * len(indices),\n",
    "            c=indices,\n",
    "            marker=\"_\",\n",
    "            lw=lw,\n",
    "            cmap=cmap_cv,\n",
    "            vmin=-0.2,\n",
    "            vmax=1.2,\n",
    "        )\n",
    "\n",
    "    # Plot the data classes and groups at the end\n",
    "    ax.scatter(\n",
    "        range(len(X)), [ii + 1.5] * len(X), c=y, marker=\"_\", lw=lw, cmap=cmap_data\n",
    "    )\n",
    "\n",
    "    ax.scatter(\n",
    "        range(len(X)), [ii + 2.5] * len(X), c=group, marker=\"_\", lw=lw, cmap=cmap_data\n",
    "    )\n",
    "\n",
    "    \n",
    "     # Formatting\n",
    "    yticklabels = list(range(n_splits)) + [\"class\", \"group\"]\n",
    "    ax.set(\n",
    "        yticks=np.arange(n_splits + 2) + 0.5,\n",
    "        yticklabels=yticklabels,\n",
    "        xlabel=\"Sample index\",\n",
    "        ylabel=\"CV iteration\",\n",
    "        ylim=[n_splits + 2.2, -0.2],\n",
    "        xlim=[0, 100],\n",
    "    )\n",
    "    ax.set_title(\"{}\".format(type(cv).__name__), fontsize=15)\n",
    "    return ax\n",
    "\n",
    "\n",
    "def plot_cv(cv, X, y, groups, n_splits=5):\n",
    "    this_cv = cv(n_splits=n_splits)\n",
    "    fig, ax = plt.subplots(figsize=(15, 5))\n",
    "    plot_cv_indices(this_cv, X, y, groups, ax, n_splits)\n",
    "\n",
    "    ax.legend(\n",
    "        [Patch(color=cmap_cv(0.8)), Patch(color=cmap_cv(0.02))],\n",
    "        [\"Testing set\", \"Training set\"],\n",
    "        loc=(1.02, 0.8),\n",
    "    )\n",
    "    plt.tight_layout()\n",
    "    fig.subplots_adjust(right=0.7)\n",
    "    plt.show()\n",
    "    \n",
    "def get_fake_X_y():\n",
    "# Fake Generate the class/group data for an example\n",
    "    n_points = 100\n",
    "    X_ = np.random.randn(100, 10)\n",
    "\n",
    "    percentiles_classes = [0.1, 0.9]\n",
    "    y_ = np.hstack([[ii] * int(100 * perc) for ii, perc in enumerate(percentiles_classes)])\n",
    "\n",
    "    # Evenly spaced groups repeated once\n",
    "    groups_ = np.hstack([[ii] * 10 for ii in range(10)])\n",
    "    return X_, y_, groups_"
   ]
  },
  {
   "cell_type": "markdown",
   "id": "fb9eb031",
   "metadata": {
    "papermill": {
     "duration": 0.010542,
     "end_time": "2022-06-06T03:47:20.200668",
     "exception": false,
     "start_time": "2022-06-06T03:47:20.190126",
     "status": "completed"
    },
    "tags": []
   },
   "source": [
    "# KFold\n",
    "\n",
    "Split dataset into k consecutive folds (without shuffling by default)."
   ]
  },
  {
   "cell_type": "code",
   "execution_count": 14,
   "id": "69043612",
   "metadata": {
    "execution": {
     "iopub.execute_input": "2022-06-06T03:47:20.224146Z",
     "iopub.status.busy": "2022-06-06T03:47:20.223729Z",
     "iopub.status.idle": "2022-06-06T03:47:20.485082Z",
     "shell.execute_reply": "2022-06-06T03:47:20.483571Z"
    },
    "papermill": {
     "duration": 0.275453,
     "end_time": "2022-06-06T03:47:20.487093",
     "exception": false,
     "start_time": "2022-06-06T03:47:20.211640",
     "status": "completed"
    },
    "tags": []
   },
   "outputs": [
    {
     "data": {
      "image/png": "[encoded data removed]",
      "text/plain": [
       "<Figure size 1080x360 with 1 Axes>"
      ]
     },
     "metadata": {
      "needs_background": "light"
     },
     "output_type": "display_data"
    }
   ],
   "source": [
    "kf = KFold()\n",
    "X_, y_, groups_ = get_fake_X_y()\n",
    "plot_cv(KFold, X_, y_, groups_)"
   ]
  },
  {
   "cell_type": "markdown",
   "id": "de1791ac",
   "metadata": {
    "papermill": {
     "duration": 0.006607,
     "end_time": "2022-06-06T03:47:20.500818",
     "exception": false,
     "start_time": "2022-06-06T03:47:20.494211",
     "status": "completed"
    },
    "tags": []
   },
   "source": [
    "# StratifiedKFold\n",
    "\n",
    "KFold but the folds are made by preserving the percentage of samples for each class."
   ]
  },
  {
   "cell_type": "code",
   "execution_count": 15,
   "id": "6c81982a",
   "metadata": {
    "execution": {
     "iopub.execute_input": "2022-06-06T03:47:20.516442Z",
     "iopub.status.busy": "2022-06-06T03:47:20.515335Z",
     "iopub.status.idle": "2022-06-06T03:47:20.731637Z",
     "shell.execute_reply": "2022-06-06T03:47:20.730117Z"
    },
    "papermill": {
     "duration": 0.226191,
     "end_time": "2022-06-06T03:47:20.733702",
     "exception": false,
     "start_time": "2022-06-06T03:47:20.507511",
     "status": "completed"
    },
    "tags": []
   },
   "outputs": [
    {
     "data": {
      "image/png": "[encoded data removed]",
      "text/plain": [
       "<Figure size 1080x360 with 1 Axes>"
      ]
     },
     "metadata": {
      "needs_background": "light"
     },
     "output_type": "display_data"
    }
   ],
   "source": [
    "skf = StratifiedKFold()\n",
    "X_, y_, groups_ = get_fake_X_y()\n",
    "plot_cv(StratifiedKFold, X_, y_, groups_)"
   ]
  },
  {
   "cell_type": "markdown",
   "id": "37971ea1",
   "metadata": {
    "papermill": {
     "duration": 0.0068,
     "end_time": "2022-06-06T03:47:20.748058",
     "exception": false,
     "start_time": "2022-06-06T03:47:20.741258",
     "status": "completed"
    },
    "tags": []
   },
   "source": [
    "# GroupKFold\n",
    "\n",
    "The folds are approximately balanced in the sense that the number of distinct groups is approximately the same in each fold."
   ]
  },
  {
   "cell_type": "code",
   "execution_count": 16,
   "id": "362cd433",
   "metadata": {
    "execution": {
     "iopub.execute_input": "2022-06-06T03:47:20.768483Z",
     "iopub.status.busy": "2022-06-06T03:47:20.767984Z",
     "iopub.status.idle": "2022-06-06T03:47:20.989495Z",
     "shell.execute_reply": "2022-06-06T03:47:20.988647Z"
    },
    "papermill": {
     "duration": 0.236644,
     "end_time": "2022-06-06T03:47:20.991722",
     "exception": false,
     "start_time": "2022-06-06T03:47:20.755078",
     "status": "completed"
    },
    "tags": []
   },
   "outputs": [
    {
     "data": {
      "image/png": "[encoded data removed]",
      "text/plain": [
       "<Figure size 1080x360 with 1 Axes>"
      ]
     },
     "metadata": {
      "needs_background": "light"
     },
     "output_type": "display_data"
    }
   ],
   "source": [
    "gkf = GroupKFold()\n",
    "X_, y_, groups_ = get_fake_X_y()\n",
    "plot_cv(GroupKFold, X_, y_, groups_)"
   ]
  },
  {
   "cell_type": "markdown",
   "id": "d45c22ce",
   "metadata": {
    "papermill": {
     "duration": 0.011658,
     "end_time": "2022-06-06T03:47:21.015367",
     "exception": false,
     "start_time": "2022-06-06T03:47:21.003709",
     "status": "completed"
    },
    "tags": []
   },
   "source": [
    "# Stratified KFold\n",
    "\n",
    "The difference between GroupKFold and StratifiedGroupKFold is that the former attempts to create balanced folds such that the number of distinct groups is approximately the same in each fold, whereas StratifiedGroupKFold attempts to create folds which preserve the percentage of samples for each class as much as possible given the constraint of non-overlapping groups between splits."
   ]
  },
  {
   "cell_type": "code",
   "execution_count": 17,
   "id": "78c450b8",
   "metadata": {
    "execution": {
     "iopub.execute_input": "2022-06-06T03:47:21.041084Z",
     "iopub.status.busy": "2022-06-06T03:47:21.040553Z",
     "iopub.status.idle": "2022-06-06T03:47:21.276198Z",
     "shell.execute_reply": "2022-06-06T03:47:21.275388Z"
    },
    "papermill": {
     "duration": 0.251058,
     "end_time": "2022-06-06T03:47:21.278507",
     "exception": false,
     "start_time": "2022-06-06T03:47:21.027449",
     "status": "completed"
    },
    "tags": []
   },
   "outputs": [
    {
     "data": {
      "image/png": "[encoded data removed]",
      "text/plain": [
       "<Figure size 1080x360 with 1 Axes>"
      ]
     },
     "metadata": {
      "needs_background": "light"
     },
     "output_type": "display_data"
    }
   ],
   "source": [
    "gskf = StratifiedGroupKFold()\n",
    "X_, y_, groups_ = get_fake_X_y()\n",
    "np.random.shuffle(y_)\n",
    "plot_cv(StratifiedGroupKFold, X_, y_, groups_)"
   ]
  },
  {
   "cell_type": "markdown",
   "id": "982372e6",
   "metadata": {
    "papermill": {
     "duration": 0.011731,
     "end_time": "2022-06-06T03:47:21.302349",
     "exception": false,
     "start_time": "2022-06-06T03:47:21.290618",
     "status": "completed"
    },
    "tags": []
   },
   "source": [
    "# Time series split "
   ]
  },
  {
   "cell_type": "code",
   "execution_count": 18,
   "id": "3dd65088",
   "metadata": {
    "execution": {
     "iopub.execute_input": "2022-06-06T03:47:21.327433Z",
     "iopub.status.busy": "2022-06-06T03:47:21.327052Z",
     "iopub.status.idle": "2022-06-06T03:47:21.548464Z",
     "shell.execute_reply": "2022-06-06T03:47:21.547925Z"
    },
    "papermill": {
     "duration": 0.235761,
     "end_time": "2022-06-06T03:47:21.550019",
     "exception": false,
     "start_time": "2022-06-06T03:47:21.314258",
     "status": "completed"
    },
    "tags": []
   },
   "outputs": [
    {
     "data": {
      "image/png": "[encoded data removed]",
      "text/plain": [
       "<Figure size 1080x360 with 1 Axes>"
      ]
     },
     "metadata": {
      "needs_background": "light"
     },
     "output_type": "display_data"
    }
   ],
   "source": [
    "tss = TimeSeriesSplit()\n",
    "X_, y_, groups_ = get_fake_X_y()\n",
    "np.random.shuffle(y_)\n",
    "plot_cv(TimeSeriesSplit, X_, y_, groups_)"
   ]
  },
  {
   "cell_type": "markdown",
   "id": "5a87a7a1",
   "metadata": {
    "papermill": {
     "duration": 0.00796,
     "end_time": "2022-06-06T03:47:21.566376",
     "exception": false,
     "start_time": "2022-06-06T03:47:21.558416",
     "status": "completed"
    },
    "tags": []
   },
   "source": [
    "# Example dataset with proper cross validation\n",
    "\n",
    "1. Small and imbalanced : Startified\n",
    "2. Group with Doctors : Group\n",
    "3. Shuffle is on\n",
    "\n",
    "StratifiedGroupKFold is a good choice for this situation."
   ]
  },
  {
   "cell_type": "code",
   "execution_count": 19,
   "id": "293c9278",
   "metadata": {
    "execution": {
     "iopub.execute_input": "2022-06-06T03:47:21.585006Z",
     "iopub.status.busy": "2022-06-06T03:47:21.584224Z",
     "iopub.status.idle": "2022-06-06T03:47:22.353237Z",
     "shell.execute_reply": "2022-06-06T03:47:22.351934Z"
    },
    "papermill": {
     "duration": 0.781668,
     "end_time": "2022-06-06T03:47:22.356322",
     "exception": false,
     "start_time": "2022-06-06T03:47:21.574654",
     "status": "completed"
    },
    "tags": []
   },
   "outputs": [
    {
     "name": "stdout",
     "output_type": "stream",
     "text": [
      "======= Fold 0 ========\n",
      "The score on the training set accuracy is :0.9372 and AUC of 0.8425\n",
      "======= Fold 1 ========\n",
      "The score on the training set accuracy is :0.9480 and AUC of 0.8328\n",
      "======= Fold 2 ========\n",
      "The score on the training set accuracy is :0.9588 and AUC of 0.8015\n",
      "======= Fold 3 ========\n",
      "The score on the training set accuracy is :0.9504 and AUC of 0.8576\n",
      "======= Fold 4 ========\n",
      "The score on the training set accuracy is :0.9470 and AUC of 0.8329\n",
      "The out of fold AUC score is :0.8334\n"
     ]
    }
   ],
   "source": [
    "sgk = StratifiedGroupKFold(n_splits=5, shuffle=True, random_state=529)\n",
    "\n",
    "X,y,groups = get_X_y(train)\n",
    "fold = 0\n",
    "aucs = []\n",
    "for train_idx, val_idx in sgk.split(X,y,groups):\n",
    "    X_tr = X.loc[train_idx]\n",
    "    y_tr = y.loc[train_idx]\n",
    "    X_val = X.loc[val_idx]\n",
    "    y_val = y.loc[val_idx]\n",
    "    \n",
    "    clf = lgb.LGBMClassifier(n_estimators = 100)\n",
    "    clf.fit(X_tr, y_tr)\n",
    "    pred = clf.predict(X_val)\n",
    "    pred_proba = clf.predict_proba(X_val)[:,1]\n",
    "\n",
    "\n",
    "    acc_score = accuracy_score(y_val,pred)\n",
    "    auc_score = roc_auc_score(y_val,pred_proba)\n",
    "    \n",
    "    print(f\"======= Fold {fold} ========\")\n",
    "\n",
    "    print(f'The score on the training set accuracy is :{acc_score:0.4f} and AUC of {auc_score:0.4f}')\n",
    "    fold += 1\n",
    "    aucs.append(auc_score)\n",
    "    \n",
    "oof_auc = np.mean(aucs)\n",
    "print(f'The out of fold AUC score is :{oof_auc:0.4f}')"
   ]
  },
  {
   "cell_type": "code",
   "execution_count": null,
   "id": "6344f297",
   "metadata": {
    "papermill": {
     "duration": 0.017171,
     "end_time": "2022-06-06T03:47:22.386845",
     "exception": false,
     "start_time": "2022-06-06T03:47:22.369674",
     "status": "completed"
    },
    "tags": []
   },
   "outputs": [],
   "source": []
  }
 ],
 "metadata": {
  "kernelspec": {
   "display_name": "Python 3",
   "language": "python",
   "name": "python3"
  },
  "language_info": {
   "codemirror_mode": {
    "name": "ipython",
    "version": 3
   },
   "file_extension": ".py",
   "mimetype": "text/x-python",
   "name": "python",
   "nbconvert_exporter": "python",
   "pygments_lexer": "ipython3",
   "version": "3.7.12"
  },
  "papermill": {
   "default_parameters": {},
   "duration": 16.375726,
   "end_time": "2022-06-06T03:47:23.322599",
   "environment_variables": {},
   "exception": null,
   "input_path": "__notebook__.ipynb",
   "output_path": "__notebook__.ipynb",
   "parameters": {},
   "start_time": "2022-06-06T03:47:06.946873",
   "version": "2.3.4"
  }
 },
 "nbformat": 4,
 "nbformat_minor": 5
}

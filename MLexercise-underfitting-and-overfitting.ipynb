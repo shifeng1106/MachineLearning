{
 "cells": [
  {
   "cell_type": "markdown",
   "id": "62d3416f",
   "metadata": {
    "papermill": {
     "duration": 0.004935,
     "end_time": "2022-05-31T02:47:44.715958",
     "exception": false,
     "start_time": "2022-05-31T02:47:44.711023",
     "status": "completed"
    },
    "tags": []
   },
   "source": [
    "**This notebook is an exercise in the [Introduction to Machine Learning](https://www.kaggle.com/learn/intro-to-machine-learning) course.  You can reference the tutorial at [this link](https://www.kaggle.com/dansbecker/underfitting-and-overfitting).**\n",
    "\n",
    "---\n"
   ]
  },
  {
   "cell_type": "markdown",
   "id": "383f445e",
   "metadata": {
    "papermill": {
     "duration": 0.003606,
     "end_time": "2022-05-31T02:47:44.726284",
     "exception": false,
     "start_time": "2022-05-31T02:47:44.722678",
     "status": "completed"
    },
    "tags": []
   },
   "source": [
    "## Recap\n",
    "You've built your first model, and now it's time to optimize the size of the tree to make better predictions. Run this cell to set up your coding environment where the previous step left off."
   ]
  },
  {
   "cell_type": "code",
   "execution_count": 1,
   "id": "d9cfaa83",
   "metadata": {
    "execution": {
     "iopub.execute_input": "2022-05-31T02:47:44.736283Z",
     "iopub.status.busy": "2022-05-31T02:47:44.735637Z",
     "iopub.status.idle": "2022-05-31T02:47:46.148087Z",
     "shell.execute_reply": "2022-05-31T02:47:46.146919Z"
    },
    "papermill": {
     "duration": 1.421483,
     "end_time": "2022-05-31T02:47:46.151649",
     "exception": false,
     "start_time": "2022-05-31T02:47:44.730166",
     "status": "completed"
    },
    "tags": []
   },
   "outputs": [
    {
     "name": "stdout",
     "output_type": "stream",
     "text": [
      "Validation MAE: 29,653\n",
      "\n",
      "Setup complete\n"
     ]
    }
   ],
   "source": [
    "# Code you have previously used to load data\n",
    "import pandas as pd\n",
    "from sklearn.metrics import mean_absolute_error\n",
    "from sklearn.model_selection import train_test_split\n",
    "from sklearn.tree import DecisionTreeRegressor\n",
    "\n",
    "\n",
    "# Path of the file to read\n",
    "iowa_file_path = '../input/home-data-for-ml-course/train.csv'\n",
    "\n",
    "home_data = pd.read_csv(iowa_file_path)\n",
    "# Create target object and call it y\n",
    "y = home_data.SalePrice\n",
    "# Create X\n",
    "features = ['LotArea', 'YearBuilt', '1stFlrSF', '2ndFlrSF', 'FullBath', 'BedroomAbvGr', 'TotRmsAbvGrd']\n",
    "X = home_data[features]\n",
    "\n",
    "# Split into validation and training data\n",
    "train_X, val_X, train_y, val_y = train_test_split(X, y, random_state=1)\n",
    "\n",
    "# Specify Model\n",
    "iowa_model = DecisionTreeRegressor(random_state=1)\n",
    "# Fit Model\n",
    "iowa_model.fit(train_X, train_y)\n",
    "\n",
    "# Make validation predictions and calculate mean absolute error\n",
    "val_predictions = iowa_model.predict(val_X)\n",
    "val_mae = mean_absolute_error(val_predictions, val_y)\n",
    "print(\"Validation MAE: {:,.0f}\".format(val_mae))\n",
    "\n",
    "# Set up code checking\n",
    "from learntools.core import binder\n",
    "binder.bind(globals())\n",
    "from learntools.machine_learning.ex5 import *\n",
    "print(\"\\nSetup complete\")"
   ]
  },
  {
   "cell_type": "markdown",
   "id": "d86bb8e3",
   "metadata": {
    "papermill": {
     "duration": 0.004204,
     "end_time": "2022-05-31T02:47:46.160871",
     "exception": false,
     "start_time": "2022-05-31T02:47:46.156667",
     "status": "completed"
    },
    "tags": []
   },
   "source": [
    "# Exercises\n",
    "You could write the function `get_mae` yourself. For now, we'll supply it. This is the same function you read about in the previous lesson. Just run the cell below."
   ]
  },
  {
   "cell_type": "code",
   "execution_count": 2,
   "id": "2d9c0cfc",
   "metadata": {
    "execution": {
     "iopub.execute_input": "2022-05-31T02:47:46.171571Z",
     "iopub.status.busy": "2022-05-31T02:47:46.170536Z",
     "iopub.status.idle": "2022-05-31T02:47:46.176150Z",
     "shell.execute_reply": "2022-05-31T02:47:46.175340Z"
    },
    "papermill": {
     "duration": 0.013051,
     "end_time": "2022-05-31T02:47:46.178153",
     "exception": false,
     "start_time": "2022-05-31T02:47:46.165102",
     "status": "completed"
    },
    "tags": []
   },
   "outputs": [],
   "source": [
    "def get_mae(max_leaf_nodes, train_X, val_X, train_y, val_y):\n",
    "    model = DecisionTreeRegressor(max_leaf_nodes=max_leaf_nodes, random_state=0)\n",
    "    model.fit(train_X, train_y)\n",
    "    preds_val = model.predict(val_X)\n",
    "    mae = mean_absolute_error(val_y, preds_val)\n",
    "    return(mae)"
   ]
  },
  {
   "cell_type": "markdown",
   "id": "4e53be91",
   "metadata": {
    "papermill": {
     "duration": 0.003746,
     "end_time": "2022-05-31T02:47:46.186043",
     "exception": false,
     "start_time": "2022-05-31T02:47:46.182297",
     "status": "completed"
    },
    "tags": []
   },
   "source": [
    "## Step 1: Compare Different Tree Sizes\n",
    "Write a loop that tries the following values for *max_leaf_nodes* from a set of possible values.\n",
    "\n",
    "Call the *get_mae* function on each value of max_leaf_nodes. Store the output in some way that allows you to select the value of `max_leaf_nodes` that gives the most accurate model on your data."
   ]
  },
  {
   "cell_type": "code",
   "execution_count": 3,
   "id": "95a2b1a7",
   "metadata": {
    "execution": {
     "iopub.execute_input": "2022-05-31T02:47:46.196244Z",
     "iopub.status.busy": "2022-05-31T02:47:46.195537Z",
     "iopub.status.idle": "2022-05-31T02:47:46.245382Z",
     "shell.execute_reply": "2022-05-31T02:47:46.244502Z"
    },
    "papermill": {
     "duration": 0.05712,
     "end_time": "2022-05-31T02:47:46.247278",
     "exception": false,
     "start_time": "2022-05-31T02:47:46.190158",
     "status": "completed"
    },
    "tags": []
   },
   "outputs": [
    {
     "name": "stdout",
     "output_type": "stream",
     "text": [
      "100\n"
     ]
    },
    {
     "data": {
      "application/javascript": [
       "parent.postMessage({\"jupyterEvent\": \"custom.exercise_interaction\", \"data\": {\"outcomeType\": 1, \"valueTowardsCompletion\": 0.5, \"interactionType\": 1, \"questionType\": 1, \"questionId\": \"1_BestTreeSize\", \"learnToolsVersion\": \"0.3.4\", \"failureMessage\": \"\", \"exceptionClass\": \"\", \"trace\": \"\"}}, \"*\")"
      ],
      "text/plain": [
       "<IPython.core.display.Javascript object>"
      ]
     },
     "metadata": {},
     "output_type": "display_data"
    },
    {
     "data": {
      "text/markdown": [
       "<span style=\"color:#33cc33\">Correct</span>"
      ],
      "text/plain": [
       "Correct"
      ]
     },
     "metadata": {},
     "output_type": "display_data"
    }
   ],
   "source": [
    "candidate_max_leaf_nodes = [5, 25, 50, 100, 250, 500]\n",
    "# Write loop to find the ideal tree size from candidate_max_leaf_nodes\n",
    "scores = {leaf_size: get_mae(leaf_size, train_X, val_X, train_y, val_y) for leaf_size in candidate_max_leaf_nodes}\n",
    "best_tree_size = min(scores, key=scores.get)\n",
    "print(best_tree_size)\n",
    "# Check your answer\n",
    "step_1.check()"
   ]
  },
  {
   "cell_type": "code",
   "execution_count": 4,
   "id": "9be0814d",
   "metadata": {
    "execution": {
     "iopub.execute_input": "2022-05-31T02:47:46.257838Z",
     "iopub.status.busy": "2022-05-31T02:47:46.257136Z",
     "iopub.status.idle": "2022-05-31T02:47:46.260692Z",
     "shell.execute_reply": "2022-05-31T02:47:46.260034Z"
    },
    "papermill": {
     "duration": 0.010861,
     "end_time": "2022-05-31T02:47:46.262524",
     "exception": false,
     "start_time": "2022-05-31T02:47:46.251663",
     "status": "completed"
    },
    "tags": []
   },
   "outputs": [],
   "source": [
    "# The lines below will show you a hint or the solution.\n",
    "# step_1.hint() \n",
    "#step_1.solution()"
   ]
  },
  {
   "cell_type": "markdown",
   "id": "035dff71",
   "metadata": {
    "papermill": {
     "duration": 0.004107,
     "end_time": "2022-05-31T02:47:46.271013",
     "exception": false,
     "start_time": "2022-05-31T02:47:46.266906",
     "status": "completed"
    },
    "tags": []
   },
   "source": [
    "## Step 2: Fit Model Using All Data\n",
    "You know the best tree size. If you were going to deploy this model in practice, you would make it even more accurate by using all of the data and keeping that tree size.  That is, you don't need to hold out the validation data now that you've made all your modeling decisions."
   ]
  },
  {
   "cell_type": "code",
   "execution_count": 5,
   "id": "96d1dc46",
   "metadata": {
    "execution": {
     "iopub.execute_input": "2022-05-31T02:47:46.281910Z",
     "iopub.status.busy": "2022-05-31T02:47:46.281192Z",
     "iopub.status.idle": "2022-05-31T02:47:46.297858Z",
     "shell.execute_reply": "2022-05-31T02:47:46.296893Z"
    },
    "papermill": {
     "duration": 0.024807,
     "end_time": "2022-05-31T02:47:46.300180",
     "exception": false,
     "start_time": "2022-05-31T02:47:46.275373",
     "status": "completed"
    },
    "tags": []
   },
   "outputs": [
    {
     "data": {
      "application/javascript": [
       "parent.postMessage({\"jupyterEvent\": \"custom.exercise_interaction\", \"data\": {\"outcomeType\": 1, \"valueTowardsCompletion\": 0.5, \"interactionType\": 1, \"questionType\": 2, \"questionId\": \"2_FitModelWithAllData\", \"learnToolsVersion\": \"0.3.4\", \"failureMessage\": \"\", \"exceptionClass\": \"\", \"trace\": \"\"}}, \"*\")"
      ],
      "text/plain": [
       "<IPython.core.display.Javascript object>"
      ]
     },
     "metadata": {},
     "output_type": "display_data"
    },
    {
     "data": {
      "text/markdown": [
       "<span style=\"color:#33cc33\">Correct</span>"
      ],
      "text/plain": [
       "Correct"
      ]
     },
     "metadata": {},
     "output_type": "display_data"
    }
   ],
   "source": [
    "# Fill in argument to make optimal size and uncomment\n",
    "final_model = DecisionTreeRegressor(max_leaf_nodes = best_tree_size,random_state =1)\n",
    "\n",
    "# fit the final model and uncomment the next two lines\n",
    "final_model.fit(X, y)\n",
    "\n",
    "# Check your answer\n",
    "step_2.check()"
   ]
  },
  {
   "cell_type": "code",
   "execution_count": 6,
   "id": "fcf5006c",
   "metadata": {
    "execution": {
     "iopub.execute_input": "2022-05-31T02:47:46.311351Z",
     "iopub.status.busy": "2022-05-31T02:47:46.310894Z",
     "iopub.status.idle": "2022-05-31T02:47:46.314807Z",
     "shell.execute_reply": "2022-05-31T02:47:46.314140Z"
    },
    "papermill": {
     "duration": 0.01166,
     "end_time": "2022-05-31T02:47:46.316570",
     "exception": false,
     "start_time": "2022-05-31T02:47:46.304910",
     "status": "completed"
    },
    "tags": []
   },
   "outputs": [],
   "source": [
    "# step_2.hint()\n",
    "#step_2.solution()"
   ]
  },
  {
   "cell_type": "markdown",
   "id": "dd9d9aed",
   "metadata": {
    "papermill": {
     "duration": 0.004395,
     "end_time": "2022-05-31T02:47:46.325739",
     "exception": false,
     "start_time": "2022-05-31T02:47:46.321344",
     "status": "completed"
    },
    "tags": []
   },
   "source": [
    "You've tuned this model and improved your results. But we are still using Decision Tree models, which are not very sophisticated by modern machine learning standards. In the next step you will learn to use Random Forests to improve your models even more.\n",
    "\n",
    "# Keep Going\n",
    "\n",
    "You are ready for **[Random Forests](https://www.kaggle.com/dansbecker/random-forests).**\n"
   ]
  },
  {
   "cell_type": "markdown",
   "id": "9abc9876",
   "metadata": {
    "papermill": {
     "duration": 0.004355,
     "end_time": "2022-05-31T02:47:46.334731",
     "exception": false,
     "start_time": "2022-05-31T02:47:46.330376",
     "status": "completed"
    },
    "tags": []
   },
   "source": [
    "---\n",
    "\n",
    "\n",
    "\n",
    "\n",
    "*Have questions or comments? Visit the [course discussion forum](https://www.kaggle.com/learn/intro-to-machine-learning/discussion) to chat with other learners.*"
   ]
  }
 ],
 "metadata": {
  "kernelspec": {
   "display_name": "Python 3",
   "language": "python",
   "name": "python3"
  },
  "language_info": {
   "codemirror_mode": {
    "name": "ipython",
    "version": 3
   },
   "file_extension": ".py",
   "mimetype": "text/x-python",
   "name": "python",
   "nbconvert_exporter": "python",
   "pygments_lexer": "ipython3",
   "version": "3.7.12"
  },
  "papermill": {
   "default_parameters": {},
   "duration": 12.780706,
   "end_time": "2022-05-31T02:47:47.059630",
   "environment_variables": {},
   "exception": null,
   "input_path": "__notebook__.ipynb",
   "output_path": "__notebook__.ipynb",
   "parameters": {},
   "start_time": "2022-05-31T02:47:34.278924",
   "version": "2.3.4"
  }
 },
 "nbformat": 4,
 "nbformat_minor": 5
}

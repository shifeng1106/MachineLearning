{
 "cells": [
  {
   "cell_type": "markdown",
   "id": "4dd19aee",
   "metadata": {
    "papermill": {
     "duration": 0.004479,
     "end_time": "2022-06-12T12:11:25.339337",
     "exception": false,
     "start_time": "2022-06-12T12:11:25.334858",
     "status": "completed"
    },
    "tags": []
   },
   "source": [
    "# Titanic Dataset - One-Hot Vectors\n",
    "\n",
    "In this Unit we'll build a model to predict who survived the Titanic disaster.\n",
    "\n",
    "While doing so, we'll practice transforming data between numerical and categorical types, including using one-hot vectors.\n",
    "\n",
    "## Preparing data\n",
    "\n",
    "Let's start by opening and quickly cleaning up our dataset, like we did in the last unit:"
   ]
  },
  {
   "cell_type": "code",
   "execution_count": 1,
   "id": "985f7f8d",
   "metadata": {
    "execution": {
     "iopub.execute_input": "2022-06-12T12:11:25.351184Z",
     "iopub.status.busy": "2022-06-12T12:11:25.350133Z",
     "iopub.status.idle": "2022-06-12T12:11:27.596351Z",
     "shell.execute_reply": "2022-06-12T12:11:27.595213Z"
    },
    "papermill": {
     "duration": 2.253155,
     "end_time": "2022-06-12T12:11:27.598504",
     "exception": false,
     "start_time": "2022-06-12T12:11:25.345349",
     "status": "completed"
    },
    "tags": []
   },
   "outputs": [
    {
     "name": "stdout",
     "output_type": "stream",
     "text": [
      "--2022-06-12 12:11:26--  https://raw.githubusercontent.com/MicrosoftDocs/mslearn-introduction-to-machine-learning/main/m0c_logistic_regression.py\r\n",
      "Resolving raw.githubusercontent.com (raw.githubusercontent.com)... 185.199.108.133, 185.199.111.133, 185.199.110.133, ...\r\n",
      "Connecting to raw.githubusercontent.com (raw.githubusercontent.com)|185.199.108.133|:443... connected.\r\n",
      "HTTP request sent, awaiting response... 200 OK\r\n",
      "Length: 827 [text/plain]\r\n",
      "Saving to: ‘m0c_logistic_regression.py’\r\n",
      "\r\n",
      "m0c_logistic_regres 100%[===================>]     827  --.-KB/s    in 0s      \r\n",
      "\r\n",
      "2022-06-12 12:11:26 (35.3 MB/s) - ‘m0c_logistic_regression.py’ saved [827/827]\r\n",
      "\r\n",
      "--2022-06-12 12:11:27--  https://raw.githubusercontent.com/MicrosoftDocs/mslearn-introduction-to-machine-learning/main/Data/titanic.csv\r\n",
      "Resolving raw.githubusercontent.com (raw.githubusercontent.com)... 185.199.111.133, 185.199.108.133, 185.199.110.133, ...\r\n",
      "Connecting to raw.githubusercontent.com (raw.githubusercontent.com)|185.199.111.133|:443... connected.\r\n",
      "HTTP request sent, awaiting response... 200 OK\r\n",
      "Length: 61194 (60K) [text/plain]\r\n",
      "Saving to: ‘titanic.csv’\r\n",
      "\r\n",
      "titanic.csv         100%[===================>]  59.76K  --.-KB/s    in 0.004s  \r\n",
      "\r\n",
      "2022-06-12 12:11:27 (13.6 MB/s) - ‘titanic.csv’ saved [61194/61194]\r\n",
      "\r\n"
     ]
    },
    {
     "data": {
      "text/html": [
       "<div>\n",
       "<style scoped>\n",
       "    .dataframe tbody tr th:only-of-type {\n",
       "        vertical-align: middle;\n",
       "    }\n",
       "\n",
       "    .dataframe tbody tr th {\n",
       "        vertical-align: top;\n",
       "    }\n",
       "\n",
       "    .dataframe thead th {\n",
       "        text-align: right;\n",
       "    }\n",
       "</style>\n",
       "<table border=\"1\" class=\"dataframe\">\n",
       "  <thead>\n",
       "    <tr style=\"text-align: right;\">\n",
       "      <th></th>\n",
       "      <th>Survived</th>\n",
       "      <th>Pclass</th>\n",
       "      <th>Sex</th>\n",
       "      <th>Age</th>\n",
       "      <th>SibSp</th>\n",
       "      <th>Parch</th>\n",
       "      <th>Fare</th>\n",
       "      <th>Cabin</th>\n",
       "      <th>Embarked</th>\n",
       "    </tr>\n",
       "  </thead>\n",
       "  <tbody>\n",
       "    <tr>\n",
       "      <th>0</th>\n",
       "      <td>0</td>\n",
       "      <td>3</td>\n",
       "      <td>male</td>\n",
       "      <td>22.0</td>\n",
       "      <td>1</td>\n",
       "      <td>0</td>\n",
       "      <td>7.2500</td>\n",
       "      <td>Unknown</td>\n",
       "      <td>S</td>\n",
       "    </tr>\n",
       "    <tr>\n",
       "      <th>1</th>\n",
       "      <td>1</td>\n",
       "      <td>1</td>\n",
       "      <td>female</td>\n",
       "      <td>38.0</td>\n",
       "      <td>1</td>\n",
       "      <td>0</td>\n",
       "      <td>71.2833</td>\n",
       "      <td>C85</td>\n",
       "      <td>C</td>\n",
       "    </tr>\n",
       "    <tr>\n",
       "      <th>2</th>\n",
       "      <td>1</td>\n",
       "      <td>3</td>\n",
       "      <td>female</td>\n",
       "      <td>26.0</td>\n",
       "      <td>0</td>\n",
       "      <td>0</td>\n",
       "      <td>7.9250</td>\n",
       "      <td>Unknown</td>\n",
       "      <td>S</td>\n",
       "    </tr>\n",
       "    <tr>\n",
       "      <th>3</th>\n",
       "      <td>1</td>\n",
       "      <td>1</td>\n",
       "      <td>female</td>\n",
       "      <td>35.0</td>\n",
       "      <td>1</td>\n",
       "      <td>0</td>\n",
       "      <td>53.1000</td>\n",
       "      <td>C123</td>\n",
       "      <td>S</td>\n",
       "    </tr>\n",
       "    <tr>\n",
       "      <th>4</th>\n",
       "      <td>0</td>\n",
       "      <td>3</td>\n",
       "      <td>male</td>\n",
       "      <td>35.0</td>\n",
       "      <td>0</td>\n",
       "      <td>0</td>\n",
       "      <td>8.0500</td>\n",
       "      <td>Unknown</td>\n",
       "      <td>S</td>\n",
       "    </tr>\n",
       "  </tbody>\n",
       "</table>\n",
       "</div>"
      ],
      "text/plain": [
       "   Survived  Pclass     Sex   Age  SibSp  Parch     Fare    Cabin Embarked\n",
       "0         0       3    male  22.0      1      0   7.2500  Unknown        S\n",
       "1         1       1  female  38.0      1      0  71.2833      C85        C\n",
       "2         1       3  female  26.0      0      0   7.9250  Unknown        S\n",
       "3         1       1  female  35.0      1      0  53.1000     C123        S\n",
       "4         0       3    male  35.0      0      0   8.0500  Unknown        S"
      ]
     },
     "execution_count": 1,
     "metadata": {},
     "output_type": "execute_result"
    }
   ],
   "source": [
    "import pandas as pd\n",
    "!wget https://raw.githubusercontent.com/MicrosoftDocs/mslearn-introduction-to-machine-learning/main/m0c_logistic_regression.py\n",
    "!wget https://raw.githubusercontent.com/MicrosoftDocs/mslearn-introduction-to-machine-learning/main/Data/titanic.csv\n",
    "\n",
    "# Open our dataset from file\n",
    "dataset = pd.read_csv(\"titanic.csv\", index_col=False, sep=\",\", header=0)\n",
    "\n",
    "# Fill missing cabin information with 'Unknown'\n",
    "dataset[\"Cabin\"].fillna(\"Unknown\", inplace=True)\n",
    "\n",
    "# Remove rows missing Age information\n",
    "dataset.dropna(subset=[\"Age\"], inplace=True)\n",
    "\n",
    "# Remove the Name, PassengerId, and Ticket fields\n",
    "# This is optional and only to make it easier to read our print-outs\n",
    "dataset.drop([\"PassengerId\", \"Name\", \"Ticket\"], axis=1, inplace=True)\n",
    "\n",
    "dataset.head()"
   ]
  },
  {
   "cell_type": "markdown",
   "id": "2c04d378",
   "metadata": {
    "papermill": {
     "duration": 0.00388,
     "end_time": "2022-06-12T12:11:27.606915",
     "exception": false,
     "start_time": "2022-06-12T12:11:27.603035",
     "status": "completed"
    },
    "tags": []
   },
   "source": [
    "## About Our Model\n",
    "\n",
    "we'll be training a type of model called Logistic Regression, which will predict who survives the Titanic disaster.\n",
    "\n",
    "By utilizing Microsoft grouped functions that put the implementation of outside of this notebook in a method called `train_logistic_regression`. \n",
    "\n",
    "`train_logistic_regression`:\n",
    "\n",
    "1. Accepts our data frame and a list of features to include in the model. \n",
    "2. Trains the model\n",
    "3. Returns a number stating how well the model performs predicting survival. **Smaller numbers are better.**\n",
    "\n",
    "## Numerical Only\n",
    "\n",
    "Let's create a model, only using the numerical features.\n",
    "\n",
    "First, we'll use `Pclass` here as a ordinal feature, rather than a one-hot encoded categorical feature."
   ]
  },
  {
   "cell_type": "code",
   "execution_count": 2,
   "id": "bf0574ec",
   "metadata": {
    "execution": {
     "iopub.execute_input": "2022-06-12T12:11:27.617397Z",
     "iopub.status.busy": "2022-06-12T12:11:27.616412Z",
     "iopub.status.idle": "2022-06-12T12:11:28.766920Z",
     "shell.execute_reply": "2022-06-12T12:11:28.765655Z"
    },
    "papermill": {
     "duration": 1.157995,
     "end_time": "2022-06-12T12:11:28.768932",
     "exception": false,
     "start_time": "2022-06-12T12:11:27.610937",
     "status": "completed"
    },
    "tags": []
   },
   "outputs": [
    {
     "name": "stdout",
     "output_type": "stream",
     "text": [
      "Numerical-Only, Log-Loss (cost): 0.612168278948346\n"
     ]
    }
   ],
   "source": [
    "from m0c_logistic_regression import train_logistic_regression\n",
    "\n",
    "features = [\"Age\", \"Pclass\", \"SibSp\", \"Parch\", \"Fare\"] \n",
    "loss_numerical_only = train_logistic_regression(dataset, features)\n",
    "\n",
    "print(f\"Numerical-Only, Log-Loss (cost): {loss_numerical_only}\")"
   ]
  },
  {
   "cell_type": "markdown",
   "id": "88d164e3",
   "metadata": {
    "papermill": {
     "duration": 0.004134,
     "end_time": "2022-06-12T12:11:28.777430",
     "exception": false,
     "start_time": "2022-06-12T12:11:28.773296",
     "status": "completed"
    },
    "tags": []
   },
   "source": [
    "We have our starting point. Let's see if we can improve the model using categorical features.\n",
    "\n",
    "## Binary Categorical Features\n",
    "\n",
    "Categorical features that have just two potential values can be encoded in a single column as `0` and `1`.\n",
    "\n",
    "Let's convert `Sex` values into `IsFemale` - a `0` for male and `1` for female - and include that in our model."
   ]
  },
  {
   "cell_type": "code",
   "execution_count": 3,
   "id": "9ff3ca9b",
   "metadata": {
    "execution": {
     "iopub.execute_input": "2022-06-12T12:11:28.787625Z",
     "iopub.status.busy": "2022-06-12T12:11:28.786976Z",
     "iopub.status.idle": "2022-06-12T12:11:28.822611Z",
     "shell.execute_reply": "2022-06-12T12:11:28.821122Z"
    },
    "papermill": {
     "duration": 0.043073,
     "end_time": "2022-06-12T12:11:28.824667",
     "exception": false,
     "start_time": "2022-06-12T12:11:28.781594",
     "status": "completed"
    },
    "tags": []
   },
   "outputs": [
    {
     "name": "stdout",
     "output_type": "stream",
     "text": [
      "   Survived  Pclass     Sex   Age  SibSp  Parch     Fare    Cabin Embarked  \\\n",
      "0         0       3    male  22.0      1      0   7.2500  Unknown        S   \n",
      "1         1       1  female  38.0      1      0  71.2833      C85        C   \n",
      "2         1       3  female  26.0      0      0   7.9250  Unknown        S   \n",
      "3         1       1  female  35.0      1      0  53.1000     C123        S   \n",
      "4         0       3    male  35.0      0      0   8.0500  Unknown        S   \n",
      "\n",
      "   IsFemale  \n",
      "0         0  \n",
      "1         1  \n",
      "2         1  \n",
      "3         1  \n",
      "4         0  \n",
      "\n",
      "Numerical + Sex, Log-Loss (cost): 0.47071447386039816\n"
     ]
    }
   ],
   "source": [
    "# Swap male / female with numerical values\n",
    "# We can do this because there are only two categories\n",
    "dataset[\"IsFemale\"] = dataset.Sex.replace({'male':0, 'female':1})\n",
    "\n",
    "# Print out the first few rows of the dataset\n",
    "print(dataset.head())\n",
    "\n",
    "# Run and test the model, also using IsFemale this time\n",
    "features = [\"Age\", \"Pclass\", \"SibSp\", \"Parch\", \"Fare\", \"IsFemale\"] \n",
    "loss_binary_categoricals = train_logistic_regression(dataset, features)\n",
    "\n",
    "print(f\"\\nNumerical + Sex, Log-Loss (cost): {loss_binary_categoricals}\")"
   ]
  },
  {
   "cell_type": "markdown",
   "id": "2739514d",
   "metadata": {
    "papermill": {
     "duration": 0.004248,
     "end_time": "2022-06-12T12:11:28.833417",
     "exception": false,
     "start_time": "2022-06-12T12:11:28.829169",
     "status": "completed"
    },
    "tags": []
   },
   "source": [
    "Our loss (error) has decreased! This means this model performs better than the previous.\n",
    "\n",
    "## One-Hot Encoding\n",
    "\n",
    "Ticket class (`Pclass`) is an Ordinal feature. That means that its potential values (1, 2 & 3) are treated as having an order and being equally spaced. It's possible that this even spacing is simply not correct though - in stories we have heard about the Titanic, the third-class passengers were treated much worse than those in 1st and 2nd class.\n",
    "\n",
    "Let's convert `Pclass` into a categorical feature using one-hot encoding:"
   ]
  },
  {
   "cell_type": "code",
   "execution_count": 4,
   "id": "0e40ef8a",
   "metadata": {
    "execution": {
     "iopub.execute_input": "2022-06-12T12:11:28.844336Z",
     "iopub.status.busy": "2022-06-12T12:11:28.843425Z",
     "iopub.status.idle": "2022-06-12T12:11:28.866867Z",
     "shell.execute_reply": "2022-06-12T12:11:28.865609Z"
    },
    "papermill": {
     "duration": 0.032136,
     "end_time": "2022-06-12T12:11:28.869974",
     "exception": false,
     "start_time": "2022-06-12T12:11:28.837838",
     "status": "completed"
    },
    "tags": []
   },
   "outputs": [
    {
     "name": "stdout",
     "output_type": "stream",
     "text": [
      "Possible values for PClass: [3 1 2]\n"
     ]
    },
    {
     "data": {
      "text/html": [
       "<div>\n",
       "<style scoped>\n",
       "    .dataframe tbody tr th:only-of-type {\n",
       "        vertical-align: middle;\n",
       "    }\n",
       "\n",
       "    .dataframe tbody tr th {\n",
       "        vertical-align: top;\n",
       "    }\n",
       "\n",
       "    .dataframe thead th {\n",
       "        text-align: right;\n",
       "    }\n",
       "</style>\n",
       "<table border=\"1\" class=\"dataframe\">\n",
       "  <thead>\n",
       "    <tr style=\"text-align: right;\">\n",
       "      <th></th>\n",
       "      <th>Survived</th>\n",
       "      <th>Sex</th>\n",
       "      <th>Age</th>\n",
       "      <th>SibSp</th>\n",
       "      <th>Parch</th>\n",
       "      <th>Fare</th>\n",
       "      <th>Cabin</th>\n",
       "      <th>Embarked</th>\n",
       "      <th>IsFemale</th>\n",
       "      <th>Pclass_1</th>\n",
       "      <th>Pclass_2</th>\n",
       "      <th>Pclass_3</th>\n",
       "      <th>Pclass</th>\n",
       "    </tr>\n",
       "  </thead>\n",
       "  <tbody>\n",
       "    <tr>\n",
       "      <th>0</th>\n",
       "      <td>0</td>\n",
       "      <td>male</td>\n",
       "      <td>22.0</td>\n",
       "      <td>1</td>\n",
       "      <td>0</td>\n",
       "      <td>7.2500</td>\n",
       "      <td>Unknown</td>\n",
       "      <td>S</td>\n",
       "      <td>0</td>\n",
       "      <td>0</td>\n",
       "      <td>0</td>\n",
       "      <td>1</td>\n",
       "      <td>3</td>\n",
       "    </tr>\n",
       "    <tr>\n",
       "      <th>1</th>\n",
       "      <td>1</td>\n",
       "      <td>female</td>\n",
       "      <td>38.0</td>\n",
       "      <td>1</td>\n",
       "      <td>0</td>\n",
       "      <td>71.2833</td>\n",
       "      <td>C85</td>\n",
       "      <td>C</td>\n",
       "      <td>1</td>\n",
       "      <td>1</td>\n",
       "      <td>0</td>\n",
       "      <td>0</td>\n",
       "      <td>1</td>\n",
       "    </tr>\n",
       "    <tr>\n",
       "      <th>2</th>\n",
       "      <td>1</td>\n",
       "      <td>female</td>\n",
       "      <td>26.0</td>\n",
       "      <td>0</td>\n",
       "      <td>0</td>\n",
       "      <td>7.9250</td>\n",
       "      <td>Unknown</td>\n",
       "      <td>S</td>\n",
       "      <td>1</td>\n",
       "      <td>0</td>\n",
       "      <td>0</td>\n",
       "      <td>1</td>\n",
       "      <td>3</td>\n",
       "    </tr>\n",
       "    <tr>\n",
       "      <th>3</th>\n",
       "      <td>1</td>\n",
       "      <td>female</td>\n",
       "      <td>35.0</td>\n",
       "      <td>1</td>\n",
       "      <td>0</td>\n",
       "      <td>53.1000</td>\n",
       "      <td>C123</td>\n",
       "      <td>S</td>\n",
       "      <td>1</td>\n",
       "      <td>1</td>\n",
       "      <td>0</td>\n",
       "      <td>0</td>\n",
       "      <td>1</td>\n",
       "    </tr>\n",
       "    <tr>\n",
       "      <th>4</th>\n",
       "      <td>0</td>\n",
       "      <td>male</td>\n",
       "      <td>35.0</td>\n",
       "      <td>0</td>\n",
       "      <td>0</td>\n",
       "      <td>8.0500</td>\n",
       "      <td>Unknown</td>\n",
       "      <td>S</td>\n",
       "      <td>0</td>\n",
       "      <td>0</td>\n",
       "      <td>0</td>\n",
       "      <td>1</td>\n",
       "      <td>3</td>\n",
       "    </tr>\n",
       "  </tbody>\n",
       "</table>\n",
       "</div>"
      ],
      "text/plain": [
       "   Survived     Sex   Age  SibSp  Parch     Fare    Cabin Embarked  IsFemale  \\\n",
       "0         0    male  22.0      1      0   7.2500  Unknown        S         0   \n",
       "1         1  female  38.0      1      0  71.2833      C85        C         1   \n",
       "2         1  female  26.0      0      0   7.9250  Unknown        S         1   \n",
       "3         1  female  35.0      1      0  53.1000     C123        S         1   \n",
       "4         0    male  35.0      0      0   8.0500  Unknown        S         0   \n",
       "\n",
       "   Pclass_1  Pclass_2  Pclass_3  Pclass  \n",
       "0         0         0         1       3  \n",
       "1         1         0         0       1  \n",
       "2         0         0         1       3  \n",
       "3         1         0         0       1  \n",
       "4         0         0         1       3  "
      ]
     },
     "execution_count": 4,
     "metadata": {},
     "output_type": "execute_result"
    }
   ],
   "source": [
    "# Get all possible categories for the \"PClass\" column\n",
    "print(f\"Possible values for PClass: {dataset['Pclass'].unique()}\")\n",
    "\n",
    "# Use Pandas to One-Hot encode the PClass category\n",
    "dataset_with_one_hot = pd.get_dummies(dataset, columns=[\"Pclass\"], drop_first=False)\n",
    "\n",
    "# Add back in the old Pclass column, for learning purposes\n",
    "dataset_with_one_hot[\"Pclass\"] = dataset.Pclass\n",
    "\n",
    "# Print out the first few rows\n",
    "dataset_with_one_hot.head()"
   ]
  },
  {
   "cell_type": "markdown",
   "id": "a553ea15",
   "metadata": {
    "papermill": {
     "duration": 0.004482,
     "end_time": "2022-06-12T12:11:28.879611",
     "exception": false,
     "start_time": "2022-06-12T12:11:28.875129",
     "status": "completed"
    },
    "tags": []
   },
   "source": [
    "See how `Pclass` has been converted into three values: `Pclass_1`, `Pclass_2` and `Pclass_3`.\n",
    "\n",
    "Rows with `Pclass` of 1 have a value in the `Pclass_1` column. The same pattern is there for values of 2 and 3.\n",
    "\n",
    "Lets now re-run our model treating `Pclass` values as a categorical, rather than ordinal."
   ]
  },
  {
   "cell_type": "code",
   "execution_count": 5,
   "id": "d738fd9c",
   "metadata": {
    "execution": {
     "iopub.execute_input": "2022-06-12T12:11:28.890990Z",
     "iopub.status.busy": "2022-06-12T12:11:28.890037Z",
     "iopub.status.idle": "2022-06-12T12:11:28.922259Z",
     "shell.execute_reply": "2022-06-12T12:11:28.921249Z"
    },
    "papermill": {
     "duration": 0.039988,
     "end_time": "2022-06-12T12:11:28.924319",
     "exception": false,
     "start_time": "2022-06-12T12:11:28.884331",
     "status": "completed"
    },
    "tags": []
   },
   "outputs": [
    {
     "name": "stdout",
     "output_type": "stream",
     "text": [
      "\n",
      "Numerical, Sex, Categorical Pclass, Log-Loss (cost): 0.4717112490991326\n"
     ]
    }
   ],
   "source": [
    "# Run and test the model, also using Pclass as a categorical feature this time\n",
    "features = [\"Age\", \"SibSp\", \"Parch\", \"Fare\", \"IsFemale\",\n",
    "            \"Pclass_1\", \"Pclass_2\", \"Pclass_3\"]\n",
    "\n",
    "loss_pclass_categorical = train_logistic_regression(dataset_with_one_hot, features)\n",
    "\n",
    "print(f\"\\nNumerical, Sex, Categorical Pclass, Log-Loss (cost): {loss_pclass_categorical}\")"
   ]
  },
  {
   "cell_type": "markdown",
   "id": "22f7bab0",
   "metadata": {
    "papermill": {
     "duration": 0.004523,
     "end_time": "2022-06-12T12:11:28.933875",
     "exception": false,
     "start_time": "2022-06-12T12:11:28.929352",
     "status": "completed"
    },
    "tags": []
   },
   "source": [
    "This seems to have made things slightly worse!\n",
    "\n",
    "Let's move on.\n",
    "\n",
    "## Including Cabin\n",
    "\n",
    "Recall that many passengers had `Cabin` information. `Cabin` is a categorical feature and should be a good predictor of survival, because people in lower cabins probably had little time to escape during the sinking.\n",
    "\n",
    "Let's encode cabin using one-hot vectors and include it in a model. There are so many cabins this time that we won't print them all out. If you would like to practice printing them out, feel free to edit the code as practice."
   ]
  },
  {
   "cell_type": "code",
   "execution_count": 6,
   "id": "2924618a",
   "metadata": {
    "execution": {
     "iopub.execute_input": "2022-06-12T12:11:28.945370Z",
     "iopub.status.busy": "2022-06-12T12:11:28.944691Z",
     "iopub.status.idle": "2022-06-12T12:11:29.133817Z",
     "shell.execute_reply": "2022-06-12T12:11:29.132772Z"
    },
    "papermill": {
     "duration": 0.198189,
     "end_time": "2022-06-12T12:11:29.136731",
     "exception": false,
     "start_time": "2022-06-12T12:11:28.938542",
     "status": "completed"
    },
    "tags": []
   },
   "outputs": [
    {
     "name": "stdout",
     "output_type": "stream",
     "text": [
      "135 cabins found\n",
      "\n",
      "Numerical, Sex, Categorical Pclass, Cabin, Log-Loss (cost): 0.4600626164631658\n"
     ]
    }
   ],
   "source": [
    "# Use Pandas to One-Hot encode the Cabin and Pclass categories\n",
    "dataset_with_one_hot = pd.get_dummies(dataset, columns=[\"Pclass\", \"Cabin\"], drop_first=False)\n",
    "\n",
    "# Find cabin column names\n",
    "cabin_column_names = list(c for c in dataset_with_one_hot.columns if c.startswith(\"Cabin_\"))\n",
    "\n",
    "# Print out how many cabins there were\n",
    "print(len(cabin_column_names), \"cabins found\")\n",
    "\n",
    "# Make a list of features\n",
    "features = [\"Age\", \"SibSp\", \"Parch\", \"Fare\", \"IsFemale\",\n",
    "            \"Pclass_1\", \"Pclass_2\", \"Pclass_3\"] + \\\n",
    "            cabin_column_names\n",
    "\n",
    "# Run the model and print the result\n",
    "loss_cabin_categorical = train_logistic_regression(dataset_with_one_hot, features)\n",
    "\n",
    "print(f\"\\nNumerical, Sex, Categorical Pclass, Cabin, Log-Loss (cost): {loss_cabin_categorical}\")"
   ]
  },
  {
   "cell_type": "markdown",
   "id": "8b16e761",
   "metadata": {
    "papermill": {
     "duration": 0.009299,
     "end_time": "2022-06-12T12:11:29.155668",
     "exception": false,
     "start_time": "2022-06-12T12:11:29.146369",
     "status": "completed"
    },
    "tags": []
   },
   "source": [
    "That's our best result so far!\n",
    "\n",
    "## Improving Power\n",
    "\n",
    "Including very large numbers of categorical classes - such as 135 Cabins - is often not the best way to train a model. This is because the model only has a few examples of each category class to learn from.\n",
    "\n",
    "Models can sometimes be improved by simplifying features. `Cabin` was probably useful because it indicated which floor of the titanic people were probably situated in: those in lower decks would have had their quarters flooded first. \n",
    "\n",
    "Using deck information might be simpler than categorizing people into Cabins. \n",
    "\n",
    "Let's simplify what we have run, replacing the 135 `Cabin` categories with a simpler `Deck` category, that has only 9 values: A - G, T, and U (Unknown)"
   ]
  },
  {
   "cell_type": "code",
   "execution_count": 7,
   "id": "b9004c39",
   "metadata": {
    "execution": {
     "iopub.execute_input": "2022-06-12T12:11:29.177178Z",
     "iopub.status.busy": "2022-06-12T12:11:29.176544Z",
     "iopub.status.idle": "2022-06-12T12:11:29.288111Z",
     "shell.execute_reply": "2022-06-12T12:11:29.286979Z"
    },
    "papermill": {
     "duration": 0.125194,
     "end_time": "2022-06-12T12:11:29.290619",
     "exception": false,
     "start_time": "2022-06-12T12:11:29.165425",
     "status": "completed"
    },
    "tags": []
   },
   "outputs": [
    {
     "name": "stdout",
     "output_type": "stream",
     "text": [
      "Decks:  ['A', 'B', 'C', 'D', 'E', 'F', 'G', 'T', 'U']\n",
      "\n",
      "Simplifying Cabin Into Deck, Log-Loss (cost): 0.45887915723881234\n"
     ]
    }
   ],
   "source": [
    "# We have cabin names, like A31, G45. The letter refers to the deck that\n",
    "# the cabin was on. Extract just the deck and save it to a column. \n",
    "dataset[\"Deck\"] = [c[0] for c in dataset.Cabin]\n",
    "\n",
    "print(\"Decks: \", sorted(dataset.Deck.unique()))\n",
    "\n",
    "# Create one-hot vectors for:\n",
    "# Pclass - the class of ticket. (This could be treated as ordinal or categorical)\n",
    "# Deck - the deck that the cabin was on\n",
    "dataset_with_one_hot = pd.get_dummies(dataset, columns=[\"Pclass\", \"Deck\"], drop_first=False)\n",
    "\n",
    "# Find the deck names\n",
    "deck_of_cabin_column_names = list(c for c in dataset_with_one_hot.columns if c.startswith(\"Deck_\"))\n",
    " \n",
    "features = [\"Age\", \"IsFemale\", \"SibSp\", \"Parch\", \"Fare\", \n",
    "            \"Pclass_1\", \"Pclass_2\", \"Pclass_3\",\n",
    "            \"Deck_A\", \"Deck_B\", \"Deck_C\", \"Deck_D\", \n",
    "            \"Deck_E\", \"Deck_F\", \"Deck_G\", \"Deck_U\", \"Deck_T\"]\n",
    "\n",
    "loss_deck = train_logistic_regression(dataset_with_one_hot, features)\n",
    "\n",
    "print(f\"\\nSimplifying Cabin Into Deck, Log-Loss (cost): {loss_deck}\")"
   ]
  },
  {
   "cell_type": "markdown",
   "id": "84ca11f2",
   "metadata": {
    "papermill": {
     "duration": 0.004656,
     "end_time": "2022-06-12T12:11:29.300742",
     "exception": false,
     "start_time": "2022-06-12T12:11:29.296086",
     "status": "completed"
    },
    "tags": []
   },
   "source": [
    "## Comparing Models\n",
    "\n",
    "Let's compare the `loss` for these models:"
   ]
  },
  {
   "cell_type": "code",
   "execution_count": 8,
   "id": "f8f915b2",
   "metadata": {
    "execution": {
     "iopub.execute_input": "2022-06-12T12:11:29.312358Z",
     "iopub.status.busy": "2022-06-12T12:11:29.311515Z",
     "iopub.status.idle": "2022-06-12T12:11:29.322920Z",
     "shell.execute_reply": "2022-06-12T12:11:29.322024Z"
    },
    "papermill": {
     "duration": 0.018971,
     "end_time": "2022-06-12T12:11:29.324654",
     "exception": false,
     "start_time": "2022-06-12T12:11:29.305683",
     "status": "completed"
    },
    "tags": []
   },
   "outputs": [
    {
     "data": {
      "text/html": [
       "<div>\n",
       "<style scoped>\n",
       "    .dataframe tbody tr th:only-of-type {\n",
       "        vertical-align: middle;\n",
       "    }\n",
       "\n",
       "    .dataframe tbody tr th {\n",
       "        vertical-align: top;\n",
       "    }\n",
       "\n",
       "    .dataframe thead th {\n",
       "        text-align: right;\n",
       "    }\n",
       "</style>\n",
       "<table border=\"1\" class=\"dataframe\">\n",
       "  <thead>\n",
       "    <tr style=\"text-align: right;\">\n",
       "      <th></th>\n",
       "      <th>Dataset</th>\n",
       "      <th>Log-Loss (Low is better)</th>\n",
       "    </tr>\n",
       "  </thead>\n",
       "  <tbody>\n",
       "    <tr>\n",
       "      <th>0</th>\n",
       "      <td>Numeric Features Only</td>\n",
       "      <td>0.612168</td>\n",
       "    </tr>\n",
       "    <tr>\n",
       "      <th>1</th>\n",
       "      <td>Adding Sex as Binary</td>\n",
       "      <td>0.470714</td>\n",
       "    </tr>\n",
       "    <tr>\n",
       "      <th>2</th>\n",
       "      <td>Treating Pclass as Categorical</td>\n",
       "      <td>0.471711</td>\n",
       "    </tr>\n",
       "    <tr>\n",
       "      <th>3</th>\n",
       "      <td>Using Cabin as Categorical</td>\n",
       "      <td>0.460063</td>\n",
       "    </tr>\n",
       "    <tr>\n",
       "      <th>4</th>\n",
       "      <td>Using Deck rather than Cabin</td>\n",
       "      <td>0.458879</td>\n",
       "    </tr>\n",
       "  </tbody>\n",
       "</table>\n",
       "</div>"
      ],
      "text/plain": [
       "                          Dataset  Log-Loss (Low is better)\n",
       "0           Numeric Features Only                  0.612168\n",
       "1            Adding Sex as Binary                  0.470714\n",
       "2  Treating Pclass as Categorical                  0.471711\n",
       "3      Using Cabin as Categorical                  0.460063\n",
       "4    Using Deck rather than Cabin                  0.458879"
      ]
     },
     "execution_count": 8,
     "metadata": {},
     "output_type": "execute_result"
    }
   ],
   "source": [
    "# Use a dataframe to create a comparison table of metrics\n",
    "# Copy metrics from previous Unit\n",
    "\n",
    "l =[[\"Numeric Features Only\", loss_numerical_only],\n",
    "    [\"Adding Sex as Binary\", loss_binary_categoricals],\n",
    "    [\"Treating Pclass as Categorical\", loss_pclass_categorical],\n",
    "    [\"Using Cabin as Categorical\", loss_cabin_categorical],\n",
    "    [\"Using Deck rather than Cabin\", loss_deck]]\n",
    "\n",
    "pd.DataFrame(l, columns=[\"Dataset\", \"Log-Loss (Low is better)\"])"
   ]
  },
  {
   "cell_type": "markdown",
   "id": "fe4ad746",
   "metadata": {
    "papermill": {
     "duration": 0.004833,
     "end_time": "2022-06-12T12:11:29.334368",
     "exception": false,
     "start_time": "2022-06-12T12:11:29.329535",
     "status": "completed"
    },
    "tags": []
   },
   "source": [
    "We can see that including categorical features can both improve and harm how well a model works. Often, experimentation is the best way to find the best model. \n",
    "\n",
    "## Summary\n",
    "\n",
    "We learned how to use One-Hot encoding to address categorical data.\n",
    "\n",
    "We also explored how sometimes thinking critically about the problem you're trying can improve a solution better than simply including all possible features in a model."
   ]
  }
 ],
 "metadata": {
  "kernelspec": {
   "display_name": "Python 3",
   "language": "python",
   "name": "python3"
  },
  "language_info": {
   "codemirror_mode": {
    "name": "ipython",
    "version": 3
   },
   "file_extension": ".py",
   "mimetype": "text/x-python",
   "name": "python",
   "nbconvert_exporter": "python",
   "pygments_lexer": "ipython3",
   "version": "3.7.12"
  },
  "papermill": {
   "default_parameters": {},
   "duration": 13.376551,
   "end_time": "2022-06-12T12:11:30.060097",
   "environment_variables": {},
   "exception": null,
   "input_path": "__notebook__.ipynb",
   "output_path": "__notebook__.ipynb",
   "parameters": {},
   "start_time": "2022-06-12T12:11:16.683546",
   "version": "2.3.4"
  }
 },
 "nbformat": 4,
 "nbformat_minor": 5
}

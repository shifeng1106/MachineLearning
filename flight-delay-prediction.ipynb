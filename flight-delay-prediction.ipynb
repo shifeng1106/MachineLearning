{
 "cells": [
  {
   "cell_type": "markdown",
   "id": "b7cfc3c5",
   "metadata": {
    "papermill": {
     "duration": 0.017182,
     "end_time": "2022-06-12T07:09:38.047074",
     "exception": false,
     "start_time": "2022-06-12T07:09:38.029892",
     "status": "completed"
    },
    "tags": []
   },
   "source": [
    "# Flights Data Exploration Challenge\n",
    "In this challenge, we'll explore a real-world dataset containing flights data from the US Department of Transportation.\n",
    "\n",
    "Let's start by loading and viewing the data."
   ]
  },
  {
   "cell_type": "code",
   "execution_count": 1,
   "id": "8f5504b4",
   "metadata": {
    "execution": {
     "iopub.execute_input": "2022-06-12T07:09:38.066793Z",
     "iopub.status.busy": "2022-06-12T07:09:38.065919Z",
     "iopub.status.idle": "2022-06-12T07:09:40.439872Z",
     "shell.execute_reply": "2022-06-12T07:09:40.438823Z"
    },
    "papermill": {
     "duration": 2.387574,
     "end_time": "2022-06-12T07:09:40.443835",
     "exception": false,
     "start_time": "2022-06-12T07:09:38.056261",
     "status": "completed"
    },
    "tags": []
   },
   "outputs": [
    {
     "data": {
      "text/html": [
       "<div>\n",
       "<style scoped>\n",
       "    .dataframe tbody tr th:only-of-type {\n",
       "        vertical-align: middle;\n",
       "    }\n",
       "\n",
       "    .dataframe tbody tr th {\n",
       "        vertical-align: top;\n",
       "    }\n",
       "\n",
       "    .dataframe thead th {\n",
       "        text-align: right;\n",
       "    }\n",
       "</style>\n",
       "<table border=\"1\" class=\"dataframe\">\n",
       "  <thead>\n",
       "    <tr style=\"text-align: right;\">\n",
       "      <th></th>\n",
       "      <th>Year</th>\n",
       "      <th>Month</th>\n",
       "      <th>DayofMonth</th>\n",
       "      <th>DayOfWeek</th>\n",
       "      <th>Carrier</th>\n",
       "      <th>OriginAirportID</th>\n",
       "      <th>OriginAirportName</th>\n",
       "      <th>OriginCity</th>\n",
       "      <th>OriginState</th>\n",
       "      <th>DestAirportID</th>\n",
       "      <th>DestAirportName</th>\n",
       "      <th>DestCity</th>\n",
       "      <th>DestState</th>\n",
       "      <th>CRSDepTime</th>\n",
       "      <th>DepDelay</th>\n",
       "      <th>DepDel15</th>\n",
       "      <th>CRSArrTime</th>\n",
       "      <th>ArrDelay</th>\n",
       "      <th>ArrDel15</th>\n",
       "      <th>Cancelled</th>\n",
       "    </tr>\n",
       "  </thead>\n",
       "  <tbody>\n",
       "    <tr>\n",
       "      <th>0</th>\n",
       "      <td>2013</td>\n",
       "      <td>9</td>\n",
       "      <td>16</td>\n",
       "      <td>1</td>\n",
       "      <td>DL</td>\n",
       "      <td>15304</td>\n",
       "      <td>Tampa International</td>\n",
       "      <td>Tampa</td>\n",
       "      <td>FL</td>\n",
       "      <td>12478</td>\n",
       "      <td>John F. Kennedy International</td>\n",
       "      <td>New York</td>\n",
       "      <td>NY</td>\n",
       "      <td>1539</td>\n",
       "      <td>4</td>\n",
       "      <td>0.0</td>\n",
       "      <td>1824</td>\n",
       "      <td>13</td>\n",
       "      <td>0</td>\n",
       "      <td>0</td>\n",
       "    </tr>\n",
       "    <tr>\n",
       "      <th>1</th>\n",
       "      <td>2013</td>\n",
       "      <td>9</td>\n",
       "      <td>23</td>\n",
       "      <td>1</td>\n",
       "      <td>WN</td>\n",
       "      <td>14122</td>\n",
       "      <td>Pittsburgh International</td>\n",
       "      <td>Pittsburgh</td>\n",
       "      <td>PA</td>\n",
       "      <td>13232</td>\n",
       "      <td>Chicago Midway International</td>\n",
       "      <td>Chicago</td>\n",
       "      <td>IL</td>\n",
       "      <td>710</td>\n",
       "      <td>3</td>\n",
       "      <td>0.0</td>\n",
       "      <td>740</td>\n",
       "      <td>22</td>\n",
       "      <td>1</td>\n",
       "      <td>0</td>\n",
       "    </tr>\n",
       "    <tr>\n",
       "      <th>2</th>\n",
       "      <td>2013</td>\n",
       "      <td>9</td>\n",
       "      <td>7</td>\n",
       "      <td>6</td>\n",
       "      <td>AS</td>\n",
       "      <td>14747</td>\n",
       "      <td>Seattle/Tacoma International</td>\n",
       "      <td>Seattle</td>\n",
       "      <td>WA</td>\n",
       "      <td>11278</td>\n",
       "      <td>Ronald Reagan Washington National</td>\n",
       "      <td>Washington</td>\n",
       "      <td>DC</td>\n",
       "      <td>810</td>\n",
       "      <td>-3</td>\n",
       "      <td>0.0</td>\n",
       "      <td>1614</td>\n",
       "      <td>-7</td>\n",
       "      <td>0</td>\n",
       "      <td>0</td>\n",
       "    </tr>\n",
       "    <tr>\n",
       "      <th>3</th>\n",
       "      <td>2013</td>\n",
       "      <td>7</td>\n",
       "      <td>22</td>\n",
       "      <td>1</td>\n",
       "      <td>OO</td>\n",
       "      <td>13930</td>\n",
       "      <td>Chicago O'Hare International</td>\n",
       "      <td>Chicago</td>\n",
       "      <td>IL</td>\n",
       "      <td>11042</td>\n",
       "      <td>Cleveland-Hopkins International</td>\n",
       "      <td>Cleveland</td>\n",
       "      <td>OH</td>\n",
       "      <td>804</td>\n",
       "      <td>35</td>\n",
       "      <td>1.0</td>\n",
       "      <td>1027</td>\n",
       "      <td>33</td>\n",
       "      <td>1</td>\n",
       "      <td>0</td>\n",
       "    </tr>\n",
       "    <tr>\n",
       "      <th>4</th>\n",
       "      <td>2013</td>\n",
       "      <td>5</td>\n",
       "      <td>16</td>\n",
       "      <td>4</td>\n",
       "      <td>DL</td>\n",
       "      <td>13931</td>\n",
       "      <td>Norfolk International</td>\n",
       "      <td>Norfolk</td>\n",
       "      <td>VA</td>\n",
       "      <td>10397</td>\n",
       "      <td>Hartsfield-Jackson Atlanta International</td>\n",
       "      <td>Atlanta</td>\n",
       "      <td>GA</td>\n",
       "      <td>545</td>\n",
       "      <td>-1</td>\n",
       "      <td>0.0</td>\n",
       "      <td>728</td>\n",
       "      <td>-9</td>\n",
       "      <td>0</td>\n",
       "      <td>0</td>\n",
       "    </tr>\n",
       "  </tbody>\n",
       "</table>\n",
       "</div>"
      ],
      "text/plain": [
       "   Year  Month  DayofMonth  DayOfWeek Carrier  OriginAirportID  \\\n",
       "0  2013      9          16          1      DL            15304   \n",
       "1  2013      9          23          1      WN            14122   \n",
       "2  2013      9           7          6      AS            14747   \n",
       "3  2013      7          22          1      OO            13930   \n",
       "4  2013      5          16          4      DL            13931   \n",
       "\n",
       "              OriginAirportName  OriginCity OriginState  DestAirportID  \\\n",
       "0           Tampa International       Tampa          FL          12478   \n",
       "1      Pittsburgh International  Pittsburgh          PA          13232   \n",
       "2  Seattle/Tacoma International     Seattle          WA          11278   \n",
       "3  Chicago O'Hare International     Chicago          IL          11042   \n",
       "4         Norfolk International     Norfolk          VA          10397   \n",
       "\n",
       "                            DestAirportName    DestCity DestState  CRSDepTime  \\\n",
       "0             John F. Kennedy International    New York        NY        1539   \n",
       "1              Chicago Midway International     Chicago        IL         710   \n",
       "2         Ronald Reagan Washington National  Washington        DC         810   \n",
       "3           Cleveland-Hopkins International   Cleveland        OH         804   \n",
       "4  Hartsfield-Jackson Atlanta International     Atlanta        GA         545   \n",
       "\n",
       "   DepDelay  DepDel15  CRSArrTime  ArrDelay  ArrDel15  Cancelled  \n",
       "0         4       0.0        1824        13         0          0  \n",
       "1         3       0.0         740        22         1          0  \n",
       "2        -3       0.0        1614        -7         0          0  \n",
       "3        35       1.0        1027        33         1          0  \n",
       "4        -1       0.0         728        -9         0          0  "
      ]
     },
     "execution_count": 1,
     "metadata": {},
     "output_type": "execute_result"
    }
   ],
   "source": [
    "import pandas as pd\n",
    "\n",
    "df_flights = pd.read_csv('https://raw.githubusercontent.com/MicrosoftDocs/ml-basics/ee7bccccf5dd1a95f9d547b2e9e5fd68f61fe02e/challenges/data/flights.csv')\n",
    "df_flights.head()"
   ]
  },
  {
   "cell_type": "code",
   "execution_count": 2,
   "id": "2a2634a3",
   "metadata": {
    "execution": {
     "iopub.execute_input": "2022-06-12T07:09:40.464595Z",
     "iopub.status.busy": "2022-06-12T07:09:40.464218Z",
     "iopub.status.idle": "2022-06-12T07:09:40.470461Z",
     "shell.execute_reply": "2022-06-12T07:09:40.469297Z"
    },
    "papermill": {
     "duration": 0.019186,
     "end_time": "2022-06-12T07:09:40.472834",
     "exception": false,
     "start_time": "2022-06-12T07:09:40.453648",
     "status": "completed"
    },
    "tags": []
   },
   "outputs": [
    {
     "data": {
      "text/plain": [
       "(271940, 20)"
      ]
     },
     "execution_count": 2,
     "metadata": {},
     "output_type": "execute_result"
    }
   ],
   "source": [
    "df_flights.shape"
   ]
  },
  {
   "cell_type": "code",
   "execution_count": 3,
   "id": "93de7a0b",
   "metadata": {
    "execution": {
     "iopub.execute_input": "2022-06-12T07:09:40.491822Z",
     "iopub.status.busy": "2022-06-12T07:09:40.491002Z",
     "iopub.status.idle": "2022-06-12T07:09:40.720777Z",
     "shell.execute_reply": "2022-06-12T07:09:40.719812Z"
    },
    "papermill": {
     "duration": 0.242861,
     "end_time": "2022-06-12T07:09:40.724184",
     "exception": false,
     "start_time": "2022-06-12T07:09:40.481323",
     "status": "completed"
    },
    "tags": []
   },
   "outputs": [
    {
     "name": "stdout",
     "output_type": "stream",
     "text": [
      "<class 'pandas.core.frame.DataFrame'>\n",
      "RangeIndex: 271940 entries, 0 to 271939\n",
      "Data columns (total 20 columns):\n",
      " #   Column             Non-Null Count   Dtype  \n",
      "---  ------             --------------   -----  \n",
      " 0   Year               271940 non-null  int64  \n",
      " 1   Month              271940 non-null  int64  \n",
      " 2   DayofMonth         271940 non-null  int64  \n",
      " 3   DayOfWeek          271940 non-null  int64  \n",
      " 4   Carrier            271940 non-null  object \n",
      " 5   OriginAirportID    271940 non-null  int64  \n",
      " 6   OriginAirportName  271940 non-null  object \n",
      " 7   OriginCity         271940 non-null  object \n",
      " 8   OriginState        271940 non-null  object \n",
      " 9   DestAirportID      271940 non-null  int64  \n",
      " 10  DestAirportName    271940 non-null  object \n",
      " 11  DestCity           271940 non-null  object \n",
      " 12  DestState          271940 non-null  object \n",
      " 13  CRSDepTime         271940 non-null  int64  \n",
      " 14  DepDelay           271940 non-null  int64  \n",
      " 15  DepDel15           269179 non-null  float64\n",
      " 16  CRSArrTime         271940 non-null  int64  \n",
      " 17  ArrDelay           271940 non-null  int64  \n",
      " 18  ArrDel15           271940 non-null  int64  \n",
      " 19  Cancelled          271940 non-null  int64  \n",
      "dtypes: float64(1), int64(12), object(7)\n",
      "memory usage: 41.5+ MB\n"
     ]
    }
   ],
   "source": [
    "df_flights.info()"
   ]
  },
  {
   "cell_type": "markdown",
   "id": "146eab40",
   "metadata": {
    "papermill": {
     "duration": 0.008599,
     "end_time": "2022-06-12T07:09:40.742573",
     "exception": false,
     "start_time": "2022-06-12T07:09:40.733974",
     "status": "completed"
    },
    "tags": []
   },
   "source": [
    "The dataset contains observations of US domestic flights in 2013, and consists of the following fields:\n",
    "\n",
    "* **Year**: The year of the flight (all records are from 2013)\n",
    "* **Month**: The month of the flight\n",
    "* **DayofMonth**: The day of the month on which the flight departed\n",
    "* **DayOfWeek**: The day of the week on which the flight departed - from 1 (Monday) to 7 (Sunday)\n",
    "* **Carrier**: The two-letter abbreviation for the airline.\n",
    "* **OriginAirportID**: A unique numeric identifier for the departure aiport\n",
    "* **OriginAirportName**: The full name of the departure airport\n",
    "* **OriginCity**: The departure airport city\n",
    "* **OriginState**: The departure airport state\n",
    "* **DestAirportID**: A unique numeric identifier for the destination aiport\n",
    "* **DestAirportName**: The full name of the destination airport\n",
    "* **DestCity**: The destination airport city\n",
    "* **DestState**: The destination airport state\n",
    "* **CRSDepTime**: The scheduled departure time\n",
    "* **DepDelay**: The number of minutes departure was delayed (flight that left ahead of schedule have a negative value)\n",
    "* **DelDelay15**: A binary indicator that departure was delayed by more than 15 minutes (and therefore considered \"late\")\n",
    "* **CRSArrTime**: The scheduled arrival time\n",
    "* **ArrDelay**: The number of minutes arrival was delayed (flight that arrived ahead of schedule have a negative value)\n",
    "* **ArrDelay15**: A binary indicator that arrival was delayed by more than 15 minutes (and therefore considered \"late\")\n",
    "* **Cancelled**: A binary indicator that the flight was cancelled\n",
    "Our challenge is to explore the flight data to analyze possible factors that affect delays in departure or arrival of a flight.\n",
    "\n",
    "1. Start by cleaning the data.\n",
    "* Identify any null or missing data, and impute appropriate replacement values.\n",
    "* Identify and eliminate any outliers in the **DepDelay** and **ArrDelay** columns.\n",
    "2. Explore the cleaned data.\n",
    "* View summary statistics for the numeric fields in the dataset.\n",
    "* Determine the distribution of the **DepDelay** and **ArrDelay** columns.\n",
    "* Use statistics, aggregate functions, and visualizations to answer the following questions:\n",
    "    * What are the average (mean) departure and arrival delays?\n",
    "    * How do the carriers compare in terms of arrival delay performance?\n",
    "    * Is there a noticable difference in arrival delays for different days of the week?\n",
    "    * Which departure airport has the highest average departure delay?\n",
    "    * Do late departures tend to result in longer arrival delays than on-time departures?\n",
    "    * Which route (from origin airport to destination airport) has the most late arrivals?\n",
    "    * Which route has the highest average arrival delay?\n"
   ]
  },
  {
   "cell_type": "markdown",
   "id": "87f79090",
   "metadata": {
    "papermill": {
     "duration": 0.008322,
     "end_time": "2022-06-12T07:09:40.759787",
     "exception": false,
     "start_time": "2022-06-12T07:09:40.751465",
     "status": "completed"
    },
    "tags": []
   },
   "source": [
    "## Clean missing values\n",
    "Find how many null values there are for each column."
   ]
  },
  {
   "cell_type": "code",
   "execution_count": 4,
   "id": "6d2b23b8",
   "metadata": {
    "execution": {
     "iopub.execute_input": "2022-06-12T07:09:40.779418Z",
     "iopub.status.busy": "2022-06-12T07:09:40.778999Z",
     "iopub.status.idle": "2022-06-12T07:09:40.992194Z",
     "shell.execute_reply": "2022-06-12T07:09:40.990660Z"
    },
    "papermill": {
     "duration": 0.225811,
     "end_time": "2022-06-12T07:09:40.994456",
     "exception": false,
     "start_time": "2022-06-12T07:09:40.768645",
     "status": "completed"
    },
    "tags": []
   },
   "outputs": [
    {
     "data": {
      "text/plain": [
       "Year                    0\n",
       "Month                   0\n",
       "DayofMonth              0\n",
       "DayOfWeek               0\n",
       "Carrier                 0\n",
       "OriginAirportID         0\n",
       "OriginAirportName       0\n",
       "OriginCity              0\n",
       "OriginState             0\n",
       "DestAirportID           0\n",
       "DestAirportName         0\n",
       "DestCity                0\n",
       "DestState               0\n",
       "CRSDepTime              0\n",
       "DepDelay                0\n",
       "DepDel15             2761\n",
       "CRSArrTime              0\n",
       "ArrDelay                0\n",
       "ArrDel15                0\n",
       "Cancelled               0\n",
       "dtype: int64"
      ]
     },
     "execution_count": 4,
     "metadata": {},
     "output_type": "execute_result"
    }
   ],
   "source": [
    "df_flights.isnull().sum()"
   ]
  },
  {
   "cell_type": "markdown",
   "id": "1e4bbead",
   "metadata": {
    "papermill": {
     "duration": 0.008517,
     "end_time": "2022-06-12T07:09:41.011784",
     "exception": false,
     "start_time": "2022-06-12T07:09:41.003267",
     "status": "completed"
    },
    "tags": []
   },
   "source": [
    "Hmm, looks like there are some null \"late departure\" indicators. Departures are considered late if the delay is 15 minutes or more, so let's see the delays for the ones with a null late indicator:"
   ]
  },
  {
   "cell_type": "code",
   "execution_count": 5,
   "id": "0b5fef46",
   "metadata": {
    "execution": {
     "iopub.execute_input": "2022-06-12T07:09:41.032547Z",
     "iopub.status.busy": "2022-06-12T07:09:41.031846Z",
     "iopub.status.idle": "2022-06-12T07:09:41.251660Z",
     "shell.execute_reply": "2022-06-12T07:09:41.250690Z"
    },
    "papermill": {
     "duration": 0.232883,
     "end_time": "2022-06-12T07:09:41.254080",
     "exception": false,
     "start_time": "2022-06-12T07:09:41.021197",
     "status": "completed"
    },
    "tags": []
   },
   "outputs": [
    {
     "data": {
      "text/html": [
       "<div>\n",
       "<style scoped>\n",
       "    .dataframe tbody tr th:only-of-type {\n",
       "        vertical-align: middle;\n",
       "    }\n",
       "\n",
       "    .dataframe tbody tr th {\n",
       "        vertical-align: top;\n",
       "    }\n",
       "\n",
       "    .dataframe thead th {\n",
       "        text-align: right;\n",
       "    }\n",
       "</style>\n",
       "<table border=\"1\" class=\"dataframe\">\n",
       "  <thead>\n",
       "    <tr style=\"text-align: right;\">\n",
       "      <th></th>\n",
       "      <th>DepDelay</th>\n",
       "      <th>DepDel15</th>\n",
       "    </tr>\n",
       "  </thead>\n",
       "  <tbody>\n",
       "    <tr>\n",
       "      <th>171</th>\n",
       "      <td>0</td>\n",
       "      <td>NaN</td>\n",
       "    </tr>\n",
       "    <tr>\n",
       "      <th>359</th>\n",
       "      <td>0</td>\n",
       "      <td>NaN</td>\n",
       "    </tr>\n",
       "    <tr>\n",
       "      <th>429</th>\n",
       "      <td>0</td>\n",
       "      <td>NaN</td>\n",
       "    </tr>\n",
       "    <tr>\n",
       "      <th>545</th>\n",
       "      <td>0</td>\n",
       "      <td>NaN</td>\n",
       "    </tr>\n",
       "    <tr>\n",
       "      <th>554</th>\n",
       "      <td>0</td>\n",
       "      <td>NaN</td>\n",
       "    </tr>\n",
       "    <tr>\n",
       "      <th>...</th>\n",
       "      <td>...</td>\n",
       "      <td>...</td>\n",
       "    </tr>\n",
       "    <tr>\n",
       "      <th>271410</th>\n",
       "      <td>0</td>\n",
       "      <td>NaN</td>\n",
       "    </tr>\n",
       "    <tr>\n",
       "      <th>271607</th>\n",
       "      <td>0</td>\n",
       "      <td>NaN</td>\n",
       "    </tr>\n",
       "    <tr>\n",
       "      <th>271634</th>\n",
       "      <td>0</td>\n",
       "      <td>NaN</td>\n",
       "    </tr>\n",
       "    <tr>\n",
       "      <th>271671</th>\n",
       "      <td>0</td>\n",
       "      <td>NaN</td>\n",
       "    </tr>\n",
       "    <tr>\n",
       "      <th>271885</th>\n",
       "      <td>0</td>\n",
       "      <td>NaN</td>\n",
       "    </tr>\n",
       "  </tbody>\n",
       "</table>\n",
       "<p>2761 rows × 2 columns</p>\n",
       "</div>"
      ],
      "text/plain": [
       "        DepDelay  DepDel15\n",
       "171            0       NaN\n",
       "359            0       NaN\n",
       "429            0       NaN\n",
       "545            0       NaN\n",
       "554            0       NaN\n",
       "...          ...       ...\n",
       "271410         0       NaN\n",
       "271607         0       NaN\n",
       "271634         0       NaN\n",
       "271671         0       NaN\n",
       "271885         0       NaN\n",
       "\n",
       "[2761 rows x 2 columns]"
      ]
     },
     "execution_count": 5,
     "metadata": {},
     "output_type": "execute_result"
    }
   ],
   "source": [
    "df_flights[df_flights.isnull().any(axis=1)][['DepDelay','DepDel15']]"
   ]
  },
  {
   "cell_type": "markdown",
   "id": "51b5659b",
   "metadata": {
    "papermill": {
     "duration": 0.008881,
     "end_time": "2022-06-12T07:09:41.272154",
     "exception": false,
     "start_time": "2022-06-12T07:09:41.263273",
     "status": "completed"
    },
    "tags": []
   },
   "source": [
    "We can't see them all in this display, but it looks like they may all have delay of 0. Let's check by looking at the summary statistics for these records:"
   ]
  },
  {
   "cell_type": "code",
   "execution_count": 6,
   "id": "4a60e25e",
   "metadata": {
    "execution": {
     "iopub.execute_input": "2022-06-12T07:09:41.292187Z",
     "iopub.status.busy": "2022-06-12T07:09:41.291737Z",
     "iopub.status.idle": "2022-06-12T07:09:41.508596Z",
     "shell.execute_reply": "2022-06-12T07:09:41.507643Z"
    },
    "papermill": {
     "duration": 0.229534,
     "end_time": "2022-06-12T07:09:41.510962",
     "exception": false,
     "start_time": "2022-06-12T07:09:41.281428",
     "status": "completed"
    },
    "tags": []
   },
   "outputs": [
    {
     "data": {
      "text/plain": [
       "count    2761.0\n",
       "mean        0.0\n",
       "std         0.0\n",
       "min         0.0\n",
       "25%         0.0\n",
       "50%         0.0\n",
       "75%         0.0\n",
       "max         0.0\n",
       "Name: DepDelay, dtype: float64"
      ]
     },
     "execution_count": 6,
     "metadata": {},
     "output_type": "execute_result"
    }
   ],
   "source": [
    "df_flights[df_flights.isnull().any(axis=1)].DepDelay.describe()"
   ]
  },
  {
   "cell_type": "markdown",
   "id": "cc88c8f8",
   "metadata": {
    "papermill": {
     "duration": 0.008919,
     "end_time": "2022-06-12T07:09:41.529385",
     "exception": false,
     "start_time": "2022-06-12T07:09:41.520466",
     "status": "completed"
    },
    "tags": []
   },
   "source": [
    "The min, max, and mean are all 0; so it seems that none of these were actually late departures. Let's replace the missing **DepDel15** indicator with a 0 and confirm there are no more missing values."
   ]
  },
  {
   "cell_type": "code",
   "execution_count": 7,
   "id": "011cf435",
   "metadata": {
    "execution": {
     "iopub.execute_input": "2022-06-12T07:09:41.550396Z",
     "iopub.status.busy": "2022-06-12T07:09:41.549539Z",
     "iopub.status.idle": "2022-06-12T07:09:41.767257Z",
     "shell.execute_reply": "2022-06-12T07:09:41.766319Z"
    },
    "papermill": {
     "duration": 0.230364,
     "end_time": "2022-06-12T07:09:41.769253",
     "exception": false,
     "start_time": "2022-06-12T07:09:41.538889",
     "status": "completed"
    },
    "tags": []
   },
   "outputs": [
    {
     "data": {
      "text/plain": [
       "Year                 0\n",
       "Month                0\n",
       "DayofMonth           0\n",
       "DayOfWeek            0\n",
       "Carrier              0\n",
       "OriginAirportID      0\n",
       "OriginAirportName    0\n",
       "OriginCity           0\n",
       "OriginState          0\n",
       "DestAirportID        0\n",
       "DestAirportName      0\n",
       "DestCity             0\n",
       "DestState            0\n",
       "CRSDepTime           0\n",
       "DepDelay             0\n",
       "DepDel15             0\n",
       "CRSArrTime           0\n",
       "ArrDelay             0\n",
       "ArrDel15             0\n",
       "Cancelled            0\n",
       "dtype: int64"
      ]
     },
     "execution_count": 7,
     "metadata": {},
     "output_type": "execute_result"
    }
   ],
   "source": [
    "df_flights.DepDel15 = df_flights.DepDel15.fillna(0)\n",
    "df_flights.isnull().sum()"
   ]
  },
  {
   "cell_type": "markdown",
   "id": "453a6975",
   "metadata": {
    "papermill": {
     "duration": 0.009169,
     "end_time": "2022-06-12T07:09:41.787779",
     "exception": false,
     "start_time": "2022-06-12T07:09:41.778610",
     "status": "completed"
    },
    "tags": []
   },
   "source": [
    "## Clean outliers\n",
    "View the distribution and summary statistics for the **DepDelay** and **ArrDelay** columns."
   ]
  },
  {
   "cell_type": "code",
   "execution_count": 8,
   "id": "25d3a695",
   "metadata": {
    "execution": {
     "iopub.execute_input": "2022-06-12T07:09:41.808221Z",
     "iopub.status.busy": "2022-06-12T07:09:41.807532Z",
     "iopub.status.idle": "2022-06-12T07:09:42.510240Z",
     "shell.execute_reply": "2022-06-12T07:09:42.509479Z"
    },
    "papermill": {
     "duration": 0.715302,
     "end_time": "2022-06-12T07:09:42.512374",
     "exception": false,
     "start_time": "2022-06-12T07:09:41.797072",
     "status": "completed"
    },
    "tags": []
   },
   "outputs": [
    {
     "name": "stdout",
     "output_type": "stream",
     "text": [
      "DepDelay \n",
      "Minimum:-63.00\n",
      "Mean:10.35\n",
      "Median:-1.00\n",
      "Mode:-3.00\n",
      "Maximum:1425.00\n",
      "\n",
      "ArrDelay \n",
      "Minimum:-75.00\n",
      "Mean:6.50\n",
      "Median:-3.00\n",
      "Mode:0.00\n",
      "Maximum:1440.00\n",
      "\n"
     ]
    },
    {
     "data": {
      "image/png": "[encoded data removed]",
      "text/plain": [
       "<Figure size 720x288 with 2 Axes>"
      ]
     },
     "metadata": {
      "needs_background": "light"
     },
     "output_type": "display_data"
    },
    {
     "data": {
      "image/png": "[encoded data removed]",
      "text/plain": [
       "<Figure size 720x288 with 2 Axes>"
      ]
     },
     "metadata": {
      "needs_background": "light"
     },
     "output_type": "display_data"
    }
   ],
   "source": [
    "# Function to show summary stats and distribution for a column\n",
    "def show_distribution(var_data):\n",
    "    from matplotlib import pyplot as plt\n",
    "\n",
    "    # Get statistics\n",
    "    min_val = var_data.min()\n",
    "    max_val = var_data.max()\n",
    "    mean_val = var_data.mean()\n",
    "    med_val = var_data.median()\n",
    "    mod_val = var_data.mode()[0]\n",
    "\n",
    "    print(var_data.name,'\\nMinimum:{:.2f}\\nMean:{:.2f}\\nMedian:{:.2f}\\nMode:{:.2f}\\nMaximum:{:.2f}\\n'.format(min_val,\n",
    "                                                                                            mean_val,\n",
    "                                                                                            med_val,\n",
    "                                                                                            mod_val,\n",
    "                                                                                            max_val))\n",
    "\n",
    "    # Create a figure for 2 subplots (2 rows, 1 column)\n",
    "    fig, ax = plt.subplots(2, 1, figsize = (10,4))\n",
    "\n",
    "    # Plot the histogram   \n",
    "    ax[0].hist(var_data)\n",
    "    ax[0].set_ylabel('Frequency')\n",
    "\n",
    "    # Add lines for the mean, median, and mode\n",
    "    ax[0].axvline(x=min_val, color = 'gray', linestyle='dashed', linewidth = 2)\n",
    "    ax[0].axvline(x=mean_val, color = 'cyan', linestyle='dashed', linewidth = 2)\n",
    "    ax[0].axvline(x=med_val, color = 'red', linestyle='dashed', linewidth = 2)\n",
    "    ax[0].axvline(x=mod_val, color = 'yellow', linestyle='dashed', linewidth = 2)\n",
    "    ax[0].axvline(x=max_val, color = 'gray', linestyle='dashed', linewidth = 2)\n",
    "\n",
    "    # Plot the boxplot   \n",
    "    ax[1].boxplot(var_data, vert=False)\n",
    "    ax[1].set_xlabel('Value')\n",
    "\n",
    "    # Add a title to the Figure\n",
    "    fig.suptitle(var_data.name)\n",
    "\n",
    "    # Show the figure\n",
    "    fig.show()\n",
    "\n",
    "    \n",
    "# Call the function for each delay field\n",
    "delayFields = ['DepDelay','ArrDelay']\n",
    "for col in delayFields:\n",
    "    show_distribution(df_flights[col])"
   ]
  },
  {
   "cell_type": "markdown",
   "id": "b9c1112f",
   "metadata": {
    "papermill": {
     "duration": 0.010239,
     "end_time": "2022-06-12T07:09:42.532971",
     "exception": false,
     "start_time": "2022-06-12T07:09:42.522732",
     "status": "completed"
    },
    "tags": []
   },
   "source": [
    "There are a outliers at the lower and upper ends of both variables - particularly at the upper end.\n",
    "\n",
    "Let's trim the data so that we include only rows where the values for these fields are within the 1st and 90th percentile."
   ]
  },
  {
   "cell_type": "code",
   "execution_count": 9,
   "id": "60059f7c",
   "metadata": {
    "execution": {
     "iopub.execute_input": "2022-06-12T07:09:42.555275Z",
     "iopub.status.busy": "2022-06-12T07:09:42.554501Z",
     "iopub.status.idle": "2022-06-12T07:09:43.441757Z",
     "shell.execute_reply": "2022-06-12T07:09:43.440831Z"
    },
    "papermill": {
     "duration": 0.900826,
     "end_time": "2022-06-12T07:09:43.443952",
     "exception": false,
     "start_time": "2022-06-12T07:09:42.543126",
     "status": "completed"
    },
    "tags": []
   },
   "outputs": [
    {
     "name": "stdout",
     "output_type": "stream",
     "text": [
      "DepDelay \n",
      "Minimum:-11.00\n",
      "Mean:-0.92\n",
      "Median:-2.00\n",
      "Mode:-3.00\n",
      "Maximum:16.00\n",
      "\n",
      "ArrDelay \n",
      "Minimum:-32.00\n",
      "Mean:-5.03\n",
      "Median:-6.00\n",
      "Mode:0.00\n",
      "Maximum:37.00\n",
      "\n"
     ]
    },
    {
     "data": {
      "image/png": "[encoded data removed]",
      "text/plain": [
       "<Figure size 720x288 with 2 Axes>"
      ]
     },
     "metadata": {
      "needs_background": "light"
     },
     "output_type": "display_data"
    },
    {
     "data": {
      "image/png": "[encoded data removed]",
      "text/plain": [
       "<Figure size 720x288 with 2 Axes>"
      ]
     },
     "metadata": {
      "needs_background": "light"
     },
     "output_type": "display_data"
    }
   ],
   "source": [
    "# Trim outliers for ArrDelay based on 1% and 90% percentiles\n",
    "ArrDelay_01pcntile = df_flights.ArrDelay.quantile(0.01)\n",
    "ArrDelay_90pcntile = df_flights.ArrDelay.quantile(0.90)\n",
    "df_flights = df_flights[df_flights.ArrDelay < ArrDelay_90pcntile]\n",
    "df_flights = df_flights[df_flights.ArrDelay > ArrDelay_01pcntile]\n",
    "\n",
    "# Trim outliers for DepDelay based on 1% and 90% percentiles\n",
    "DepDelay_01pcntile = df_flights.DepDelay.quantile(0.01)\n",
    "DepDelay_90pcntile = df_flights.DepDelay.quantile(0.90)\n",
    "df_flights = df_flights[df_flights.DepDelay < DepDelay_90pcntile]\n",
    "df_flights = df_flights[df_flights.DepDelay > DepDelay_01pcntile]\n",
    "\n",
    "# View the revised distributions\n",
    "for col in delayFields:\n",
    "    show_distribution(df_flights[col])"
   ]
  },
  {
   "cell_type": "markdown",
   "id": "86d0bd73",
   "metadata": {
    "papermill": {
     "duration": 0.011781,
     "end_time": "2022-06-12T07:09:43.466662",
     "exception": false,
     "start_time": "2022-06-12T07:09:43.454881",
     "status": "completed"
    },
    "tags": []
   },
   "source": [
    "That looks a bit better.\n",
    "\n",
    "## Explore the data\n",
    "Let's start with an overall view of the summary statistics for the numeric columns."
   ]
  },
  {
   "cell_type": "code",
   "execution_count": 10,
   "id": "70563e29",
   "metadata": {
    "execution": {
     "iopub.execute_input": "2022-06-12T07:09:43.490349Z",
     "iopub.status.busy": "2022-06-12T07:09:43.489663Z",
     "iopub.status.idle": "2022-06-12T07:09:43.614808Z",
     "shell.execute_reply": "2022-06-12T07:09:43.614153Z"
    },
    "papermill": {
     "duration": 0.139152,
     "end_time": "2022-06-12T07:09:43.616783",
     "exception": false,
     "start_time": "2022-06-12T07:09:43.477631",
     "status": "completed"
    },
    "tags": []
   },
   "outputs": [
    {
     "data": {
      "text/html": [
       "<div>\n",
       "<style scoped>\n",
       "    .dataframe tbody tr th:only-of-type {\n",
       "        vertical-align: middle;\n",
       "    }\n",
       "\n",
       "    .dataframe tbody tr th {\n",
       "        vertical-align: top;\n",
       "    }\n",
       "\n",
       "    .dataframe thead th {\n",
       "        text-align: right;\n",
       "    }\n",
       "</style>\n",
       "<table border=\"1\" class=\"dataframe\">\n",
       "  <thead>\n",
       "    <tr style=\"text-align: right;\">\n",
       "      <th></th>\n",
       "      <th>Year</th>\n",
       "      <th>Month</th>\n",
       "      <th>DayofMonth</th>\n",
       "      <th>DayOfWeek</th>\n",
       "      <th>OriginAirportID</th>\n",
       "      <th>DestAirportID</th>\n",
       "      <th>CRSDepTime</th>\n",
       "      <th>DepDelay</th>\n",
       "      <th>DepDel15</th>\n",
       "      <th>CRSArrTime</th>\n",
       "      <th>ArrDelay</th>\n",
       "      <th>ArrDel15</th>\n",
       "      <th>Cancelled</th>\n",
       "    </tr>\n",
       "  </thead>\n",
       "  <tbody>\n",
       "    <tr>\n",
       "      <th>count</th>\n",
       "      <td>214397.0</td>\n",
       "      <td>214397.000000</td>\n",
       "      <td>214397.000000</td>\n",
       "      <td>214397.000000</td>\n",
       "      <td>214397.000000</td>\n",
       "      <td>214397.000000</td>\n",
       "      <td>214397.000000</td>\n",
       "      <td>214397.000000</td>\n",
       "      <td>214397.000000</td>\n",
       "      <td>214397.000000</td>\n",
       "      <td>214397.000000</td>\n",
       "      <td>214397.000000</td>\n",
       "      <td>214397.000000</td>\n",
       "    </tr>\n",
       "    <tr>\n",
       "      <th>mean</th>\n",
       "      <td>2013.0</td>\n",
       "      <td>7.018368</td>\n",
       "      <td>15.794703</td>\n",
       "      <td>3.902737</td>\n",
       "      <td>12757.827661</td>\n",
       "      <td>12726.276147</td>\n",
       "      <td>1278.223879</td>\n",
       "      <td>-0.921692</td>\n",
       "      <td>0.018116</td>\n",
       "      <td>1461.406596</td>\n",
       "      <td>-5.030276</td>\n",
       "      <td>0.068602</td>\n",
       "      <td>0.013228</td>\n",
       "    </tr>\n",
       "    <tr>\n",
       "      <th>std</th>\n",
       "      <td>0.0</td>\n",
       "      <td>2.006398</td>\n",
       "      <td>8.859118</td>\n",
       "      <td>1.997744</td>\n",
       "      <td>1510.058629</td>\n",
       "      <td>1506.251757</td>\n",
       "      <td>469.440262</td>\n",
       "      <td>5.708594</td>\n",
       "      <td>0.133371</td>\n",
       "      <td>485.676457</td>\n",
       "      <td>11.424280</td>\n",
       "      <td>0.252776</td>\n",
       "      <td>0.114249</td>\n",
       "    </tr>\n",
       "    <tr>\n",
       "      <th>min</th>\n",
       "      <td>2013.0</td>\n",
       "      <td>4.000000</td>\n",
       "      <td>1.000000</td>\n",
       "      <td>1.000000</td>\n",
       "      <td>10140.000000</td>\n",
       "      <td>10140.000000</td>\n",
       "      <td>1.000000</td>\n",
       "      <td>-11.000000</td>\n",
       "      <td>0.000000</td>\n",
       "      <td>1.000000</td>\n",
       "      <td>-32.000000</td>\n",
       "      <td>0.000000</td>\n",
       "      <td>0.000000</td>\n",
       "    </tr>\n",
       "    <tr>\n",
       "      <th>25%</th>\n",
       "      <td>2013.0</td>\n",
       "      <td>5.000000</td>\n",
       "      <td>8.000000</td>\n",
       "      <td>2.000000</td>\n",
       "      <td>11292.000000</td>\n",
       "      <td>11292.000000</td>\n",
       "      <td>850.000000</td>\n",
       "      <td>-5.000000</td>\n",
       "      <td>0.000000</td>\n",
       "      <td>1054.000000</td>\n",
       "      <td>-13.000000</td>\n",
       "      <td>0.000000</td>\n",
       "      <td>0.000000</td>\n",
       "    </tr>\n",
       "    <tr>\n",
       "      <th>50%</th>\n",
       "      <td>2013.0</td>\n",
       "      <td>7.000000</td>\n",
       "      <td>16.000000</td>\n",
       "      <td>4.000000</td>\n",
       "      <td>12892.000000</td>\n",
       "      <td>12892.000000</td>\n",
       "      <td>1235.000000</td>\n",
       "      <td>-2.000000</td>\n",
       "      <td>0.000000</td>\n",
       "      <td>1445.000000</td>\n",
       "      <td>-6.000000</td>\n",
       "      <td>0.000000</td>\n",
       "      <td>0.000000</td>\n",
       "    </tr>\n",
       "    <tr>\n",
       "      <th>75%</th>\n",
       "      <td>2013.0</td>\n",
       "      <td>9.000000</td>\n",
       "      <td>23.000000</td>\n",
       "      <td>6.000000</td>\n",
       "      <td>14100.000000</td>\n",
       "      <td>14057.000000</td>\n",
       "      <td>1655.000000</td>\n",
       "      <td>1.000000</td>\n",
       "      <td>0.000000</td>\n",
       "      <td>1845.000000</td>\n",
       "      <td>2.000000</td>\n",
       "      <td>0.000000</td>\n",
       "      <td>0.000000</td>\n",
       "    </tr>\n",
       "    <tr>\n",
       "      <th>max</th>\n",
       "      <td>2013.0</td>\n",
       "      <td>10.000000</td>\n",
       "      <td>31.000000</td>\n",
       "      <td>7.000000</td>\n",
       "      <td>15376.000000</td>\n",
       "      <td>15376.000000</td>\n",
       "      <td>2359.000000</td>\n",
       "      <td>16.000000</td>\n",
       "      <td>1.000000</td>\n",
       "      <td>2359.000000</td>\n",
       "      <td>37.000000</td>\n",
       "      <td>1.000000</td>\n",
       "      <td>1.000000</td>\n",
       "    </tr>\n",
       "  </tbody>\n",
       "</table>\n",
       "</div>"
      ],
      "text/plain": [
       "           Year          Month     DayofMonth      DayOfWeek  OriginAirportID  \\\n",
       "count  214397.0  214397.000000  214397.000000  214397.000000    214397.000000   \n",
       "mean     2013.0       7.018368      15.794703       3.902737     12757.827661   \n",
       "std         0.0       2.006398       8.859118       1.997744      1510.058629   \n",
       "min      2013.0       4.000000       1.000000       1.000000     10140.000000   \n",
       "25%      2013.0       5.000000       8.000000       2.000000     11292.000000   \n",
       "50%      2013.0       7.000000      16.000000       4.000000     12892.000000   \n",
       "75%      2013.0       9.000000      23.000000       6.000000     14100.000000   \n",
       "max      2013.0      10.000000      31.000000       7.000000     15376.000000   \n",
       "\n",
       "       DestAirportID     CRSDepTime       DepDelay       DepDel15  \\\n",
       "count  214397.000000  214397.000000  214397.000000  214397.000000   \n",
       "mean    12726.276147    1278.223879      -0.921692       0.018116   \n",
       "std      1506.251757     469.440262       5.708594       0.133371   \n",
       "min     10140.000000       1.000000     -11.000000       0.000000   \n",
       "25%     11292.000000     850.000000      -5.000000       0.000000   \n",
       "50%     12892.000000    1235.000000      -2.000000       0.000000   \n",
       "75%     14057.000000    1655.000000       1.000000       0.000000   \n",
       "max     15376.000000    2359.000000      16.000000       1.000000   \n",
       "\n",
       "          CRSArrTime       ArrDelay       ArrDel15      Cancelled  \n",
       "count  214397.000000  214397.000000  214397.000000  214397.000000  \n",
       "mean     1461.406596      -5.030276       0.068602       0.013228  \n",
       "std       485.676457      11.424280       0.252776       0.114249  \n",
       "min         1.000000     -32.000000       0.000000       0.000000  \n",
       "25%      1054.000000     -13.000000       0.000000       0.000000  \n",
       "50%      1445.000000      -6.000000       0.000000       0.000000  \n",
       "75%      1845.000000       2.000000       0.000000       0.000000  \n",
       "max      2359.000000      37.000000       1.000000       1.000000  "
      ]
     },
     "execution_count": 10,
     "metadata": {},
     "output_type": "execute_result"
    }
   ],
   "source": [
    "df_flights.describe()"
   ]
  },
  {
   "cell_type": "markdown",
   "id": "e6d6eae7",
   "metadata": {
    "papermill": {
     "duration": 0.011082,
     "end_time": "2022-06-12T07:09:43.638952",
     "exception": false,
     "start_time": "2022-06-12T07:09:43.627870",
     "status": "completed"
    },
    "tags": []
   },
   "source": [
    "## What are the mean departure and arrival delays?"
   ]
  },
  {
   "cell_type": "code",
   "execution_count": 11,
   "id": "d235096a",
   "metadata": {
    "execution": {
     "iopub.execute_input": "2022-06-12T07:09:43.663651Z",
     "iopub.status.busy": "2022-06-12T07:09:43.663032Z",
     "iopub.status.idle": "2022-06-12T07:09:43.672217Z",
     "shell.execute_reply": "2022-06-12T07:09:43.671482Z"
    },
    "papermill": {
     "duration": 0.02359,
     "end_time": "2022-06-12T07:09:43.674116",
     "exception": false,
     "start_time": "2022-06-12T07:09:43.650526",
     "status": "completed"
    },
    "tags": []
   },
   "outputs": [
    {
     "data": {
      "text/plain": [
       "DepDelay   -0.921692\n",
       "ArrDelay   -5.030276\n",
       "dtype: float64"
      ]
     },
     "execution_count": 11,
     "metadata": {},
     "output_type": "execute_result"
    }
   ],
   "source": [
    "df_flights[delayFields].mean()"
   ]
  },
  {
   "cell_type": "markdown",
   "id": "cce7d6bd",
   "metadata": {
    "papermill": {
     "duration": 0.011271,
     "end_time": "2022-06-12T07:09:43.696776",
     "exception": false,
     "start_time": "2022-06-12T07:09:43.685505",
     "status": "completed"
    },
    "tags": []
   },
   "source": [
    "## How do the carriers compare in terms of arrival delay performance?"
   ]
  },
  {
   "cell_type": "code",
   "execution_count": 12,
   "id": "04df0a7d",
   "metadata": {
    "execution": {
     "iopub.execute_input": "2022-06-12T07:09:43.721629Z",
     "iopub.status.busy": "2022-06-12T07:09:43.720988Z",
     "iopub.status.idle": "2022-06-12T07:09:45.089941Z",
     "shell.execute_reply": "2022-06-12T07:09:45.088847Z"
    },
    "papermill": {
     "duration": 1.384634,
     "end_time": "2022-06-12T07:09:45.092899",
     "exception": false,
     "start_time": "2022-06-12T07:09:43.708265",
     "status": "completed"
    },
    "tags": []
   },
   "outputs": [
    {
     "data": {
      "image/png": "[encoded data removed]",
      "text/plain": [
       "<Figure size 576x576 with 1 Axes>"
      ]
     },
     "metadata": {
      "needs_background": "light"
     },
     "output_type": "display_data"
    },
    {
     "data": {
      "image/png": "[encoded data removed]",
      "text/plain": [
       "<Figure size 576x576 with 1 Axes>"
      ]
     },
     "metadata": {
      "needs_background": "light"
     },
     "output_type": "display_data"
    }
   ],
   "source": [
    "for col in delayFields:\n",
    "    df_flights.boxplot(column=col, by='Carrier', figsize=(8,8))"
   ]
  },
  {
   "cell_type": "markdown",
   "id": "63e35885",
   "metadata": {
    "papermill": {
     "duration": 0.01378,
     "end_time": "2022-06-12T07:09:45.119247",
     "exception": false,
     "start_time": "2022-06-12T07:09:45.105467",
     "status": "completed"
    },
    "tags": []
   },
   "source": [
    "## Are some days of the week more prone to arrival days than others?"
   ]
  },
  {
   "cell_type": "code",
   "execution_count": 13,
   "id": "95f332a6",
   "metadata": {
    "execution": {
     "iopub.execute_input": "2022-06-12T07:09:45.150572Z",
     "iopub.status.busy": "2022-06-12T07:09:45.149896Z",
     "iopub.status.idle": "2022-06-12T07:09:46.249135Z",
     "shell.execute_reply": "2022-06-12T07:09:46.248170Z"
    },
    "papermill": {
     "duration": 1.117521,
     "end_time": "2022-06-12T07:09:46.251331",
     "exception": false,
     "start_time": "2022-06-12T07:09:45.133810",
     "status": "completed"
    },
    "tags": []
   },
   "outputs": [
    {
     "data": {
      "image/png": "[encoded data removed]",
      "text/plain": [
       "<Figure size 576x576 with 1 Axes>"
      ]
     },
     "metadata": {
      "needs_background": "light"
     },
     "output_type": "display_data"
    },
    {
     "data": {
      "image/png": "[encoded data removed]",
      "text/plain": [
       "<Figure size 576x576 with 1 Axes>"
      ]
     },
     "metadata": {
      "needs_background": "light"
     },
     "output_type": "display_data"
    }
   ],
   "source": [
    "for col in delayFields:\n",
    "    df_flights.boxplot(column=col, by='DayOfWeek', figsize=(8,8))"
   ]
  },
  {
   "cell_type": "markdown",
   "id": "ba66e577",
   "metadata": {
    "papermill": {
     "duration": 0.012344,
     "end_time": "2022-06-12T07:09:46.276800",
     "exception": false,
     "start_time": "2022-06-12T07:09:46.264456",
     "status": "completed"
    },
    "tags": []
   },
   "source": [
    "## Which departure airport has the highest average departure delay?"
   ]
  },
  {
   "cell_type": "code",
   "execution_count": 14,
   "id": "2a018823",
   "metadata": {
    "execution": {
     "iopub.execute_input": "2022-06-12T07:09:46.304134Z",
     "iopub.status.busy": "2022-06-12T07:09:46.303723Z",
     "iopub.status.idle": "2022-06-12T07:09:47.803922Z",
     "shell.execute_reply": "2022-06-12T07:09:47.802929Z"
    },
    "papermill": {
     "duration": 1.516888,
     "end_time": "2022-06-12T07:09:47.806730",
     "exception": false,
     "start_time": "2022-06-12T07:09:46.289842",
     "status": "completed"
    },
    "tags": []
   },
   "outputs": [
    {
     "data": {
      "text/html": [
       "<div>\n",
       "<style scoped>\n",
       "    .dataframe tbody tr th:only-of-type {\n",
       "        vertical-align: middle;\n",
       "    }\n",
       "\n",
       "    .dataframe tbody tr th {\n",
       "        vertical-align: top;\n",
       "    }\n",
       "\n",
       "    .dataframe thead th {\n",
       "        text-align: right;\n",
       "    }\n",
       "</style>\n",
       "<table border=\"1\" class=\"dataframe\">\n",
       "  <thead>\n",
       "    <tr style=\"text-align: right;\">\n",
       "      <th></th>\n",
       "      <th>DepDelay</th>\n",
       "    </tr>\n",
       "    <tr>\n",
       "      <th>OriginAirportName</th>\n",
       "      <th></th>\n",
       "    </tr>\n",
       "  </thead>\n",
       "  <tbody>\n",
       "    <tr>\n",
       "      <th>Chicago Midway International</th>\n",
       "      <td>2.365960</td>\n",
       "    </tr>\n",
       "    <tr>\n",
       "      <th>Dallas Love Field</th>\n",
       "      <td>2.148798</td>\n",
       "    </tr>\n",
       "    <tr>\n",
       "      <th>William P Hobby</th>\n",
       "      <td>1.561927</td>\n",
       "    </tr>\n",
       "    <tr>\n",
       "      <th>Metropolitan Oakland International</th>\n",
       "      <td>0.964853</td>\n",
       "    </tr>\n",
       "    <tr>\n",
       "      <th>Denver International</th>\n",
       "      <td>0.807272</td>\n",
       "    </tr>\n",
       "    <tr>\n",
       "      <th>...</th>\n",
       "      <td>...</td>\n",
       "    </tr>\n",
       "    <tr>\n",
       "      <th>Memphis International</th>\n",
       "      <td>-2.962737</td>\n",
       "    </tr>\n",
       "    <tr>\n",
       "      <th>Tucson International</th>\n",
       "      <td>-2.989154</td>\n",
       "    </tr>\n",
       "    <tr>\n",
       "      <th>Ted Stevens Anchorage International</th>\n",
       "      <td>-3.149758</td>\n",
       "    </tr>\n",
       "    <tr>\n",
       "      <th>Richmond International</th>\n",
       "      <td>-3.198073</td>\n",
       "    </tr>\n",
       "    <tr>\n",
       "      <th>Long Beach Airport</th>\n",
       "      <td>-3.447844</td>\n",
       "    </tr>\n",
       "  </tbody>\n",
       "</table>\n",
       "<p>70 rows × 1 columns</p>\n",
       "</div>"
      ],
      "text/plain": [
       "                                     DepDelay\n",
       "OriginAirportName                            \n",
       "Chicago Midway International         2.365960\n",
       "Dallas Love Field                    2.148798\n",
       "William P Hobby                      1.561927\n",
       "Metropolitan Oakland International   0.964853\n",
       "Denver International                 0.807272\n",
       "...                                       ...\n",
       "Memphis International               -2.962737\n",
       "Tucson International                -2.989154\n",
       "Ted Stevens Anchorage International -3.149758\n",
       "Richmond International              -3.198073\n",
       "Long Beach Airport                  -3.447844\n",
       "\n",
       "[70 rows x 1 columns]"
      ]
     },
     "execution_count": 14,
     "metadata": {},
     "output_type": "execute_result"
    },
    {
     "data": {
      "image/png": "[encoded data removed]",
      "text/plain": [
       "<Figure size 864x864 with 1 Axes>"
      ]
     },
     "metadata": {
      "needs_background": "light"
     },
     "output_type": "display_data"
    }
   ],
   "source": [
    "departure_airport_group = df_flights.groupby(df_flights.OriginAirportName)\n",
    "\n",
    "mean_departure_delays = pd.DataFrame(departure_airport_group['DepDelay'].mean()).sort_values('DepDelay', ascending=False)\n",
    "mean_departure_delays.plot(kind = \"bar\", figsize=(12,12))\n",
    "mean_departure_delays"
   ]
  },
  {
   "cell_type": "markdown",
   "id": "b00707c7",
   "metadata": {
    "papermill": {
     "duration": 0.014037,
     "end_time": "2022-06-12T07:09:47.835494",
     "exception": false,
     "start_time": "2022-06-12T07:09:47.821457",
     "status": "completed"
    },
    "tags": []
   },
   "source": [
    "## Do late departures tend to result in longer arrival delays than on-time departures?"
   ]
  },
  {
   "cell_type": "code",
   "execution_count": 15,
   "id": "a710048e",
   "metadata": {
    "execution": {
     "iopub.execute_input": "2022-06-12T07:09:47.865628Z",
     "iopub.status.busy": "2022-06-12T07:09:47.865143Z",
     "iopub.status.idle": "2022-06-12T07:09:48.425462Z",
     "shell.execute_reply": "2022-06-12T07:09:48.424399Z"
    },
    "papermill": {
     "duration": 0.57787,
     "end_time": "2022-06-12T07:09:48.427663",
     "exception": false,
     "start_time": "2022-06-12T07:09:47.849793",
     "status": "completed"
    },
    "tags": []
   },
   "outputs": [
    {
     "data": {
      "text/plain": [
       "<AxesSubplot:title={'center':'ArrDelay'}, xlabel='DepDel15'>"
      ]
     },
     "execution_count": 15,
     "metadata": {},
     "output_type": "execute_result"
    },
    {
     "data": {
      "image/png": "[encoded data removed]",
      "text/plain": [
       "<Figure size 864x864 with 1 Axes>"
      ]
     },
     "metadata": {
      "needs_background": "light"
     },
     "output_type": "display_data"
    }
   ],
   "source": [
    "df_flights.boxplot(column='ArrDelay', by='DepDel15', figsize=(12,12))"
   ]
  },
  {
   "cell_type": "markdown",
   "id": "2ea11926",
   "metadata": {
    "papermill": {
     "duration": 0.014927,
     "end_time": "2022-06-12T07:09:48.457725",
     "exception": false,
     "start_time": "2022-06-12T07:09:48.442798",
     "status": "completed"
    },
    "tags": []
   },
   "source": [
    "## Which route (from origin airport to destination airport) has the most late arrivals?"
   ]
  },
  {
   "cell_type": "code",
   "execution_count": 16,
   "id": "c76c2e9c",
   "metadata": {
    "execution": {
     "iopub.execute_input": "2022-06-12T07:09:48.490090Z",
     "iopub.status.busy": "2022-06-12T07:09:48.489691Z",
     "iopub.status.idle": "2022-06-12T07:09:48.662995Z",
     "shell.execute_reply": "2022-06-12T07:09:48.662269Z"
    },
    "papermill": {
     "duration": 0.191221,
     "end_time": "2022-06-12T07:09:48.664859",
     "exception": false,
     "start_time": "2022-06-12T07:09:48.473638",
     "status": "completed"
    },
    "tags": []
   },
   "outputs": [
    {
     "data": {
      "text/html": [
       "<div>\n",
       "<style scoped>\n",
       "    .dataframe tbody tr th:only-of-type {\n",
       "        vertical-align: middle;\n",
       "    }\n",
       "\n",
       "    .dataframe tbody tr th {\n",
       "        vertical-align: top;\n",
       "    }\n",
       "\n",
       "    .dataframe thead th {\n",
       "        text-align: right;\n",
       "    }\n",
       "</style>\n",
       "<table border=\"1\" class=\"dataframe\">\n",
       "  <thead>\n",
       "    <tr style=\"text-align: right;\">\n",
       "      <th></th>\n",
       "      <th>ArrDel15</th>\n",
       "    </tr>\n",
       "    <tr>\n",
       "      <th>Route</th>\n",
       "      <th></th>\n",
       "    </tr>\n",
       "  </thead>\n",
       "  <tbody>\n",
       "    <tr>\n",
       "      <th>San Francisco International &gt; Los Angeles International</th>\n",
       "      <td>90</td>\n",
       "    </tr>\n",
       "    <tr>\n",
       "      <th>Los Angeles International &gt; San Francisco International</th>\n",
       "      <td>69</td>\n",
       "    </tr>\n",
       "    <tr>\n",
       "      <th>LaGuardia &gt; Hartsfield-Jackson Atlanta International</th>\n",
       "      <td>68</td>\n",
       "    </tr>\n",
       "    <tr>\n",
       "      <th>Los Angeles International &gt; John F. Kennedy International</th>\n",
       "      <td>52</td>\n",
       "    </tr>\n",
       "    <tr>\n",
       "      <th>LaGuardia &gt; Charlotte Douglas International</th>\n",
       "      <td>51</td>\n",
       "    </tr>\n",
       "    <tr>\n",
       "      <th>...</th>\n",
       "      <td>...</td>\n",
       "    </tr>\n",
       "    <tr>\n",
       "      <th>Logan International &gt; Austin - Bergstrom International</th>\n",
       "      <td>0</td>\n",
       "    </tr>\n",
       "    <tr>\n",
       "      <th>Logan International &gt; Memphis International</th>\n",
       "      <td>0</td>\n",
       "    </tr>\n",
       "    <tr>\n",
       "      <th>Logan International &gt; Port Columbus International</th>\n",
       "      <td>0</td>\n",
       "    </tr>\n",
       "    <tr>\n",
       "      <th>San Diego International &gt; Cincinnati/Northern Kentucky International</th>\n",
       "      <td>0</td>\n",
       "    </tr>\n",
       "    <tr>\n",
       "      <th>Louis Armstrong New Orleans International &gt; San Francisco International</th>\n",
       "      <td>0</td>\n",
       "    </tr>\n",
       "  </tbody>\n",
       "</table>\n",
       "<p>2479 rows × 1 columns</p>\n",
       "</div>"
      ],
      "text/plain": [
       "                                                    ArrDel15\n",
       "Route                                                       \n",
       "San Francisco International > Los Angeles Inter...        90\n",
       "Los Angeles International > San Francisco Inter...        69\n",
       "LaGuardia > Hartsfield-Jackson Atlanta Internat...        68\n",
       "Los Angeles International > John F. Kennedy Int...        52\n",
       "LaGuardia > Charlotte Douglas International               51\n",
       "...                                                      ...\n",
       "Logan International > Austin - Bergstrom Intern...         0\n",
       "Logan International > Memphis International                0\n",
       "Logan International > Port Columbus International          0\n",
       "San Diego International > Cincinnati/Northern K...         0\n",
       "Louis Armstrong New Orleans International > San...         0\n",
       "\n",
       "[2479 rows x 1 columns]"
      ]
     },
     "execution_count": 16,
     "metadata": {},
     "output_type": "execute_result"
    }
   ],
   "source": [
    "# Add a routes column\n",
    "routes  = pd.Series(df_flights['OriginAirportName'] + ' > ' + df_flights['DestAirportName'])\n",
    "df_flights = pd.concat([df_flights, routes.rename(\"Route\")], axis=1)\n",
    "\n",
    "# Group by routes\n",
    "route_group = df_flights.groupby(df_flights.Route)\n",
    "pd.DataFrame(route_group['ArrDel15'].sum()).sort_values('ArrDel15', ascending=False)"
   ]
  },
  {
   "cell_type": "markdown",
   "id": "fd858f09",
   "metadata": {
    "papermill": {
     "duration": 0.014874,
     "end_time": "2022-06-12T07:09:48.694883",
     "exception": false,
     "start_time": "2022-06-12T07:09:48.680009",
     "status": "completed"
    },
    "tags": []
   },
   "source": [
    "## Which route has the highest average arrival delay?"
   ]
  },
  {
   "cell_type": "code",
   "execution_count": 17,
   "id": "8c570a2b",
   "metadata": {
    "execution": {
     "iopub.execute_input": "2022-06-12T07:09:48.727351Z",
     "iopub.status.busy": "2022-06-12T07:09:48.726730Z",
     "iopub.status.idle": "2022-06-12T07:09:48.741715Z",
     "shell.execute_reply": "2022-06-12T07:09:48.740763Z"
    },
    "papermill": {
     "duration": 0.03337,
     "end_time": "2022-06-12T07:09:48.743880",
     "exception": false,
     "start_time": "2022-06-12T07:09:48.710510",
     "status": "completed"
    },
    "tags": []
   },
   "outputs": [
    {
     "data": {
      "text/html": [
       "<div>\n",
       "<style scoped>\n",
       "    .dataframe tbody tr th:only-of-type {\n",
       "        vertical-align: middle;\n",
       "    }\n",
       "\n",
       "    .dataframe tbody tr th {\n",
       "        vertical-align: top;\n",
       "    }\n",
       "\n",
       "    .dataframe thead th {\n",
       "        text-align: right;\n",
       "    }\n",
       "</style>\n",
       "<table border=\"1\" class=\"dataframe\">\n",
       "  <thead>\n",
       "    <tr style=\"text-align: right;\">\n",
       "      <th></th>\n",
       "      <th>ArrDelay</th>\n",
       "    </tr>\n",
       "    <tr>\n",
       "      <th>Route</th>\n",
       "      <th></th>\n",
       "    </tr>\n",
       "  </thead>\n",
       "  <tbody>\n",
       "    <tr>\n",
       "      <th>Louis Armstrong New Orleans International &gt; Ronald Reagan Washington National</th>\n",
       "      <td>24.500000</td>\n",
       "    </tr>\n",
       "    <tr>\n",
       "      <th>Cleveland-Hopkins International &gt; Palm Beach International</th>\n",
       "      <td>18.000000</td>\n",
       "    </tr>\n",
       "    <tr>\n",
       "      <th>John F. Kennedy International &gt; Louisville International-Standiford Field</th>\n",
       "      <td>18.000000</td>\n",
       "    </tr>\n",
       "    <tr>\n",
       "      <th>Cleveland-Hopkins International &gt; Philadelphia International</th>\n",
       "      <td>12.800000</td>\n",
       "    </tr>\n",
       "    <tr>\n",
       "      <th>Memphis International &gt; Denver International</th>\n",
       "      <td>9.758621</td>\n",
       "    </tr>\n",
       "    <tr>\n",
       "      <th>...</th>\n",
       "      <td>...</td>\n",
       "    </tr>\n",
       "    <tr>\n",
       "      <th>Lambert-St. Louis International &gt; Cleveland-Hopkins International</th>\n",
       "      <td>-20.000000</td>\n",
       "    </tr>\n",
       "    <tr>\n",
       "      <th>Eppley Airfield &gt; LaGuardia</th>\n",
       "      <td>-20.750000</td>\n",
       "    </tr>\n",
       "    <tr>\n",
       "      <th>Denver International &gt; Kahului Airport</th>\n",
       "      <td>-22.666667</td>\n",
       "    </tr>\n",
       "    <tr>\n",
       "      <th>Jacksonville International &gt; Chicago Midway International</th>\n",
       "      <td>-24.125000</td>\n",
       "    </tr>\n",
       "    <tr>\n",
       "      <th>Indianapolis International &gt; Logan International</th>\n",
       "      <td>-26.000000</td>\n",
       "    </tr>\n",
       "  </tbody>\n",
       "</table>\n",
       "<p>2479 rows × 1 columns</p>\n",
       "</div>"
      ],
      "text/plain": [
       "                                                     ArrDelay\n",
       "Route                                                        \n",
       "Louis Armstrong New Orleans International > Ron...  24.500000\n",
       "Cleveland-Hopkins International > Palm Beach In...  18.000000\n",
       "John F. Kennedy International > Louisville Inte...  18.000000\n",
       "Cleveland-Hopkins International > Philadelphia ...  12.800000\n",
       "Memphis International > Denver International         9.758621\n",
       "...                                                       ...\n",
       "Lambert-St. Louis International > Cleveland-Hop... -20.000000\n",
       "Eppley Airfield > LaGuardia                        -20.750000\n",
       "Denver International > Kahului Airport             -22.666667\n",
       "Jacksonville International > Chicago Midway Int... -24.125000\n",
       "Indianapolis International > Logan International   -26.000000\n",
       "\n",
       "[2479 rows x 1 columns]"
      ]
     },
     "execution_count": 17,
     "metadata": {},
     "output_type": "execute_result"
    }
   ],
   "source": [
    "pd.DataFrame(route_group['ArrDelay'].mean()).sort_values('ArrDelay', ascending=False)"
   ]
  }
 ],
 "metadata": {
  "kernelspec": {
   "display_name": "Python 3",
   "language": "python",
   "name": "python3"
  },
  "language_info": {
   "codemirror_mode": {
    "name": "ipython",
    "version": 3
   },
   "file_extension": ".py",
   "mimetype": "text/x-python",
   "name": "python",
   "nbconvert_exporter": "python",
   "pygments_lexer": "ipython3",
   "version": "3.7.12"
  },
  "papermill": {
   "default_parameters": {},
   "duration": 22.046293,
   "end_time": "2022-06-12T07:09:49.481027",
   "environment_variables": {},
   "exception": null,
   "input_path": "__notebook__.ipynb",
   "output_path": "__notebook__.ipynb",
   "parameters": {},
   "start_time": "2022-06-12T07:09:27.434734",
   "version": "2.3.4"
  }
 },
 "nbformat": 4,
 "nbformat_minor": 5
}
